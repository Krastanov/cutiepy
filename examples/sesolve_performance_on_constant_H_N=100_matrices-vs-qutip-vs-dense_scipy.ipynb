{
 "cells": [
  {
   "cell_type": "code",
   "execution_count": 1,
   "metadata": {
    "collapsed": false
   },
   "outputs": [],
   "source": [
    "import cutiepy\n",
    "cutiepy.interactive.INTERACTIVE = False\n",
    "import qutip\n",
    "import numpy as np\n",
    "import scipy\n",
    "N = 100\n",
    "ts = np.linspace(0,1000,100)"
   ]
  },
  {
   "cell_type": "markdown",
   "metadata": {},
   "source": [
    "#qutip"
   ]
  },
  {
   "cell_type": "code",
   "execution_count": 2,
   "metadata": {
    "collapsed": false
   },
   "outputs": [
    {
     "name": "stdout",
     "output_type": "stream",
     "text": [
      "CPU times: user 2 s, sys: 228 ms, total: 2.23 s\n",
      "Wall time: 1.96 s\n",
      "CPU times: user 1.94 s, sys: 0 ns, total: 1.94 s\n",
      "Wall time: 1.94 s\n",
      "[[ 0.13538037+0.j        ]\n",
      " [ 0.15226989-0.22388607j]\n",
      " [-0.14070393-0.35612185j]\n",
      " [-0.43138871-0.09691328j]] 1.0\n"
     ]
    }
   ],
   "source": [
    "init = qutip.coherent(N,2)\n",
    "H = qutip.num(N)\n",
    "opt = qutip.Options(rhs_reuse=True)\n",
    "%time res = qutip.sesolve(H,init,ts,[], options=opt)\n",
    "%time res = qutip.sesolve(H,init,ts,[], options=opt)\n",
    "print(res.states[-1].data.A[:4], res.states[-1].norm())"
   ]
  },
  {
   "cell_type": "markdown",
   "metadata": {},
   "source": [
    "#cutiepy"
   ]
  },
  {
   "cell_type": "code",
   "execution_count": 3,
   "metadata": {
    "collapsed": false
   },
   "outputs": [
    {
     "name": "stdout",
     "output_type": "stream",
     "text": [
      "CPU times: user 2.78 s, sys: 28 ms, total: 2.81 s\n",
      "Wall time: 6.69 s\n",
      "CPU times: user 1.43 s, sys: 0 ns, total: 1.43 s\n",
      "Wall time: 1.43 s\n",
      "[[ 0.13533528+0.j        ]\n",
      " [ 0.20064000+0.18167593j]\n",
      " [ 0.03788156+0.38090694j]\n",
      " [-0.26279469+0.35539523j]] 0.999999596058\n"
     ]
    }
   ],
   "source": [
    "init = cutiepy.coherent(N,2)\n",
    "H = cutiepy.num(N)\n",
    "%time res = cutiepy.sesolve(H, init, np.linspace(0,1000,100))\n",
    "%time res = cutiepy.sesolve(H, init, np.linspace(0,1000,100))\n",
    "print(res[-1].numerical[:4], np.linalg.norm(res[-1].numerical))"
   ]
  },
  {
   "cell_type": "markdown",
   "metadata": {},
   "source": [
    "#scipy (dense)"
   ]
  },
  {
   "cell_type": "code",
   "execution_count": 4,
   "metadata": {
    "collapsed": false
   },
   "outputs": [
    {
     "name": "stdout",
     "output_type": "stream",
     "text": [
      "[[ 0.13533528+0.j        ]\n",
      " [ 0.15221946-0.22381195j]\n",
      " [-0.14065830-0.3560059j ]\n",
      " [-0.43125246-0.09688203j]] 0.999703107528\n",
      "CPU times: user 5.74 s, sys: 6 s, total: 11.7 s\n",
      "Wall time: 3.09 s\n"
     ]
    }
   ],
   "source": [
    "%%time\n",
    "H = qutip.num(N).data.A\n",
    "op = -1j*H\n",
    "f = lambda t, state: op.dot(state)\n",
    "ode = scipy.integrate.ode(f)                                             \n",
    "ode.set_integrator('zvode', method='adams', rtol=1e-6, atol=1e-8, nsteps=1000)                                      \n",
    "state0_num = qutip.coherent(N,2).data.A\n",
    "ode.set_initial_value(state0_num, ts[0])                                     \n",
    "res = [state0_num]                                                              \n",
    "for t in ts[1:]:                                                             \n",
    "    ode.integrate(t)                                                            \n",
    "    if not ode.successful():                                                    \n",
    "        RuntimeError('The ODE solver failed.') \n",
    "    #y = ode.y                    \n",
    "    #n = scipy.linalg.norm(y)     \n",
    "    #y /= n                       \n",
    "    #ode.set_initial_value(y, t)  \n",
    "    res.append(ode.y)                                                           \n",
    "print(res[-1][:4], np.linalg.norm(res[-1]))"
   ]
  }
 ],
 "metadata": {
  "kernelspec": {
   "display_name": "Python 3",
   "language": "python",
   "name": "python3"
  },
  "language_info": {
   "codemirror_mode": {
    "name": "ipython",
    "version": 3
   },
   "file_extension": ".py",
   "mimetype": "text/x-python",
   "name": "python",
   "nbconvert_exporter": "python",
   "pygments_lexer": "ipython3",
   "version": "3.4.2"
  }
 },
 "nbformat": 4,
 "nbformat_minor": 0
}
