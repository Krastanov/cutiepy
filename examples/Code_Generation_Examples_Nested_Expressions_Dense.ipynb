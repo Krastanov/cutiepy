{
 "cells": [
  {
   "cell_type": "code",
   "execution_count": 1,
   "metadata": {
    "collapsed": false
   },
   "outputs": [],
   "source": [
    "from cutiepy import *\n",
    "import numpy as np\n",
    "N = 4\n",
    "cutiepy.operators.SPARSITY_N_CUTOFF = max(cutiepy.operators.SPARSITY_N_CUTOFF, N+1)\n",
    "\n",
    "op1 = randomH(N)\n",
    "op2 = randomH(N)\n",
    "op3 = randomH(N)\n",
    "op4 = randomH(N)\n",
    "id = identity(N)\n",
    "a = destroy(N)\n",
    "ad = create(N)\n",
    "\n",
    "y_anon = Ket.anon(N)\n",
    "def compile_and_test(op):\n",
    "    print('Generating code...', flush=True)\n",
    "    cf = generate_cython(evalf(op*y_anon),         \n",
    "                         func=NDArrayFunction(),            \n",
    "                         argument_order = [t,y_anon])\n",
    "    print('Compiling code...', flush=True)\n",
    "    ccf = cf.compiled()\n",
    "    print('Executing...', flush=True)\n",
    "    return ccf.pythoncall(1, 1j*np.random.random([N,1]))"
   ]
  },
  {
   "cell_type": "code",
   "execution_count": 2,
   "metadata": {
    "collapsed": false
   },
   "outputs": [
    {
     "name": "stdout",
     "output_type": "stream",
     "text": [
      "Generating code...\n",
      "Compiling code...\n",
      "Executing...\n"
     ]
    },
    {
     "data": {
      "text/plain": [
       "array([[ 0.39220584+1.50986594j],\n",
       "       [ 0.44567630+1.12454048j],\n",
       "       [-0.25913388+1.65840452j],\n",
       "       [-0.22000740+1.79391584j]])"
      ]
     },
     "execution_count": 2,
     "metadata": {},
     "output_type": "execute_result"
    }
   ],
   "source": [
    "opA = op1+t**2*op2\n",
    "compile_and_test( opA )"
   ]
  },
  {
   "cell_type": "code",
   "execution_count": 3,
   "metadata": {
    "collapsed": false
   },
   "outputs": [
    {
     "name": "stdout",
     "output_type": "stream",
     "text": [
      "Generating code...\n",
      "Compiling code...\n",
      "Executing...\n"
     ]
    },
    {
     "data": {
      "text/plain": [
       "array([[ 0.87901682+6.53269267j],\n",
       "       [ 0.61676963+4.74113624j],\n",
       "       [-1.03019657+5.51961716j],\n",
       "       [-1.04746180+6.49085124j]])"
      ]
     },
     "execution_count": 3,
     "metadata": {},
     "output_type": "execute_result"
    }
   ],
   "source": [
    "opB = op3+sin(2*t+1)*op4\n",
    "compile_and_test( opA*opB )"
   ]
  },
  {
   "cell_type": "code",
   "execution_count": 4,
   "metadata": {
    "collapsed": false
   },
   "outputs": [
    {
     "name": "stdout",
     "output_type": "stream",
     "text": [
      "Generating code...\n",
      "Compiling code...\n",
      "Executing...\n"
     ]
    },
    {
     "data": {
      "text/plain": [
       "array([[ 10.68751240+53.18384143j],\n",
       "       [  5.65960234+38.63249045j],\n",
       "       [ -7.85495684+43.35971249j],\n",
       "       [ -7.08511521+51.14608402j]])"
      ]
     },
     "execution_count": 4,
     "metadata": {},
     "output_type": "execute_result"
    }
   ],
   "source": [
    "opC = opA*opB**3\n",
    "compile_and_test( opC )"
   ]
  },
  {
   "cell_type": "code",
   "execution_count": 5,
   "metadata": {
    "collapsed": false
   },
   "outputs": [
    {
     "name": "stdout",
     "output_type": "stream",
     "text": [
      "Generating code...\n",
      "Compiling code...\n",
      "Executing...\n"
     ]
    },
    {
     "data": {
      "text/plain": [
       "array([[ 8.66382188 +4.63132334j],\n",
       "       [ 8.57670763 +8.03356004j],\n",
       "       [-1.51521564 +8.51919037j],\n",
       "       [ 1.49904262+12.87144706j]])"
      ]
     },
     "execution_count": 5,
     "metadata": {},
     "output_type": "execute_result"
    }
   ],
   "source": [
    "opD = Commutator(opA, opC)\n",
    "compile_and_test( opD )"
   ]
  },
  {
   "cell_type": "code",
   "execution_count": 6,
   "metadata": {
    "collapsed": false
   },
   "outputs": [
    {
     "name": "stdout",
     "output_type": "stream",
     "text": [
      "Generating code...\n",
      "Compiling code...\n",
      "Executing...\n"
     ]
    },
    {
     "data": {
      "text/plain": [
       "array([[ 1331.55685158 +129.39942676j],\n",
       "       [ 1919.56873767-1017.09648145j],\n",
       "       [ -989.00460167 -620.27003444j],\n",
       "       [-1062.40809049+2472.29812356j]])"
      ]
     },
     "execution_count": 6,
     "metadata": {},
     "output_type": "execute_result"
    }
   ],
   "source": [
    "opE = cutiepy.symbolic._CG_AppliedLindbladSuperoperator(evalf(opD), evalf(opB))\n",
    "compile_and_test( opE )"
   ]
  },
  {
   "cell_type": "code",
   "execution_count": 7,
   "metadata": {
    "collapsed": false
   },
   "outputs": [
    {
     "name": "stdout",
     "output_type": "stream",
     "text": [
      "Generating code...\n",
      "Compiling code...\n",
      "Executing...\n"
     ]
    },
    {
     "data": {
      "text/plain": [
       "array([[ 2510.53655097 +279.64113049j],\n",
       "       [ 3745.57415777-2317.49873757j],\n",
       "       [-2135.18048374-1685.48702959j],\n",
       "       [-2988.40268042+5211.05186236j]])"
      ]
     },
     "execution_count": 7,
     "metadata": {},
     "output_type": "execute_result"
    }
   ],
   "source": [
    "opF = 2*opE\n",
    "compile_and_test( opF )"
   ]
  }
 ],
 "metadata": {
  "kernelspec": {
   "display_name": "Python 3",
   "language": "python",
   "name": "python3"
  },
  "language_info": {
   "codemirror_mode": {
    "name": "ipython",
    "version": 3
   },
   "file_extension": ".py",
   "mimetype": "text/x-python",
   "name": "python",
   "nbconvert_exporter": "python",
   "pygments_lexer": "ipython3",
   "version": "3.4.2"
  }
 },
 "nbformat": 4,
 "nbformat_minor": 0
}
