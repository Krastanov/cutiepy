{
 "cells": [
  {
   "cell_type": "code",
   "execution_count": 1,
   "metadata": {
    "collapsed": false
   },
   "outputs": [],
   "source": [
    "import cutiepy\n",
    "cutiepy.interactive.INTERACTIVE = False\n",
    "cutiepy.operators.SPARSITY_N_CUTOFF = 1000\n",
    "\n",
    "import qutip\n",
    "qutip_rhs_reuse = True\n",
    "\n",
    "import numpy as np\n",
    "import scipy\n",
    "%matplotlib inline\n",
    "import matplotlib.pyplot as plt\n",
    "\n",
    "n_small_cutoffs = list(range(  2,  10     ))\n",
    "n_med_cutoffs   = list(range( 10, 100,  10))\n",
    "n_big_cutoffs   = list(range(100, 600, 100))\n",
    "ns = [n_small_cutoffs, n_med_cutoffs, n_big_cutoffs]\n",
    "periods = [100, 10, 1]\n",
    "\n",
    "def cutiepy_sym_state(n):\n",
    "    return cutiepy.Ket.anon([n], np.ones((n,1), dtype=complex)/n**0.5)\n",
    "\n",
    "def qutip_sym_state(n):\n",
    "    return qutip.Qobj(np.ones((n,1), dtype=complex)/n**0.5)\n",
    "\n",
    "from timeit import repeat\n",
    "\n",
    "setup = '''\n",
    "import cutiepy\n",
    "cutiepy.interactive.INTERACTIVE = False\n",
    "cutiepy.operators.SPARSITY_N_CUTOFF = 1000\n",
    "\n",
    "import qutip\n",
    "qutip_rhs_reuse = True\n",
    "\n",
    "import numpy as np\n",
    "import scipy\n",
    "\n",
    "def cutiepy_sym_state(n):\n",
    "    return cutiepy.Ket.anon([n], np.ones((n,1), dtype=complex)/n**0.5)\n",
    "def qutip_sym_state(n):\n",
    "    return qutip.Qobj(np.ones((n,1), dtype=complex)/n**0.5)\n",
    "'''\n",
    "\n",
    "def parametric_timeit(ex_, setup_, params):\n",
    "    res = []\n",
    "    for _ns, _p in zip(ns, params):\n",
    "        _res = []\n",
    "        for _n in _ns:\n",
    "            print('\\r p=%d, n=%d'%(_p,_n), end='', flush=True)\n",
    "            _r = repeat(ex_, setup+setup_.format(param=_p, N_cutoff=_n),repeat=5,number=1)\n",
    "            _res.append(_r)\n",
    "        res.append(_res)\n",
    "    print('\\r Done!')\n",
    "    return res\n",
    "\n",
    "def plot_times(datas, labels):\n",
    "    datas = [[np.array([sorted(_runs) for _runs in _vsn]) for _vsn in data]\n",
    "             for data in datas]\n",
    "    plt.figure(figsize=(14,3))\n",
    "    for data in datas:\n",
    "        plt.subplot(1,3,1)\n",
    "        plt.plot(n_small_cutoffs, data[0][:,0], 'o')\n",
    "        plt.subplot(1,3,2)\n",
    "        plt.plot(n_med_cutoffs, data[1][:,0], 'o')\n",
    "        plt.subplot(1,3,3)\n",
    "        plt.plot(n_big_cutoffs, data[2][:,0], 'o')\n",
    "    plt.subplot(1,3,1)\n",
    "    plt.ylabel('seconds')\n",
    "    plt.xlabel('problem dimension')\n",
    "    plt.title('%d periods'%periods[0])\n",
    "    plt.subplot(1,3,2)\n",
    "    plt.title('%d periods'%periods[1])\n",
    "    plt.subplot(1,3,3)\n",
    "    plt.legend(labels, loc=2)\n",
    "    plt.title('%d period'%periods[2])"
   ]
  },
  {
   "cell_type": "markdown",
   "metadata": {},
   "source": [
    "# Time independent"
   ]
  },
  {
   "cell_type": "code",
   "execution_count": 3,
   "metadata": {
    "collapsed": false
   },
   "outputs": [
    {
     "name": "stdout",
     "output_type": "stream",
     "text": [
      " Done!\n"
     ]
    }
   ],
   "source": [
    "setup_q = '''\n",
    "ts = np.linspace(0,{param}*np.pi,{param}*10)\n",
    "init = qutip_sym_state({N_cutoff})\n",
    "H = qutip.num({N_cutoff})\n",
    "opt = qutip.Options(rhs_reuse=qutip_rhs_reuse, nsteps=1000*{N_cutoff})\n",
    "'''\n",
    "ex_q = '''\n",
    "res = qutip.sesolve(H,init,ts,[], options=opt)\n",
    "'''\n",
    "\n",
    "HARM_OSC_SYM_STATE_qutip = parametric_timeit(ex_q, setup_q, periods)"
   ]
  },
  {
   "cell_type": "code",
   "execution_count": 16,
   "metadata": {
    "collapsed": false
   },
   "outputs": [
    {
     "name": "stdout",
     "output_type": "stream",
     "text": [
      " Done!\n"
     ]
    }
   ],
   "source": [
    "setup_c = '''\n",
    "ts = np.linspace(0,{param}*np.pi,{param}*10)\n",
    "init = cutiepy_sym_state({N_cutoff})\n",
    "H = cutiepy.num({N_cutoff})\n",
    "mxsteps = 1000*{N_cutoff}\n",
    "'''\n",
    "ex_c = '''\n",
    "res = cutiepy.sesolve(H,init,ts, mxsteps=mxsteps)\n",
    "'''\n",
    "\n",
    "HARM_OSC_SYM_STATE_cutiepy = parametric_timeit(ex_c, setup_c, periods)"
   ]
  },
  {
   "cell_type": "code",
   "execution_count": 26,
   "metadata": {
    "collapsed": false
   },
   "outputs": [
    {
     "data": {
      "image/png": "[encoded data removed]",
      "text/plain": [
       "<matplotlib.figure.Figure at 0x7fe3550b4dd8>"
      ]
     },
     "metadata": {},
     "output_type": "display_data"
    }
   ],
   "source": [
    "plot_times([HARM_OSC_SYM_STATE_cutiepy, HARM_OSC_SYM_STATE_qutip], ['cutiepy', 'qutip'])"
   ]
  },
  {
   "cell_type": "markdown",
   "metadata": {},
   "source": [
    "# Time dependent"
   ]
  },
  {
   "cell_type": "code",
   "execution_count": 42,
   "metadata": {
    "collapsed": false
   },
   "outputs": [
    {
     "name": "stdout",
     "output_type": "stream",
     "text": [
      " Done!\n"
     ]
    }
   ],
   "source": [
    "setup_q = '''\n",
    "ts = np.linspace(0,{param}*np.pi/10,{param}*10)\n",
    "init = qutip_sym_state({N_cutoff})\n",
    "H0 = qutip.zero_oper({N_cutoff})\n",
    "H = qutip.num({N_cutoff})\n",
    "tdep = 't/({param}*np.pi)'\n",
    "opt = qutip.Options(rhs_reuse=qutip_rhs_reuse, nsteps=1000*{N_cutoff})\n",
    "'''\n",
    "ex_q = '''\n",
    "res = qutip.mesolve([H0,[H,tdep]],init,ts,[],[], options=opt)\n",
    "'''\n",
    "\n",
    "HARM_OSC_RAMP_SYM_STATE_qutip = parametric_timeit(ex_q, setup_q, periods)"
   ]
  },
  {
   "cell_type": "code",
   "execution_count": 45,
   "metadata": {
    "collapsed": false
   },
   "outputs": [
    {
     "name": "stdout",
     "output_type": "stream",
     "text": [
      " Done!\n"
     ]
    }
   ],
   "source": [
    "setup_c = '''\n",
    "ts = np.linspace(0,{param}*np.pi/10,{param}*10)\n",
    "init = cutiepy_sym_state({N_cutoff})\n",
    "H = cutiepy.num({N_cutoff})*cutiepy.t/({param}*np.pi)\n",
    "mxsteps = 1000*{N_cutoff}\n",
    "'''\n",
    "ex_c = '''\n",
    "res = cutiepy.mesolve(H,[],init,ts, mxsteps=mxsteps)\n",
    "'''\n",
    "\n",
    "HARM_OSC_RAMP_SYM_STATE_cutiepy = parametric_timeit(ex_c, setup_c, periods)"
   ]
  },
  {
   "cell_type": "code",
   "execution_count": 46,
   "metadata": {
    "collapsed": false
   },
   "outputs": [
    {
     "data": {
      "image/png": "[encoded data removed]",
      "text/plain": [
       "<matplotlib.figure.Figure at 0x7fe3448e0780>"
      ]
     },
     "metadata": {},
     "output_type": "display_data"
    }
   ],
   "source": [
    "plot_times([HARM_OSC_RAMP_SYM_STATE_cutiepy, HARM_OSC_RAMP_SYM_STATE_qutip], ['cutiepy', 'qutip'])"
   ]
  },
  {
   "cell_type": "code",
   "execution_count": null,
   "metadata": {
    "collapsed": true
   },
   "outputs": [],
   "source": []
  }
 ],
 "metadata": {
  "kernelspec": {
   "display_name": "Python 3",
   "language": "python",
   "name": "python3"
  },
  "language_info": {
   "codemirror_mode": {
    "name": "ipython",
    "version": 3
   },
   "file_extension": ".py",
   "mimetype": "text/x-python",
   "name": "python",
   "nbconvert_exporter": "python",
   "pygments_lexer": "ipython3",
   "version": "3.4.2"
  }
 },
 "nbformat": 4,
 "nbformat_minor": 0
}
