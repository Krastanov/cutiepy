{
 "cells": [
  {
   "cell_type": "markdown",
   "metadata": {
    "collapsed": false,
    "slideshow": {
     "slide_type": "slide"
    }
   },
   "source": [
    "<div align=\"center\">\n",
    "\n",
    "<h1> Cutiepy* </h1>\n",
    "\n",
    "<h2> \"Cu\" stands for Quantum </h2>\n",
    "\n",
    "<h2> \"tie\" stands for Tools </h2>\n",
    "\n",
    "</div>\n",
    "\\* provisional name"
   ]
  },
  {
   "cell_type": "markdown",
   "metadata": {
    "collapsed": true,
    "slideshow": {
     "slide_type": "slide"
    }
   },
   "source": [
    "# Solving Linear ODEs\n",
    "\n",
    "You need two tools:\n",
    "\n",
    "- Linear Algebra Libraries\n",
    "- ODE solvers"
   ]
  },
  {
   "cell_type": "markdown",
   "metadata": {
    "slideshow": {
     "slide_type": "slide"
    }
   },
   "source": [
    "## Numpy for LinAlg, Scipy for ODE solving\n",
    "\n",
    "`zvode` solver used internally (1980s-1990s)\n",
    "\n",
    "<table>\n",
    "<tr><th>small (N&lt;20)</th><th>big (N&gt;100)</th><th>time dependent</th></tr>\n",
    "<tr>\n",
    "    <td>**Bad** - Severe overhead from python calls</td>\n",
    "    <td>**Depends** - Оverhead from memory allocation (can be worked around)</td>\n",
    "    <td>**Depends** - Any python function works, but python functions are very slow</td></tr>\n",
    "</table>"
   ]
  },
  {
   "cell_type": "code",
   "execution_count": null,
   "metadata": {
    "collapsed": false,
    "slideshow": {
     "slide_type": "slide"
    }
   },
   "outputs": [],
   "source": [
    "ts = np.linspace(...)\n",
    "op = -1j*np.array(...)\n",
    "f_prime = lambda t, state: op*(... t).dot(state)\n",
    "state0_num = np.array(...)                                             \n",
    "ode = scipy.integrate.ode(f_prime) ...\n",
    "res = [state0_num]                                                              \n",
    "for t in ts[1:]:                                                             \n",
    "    ode.integrate(t)                                                            \n",
    "    res.append(ode.y)                                                           \n",
    "print(res[-1])"
   ]
  },
  {
   "cell_type": "markdown",
   "metadata": {
    "slideshow": {
     "slide_type": "slide"
    }
   },
   "source": [
    "## Qutip\n",
    "\n",
    "`zvode` (from Scipy) is used as well, but linear algebra goes to `cython` (most of the time)\n",
    "\n",
    "<table>\n",
    "<tr><th>small (N&lt;20)</th><th>big (N&gt;100)</th><th>time dependent</th></tr>\n",
    "<tr>\n",
    "    <td>**Good** - Noticeable overhead from cython/python calls</td>\n",
    "    <td>**Good** - Minor overhead from cython/python calls</td>\n",
    "    <td>**Bad** - Severely limited in scope and Inconsistent</td></tr>\n",
    "</table>"
   ]
  },
  {
   "cell_type": "code",
   "execution_count": null,
   "metadata": {
    "collapsed": true,
    "slideshow": {
     "slide_type": "slide"
    }
   },
   "outputs": [],
   "source": [
    "qutip.sesolve(H,init,ts,[])"
   ]
  },
  {
   "cell_type": "markdown",
   "metadata": {},
   "source": [
    "if timedependent, `H` has to be:\n",
    "\n",
    "- a python function for `sesolve`\n",
    "- a list of lists (not tuples!?) for `mesolve` and `mcsolve`\n",
    "- only recent versions try to bring some consistency to the interface (not yet done)"
   ]
  },
  {
   "cell_type": "markdown",
   "metadata": {
    "slideshow": {
     "slide_type": "slide"
    }
   },
   "source": [
    "To run $\\hat{H} = \\hat{H}_0 + \\operatorname{sin}(t)\\hat{H}_1$ you write"
   ]
  },
  {
   "cell_type": "code",
   "execution_count": null,
   "metadata": {
    "collapsed": true
   },
   "outputs": [],
   "source": [
    "H = [H0, [H1, 'sin(t)']]"
   ]
  },
  {
   "cell_type": "markdown",
   "metadata": {
    "collapsed": true,
    "slideshow": {
     "slide_type": "slide"
    }
   },
   "source": [
    "## Theano\n",
    "\n",
    "- no built-in solver, but you can use (again) `zvode` (from Scipy)\n",
    "- linear algebra is done internally with various optimizations (including in-place operations)\n",
    "- bad sparse matrix support (getting better)\n",
    "\n",
    "<table>\n",
    "<tr><th>small (N&lt;20)</th><th>big (N&gt;100)</th><th>time dependent</th></tr>\n",
    "<tr>\n",
    "    <td>**Bad** - Severe overhead from theano/python calls</td>\n",
    "    <td>**Good** - Minor overhead from theano/python calls</td>\n",
    "    <td>**Great** - Symbolic optimizations (and in-place operations!)</td></tr>\n",
    "</table>"
   ]
  },
  {
   "cell_type": "markdown",
   "metadata": {
    "slideshow": {
     "slide_type": "slide"
    }
   },
   "source": [
    "## Summary\n",
    "\n",
    "- Everybody uses the old `zvode` through `scipy` (if it has an ODE solver at all).\n",
    "    - bad because if the slow detour through python\n",
    "- Except `Theano` time dependence awkward if supported at all."
   ]
  },
  {
   "cell_type": "markdown",
   "metadata": {
    "slideshow": {
     "slide_type": "slide"
    }
   },
   "source": [
    "<table>\n",
    "<tr><td></td><th>small (N&lt;20)</th><th>big (N&gt;100)</th><th>time dependent</th></tr>\n",
    "<tr><th>Numpy/Scipy</th>\n",
    "    <td>**Bad** - Severe overhead from python calls</td>\n",
    "    <td>**Depends** - Оverhead from memory allocation (can be worked around)</td>\n",
    "    <td>**Depends** - Any python function works, but python functions are very slow</td></tr>\n",
    "<tr><th>Qutip</th>\n",
    "    <td>**Good** - Noticeable overhead from cython/python calls</td>\n",
    "    <td>**Good** - Minor overhead from cython/python calls</td>\n",
    "    <td>**Bad** - Severely limited in scope and Inconsistent</td></tr>\n",
    "<tr><th>Theano</th>\n",
    "    <td>**Bad** - Severe overhead from theano/python calls</td>\n",
    "    <td>**Good** - Minor overhead from theano/python calls</td>\n",
    "    <td>**Great** - Symbolic optimizations (and in-place operations!)</td></tr>\n",
    "<tr><th>Cutiepy</th>\n",
    "    <td>?</td><td>?</td><td>?</td></tr>\n",
    "</table>"
   ]
  },
  {
   "cell_type": "markdown",
   "metadata": {
    "slideshow": {
     "slide_type": "slide"
    }
   },
   "source": [
    "# Cutiepy\n",
    "\n",
    "Having short simple code was as important as making it fast.\n",
    "\n",
    "- code generator (a simple one, <500 lines of code)\n",
    "- symbolic algebra module (also a simple one, <1000 lines of code)"
   ]
  },
  {
   "cell_type": "markdown",
   "metadata": {
    "slideshow": {
     "slide_type": "slide"
    }
   },
   "source": [
    "## Symbolic Expressions"
   ]
  },
  {
   "cell_type": "code",
   "execution_count": 1,
   "metadata": {
    "collapsed": false,
    "slideshow": {
     "slide_type": "-"
    }
   },
   "outputs": [
    {
     "data": {
      "text/latex": [
       "$$\\text{Ket }{| {psi}_{} \\rangle} \\text{ on the space }\\mathbb{C}^{4}\\text{ without an attached numerical content.}$$"
      ],
      "text/plain": [
       "'psi'"
      ]
     },
     "execution_count": 1,
     "metadata": {},
     "output_type": "execute_result"
    }
   ],
   "source": [
    "from cutiepy import *\n",
    "k = Ket('psi', 4)\n",
    "k"
   ]
  },
  {
   "cell_type": "code",
   "execution_count": 2,
   "metadata": {
    "collapsed": false
   },
   "outputs": [
    {
     "data": {
      "text/latex": [
       "$$\\text{Operator }{\\hat{H}_{}} \\text{ on the space }\\mathbb{C}^{4}\\text{ without an attached numerical content.}$$"
      ],
      "text/plain": [
       "'H'"
      ]
     },
     "execution_count": 2,
     "metadata": {},
     "output_type": "execute_result"
    }
   ],
   "source": [
    "H = Operator('H', 4)\n",
    "H"
   ]
  },
  {
   "cell_type": "code",
   "execution_count": 3,
   "metadata": {
    "collapsed": false,
    "slideshow": {
     "slide_type": "slide"
    }
   },
   "outputs": [
    {
     "data": {
      "text/latex": [
       "$${{\\hat{H}_{}}\\tiny\\otimes\\normalsize{\\hat{H}_{}}}$$"
      ],
      "text/plain": [
       "TensorProd('H', 'H')"
      ]
     },
     "execution_count": 3,
     "metadata": {},
     "output_type": "execute_result"
    }
   ],
   "source": [
    "tensor(H,H)"
   ]
  },
  {
   "cell_type": "code",
   "execution_count": 4,
   "metadata": {
    "collapsed": false
   },
   "outputs": [
    {
     "data": {
      "text/latex": [
       "$$\\text{Ket }{| {psi}_{2} \\rangle} \\text{ on the space }\\mathbb{C}^{2}\\otimes\\mathbb{C}^{2}\\text{ without an attached numerical content.}$$"
      ],
      "text/plain": [
       "'psi_2'"
      ]
     },
     "execution_count": 4,
     "metadata": {},
     "output_type": "execute_result"
    }
   ],
   "source": [
    "k2 = Ket('psi_2', [2,2])\n",
    "k2"
   ]
  },
  {
   "cell_type": "code",
   "execution_count": 5,
   "metadata": {
    "collapsed": false
   },
   "outputs": [
    {
     "data": {
      "text/latex": [
       "$${{\\operatorname{sin}\\left( {{{2}\\tiny\\times\\normalsize{t}}} \\right)}\\tiny\\times\\normalsize{{\\hat{H}_{}}{| {psi}_{} \\rangle}}}$$"
      ],
      "text/plain": [
       "Mul(sin(Mul(2, 't')), Dot('H', 'psi'))"
      ]
     },
     "execution_count": 5,
     "metadata": {},
     "output_type": "execute_result"
    }
   ],
   "source": [
    "sin(2*t)*H*k"
   ]
  },
  {
   "cell_type": "markdown",
   "metadata": {
    "slideshow": {
     "slide_type": "slide"
    }
   },
   "source": [
    "## Numerical Content"
   ]
  },
  {
   "cell_type": "code",
   "execution_count": 6,
   "metadata": {
    "collapsed": false
   },
   "outputs": [
    {
     "data": {
      "text/latex": [
       "$$\\text{Ket }{| {phi}_{} \\rangle} \\text{ on the space }\\mathbb{C}^{4}\\text{ with numerical content: }$$\n",
       "$$\\begin{equation*}\\left(\\begin{array}{*{11}c}0.0\\\\0.0\\\\0.0\\\\1.0\\\\\\end{array}\\right)\\end{equation*}$$"
      ],
      "text/plain": [
       "'phi'"
      ]
     },
     "execution_count": 6,
     "metadata": {},
     "output_type": "execute_result"
    }
   ],
   "source": [
    "import numpy as np\n",
    "Ket('phi', 4, np.array([0,0,0,1], dtype=complex))"
   ]
  },
  {
   "cell_type": "markdown",
   "metadata": {
    "slideshow": {
     "slide_type": "slide"
    }
   },
   "source": [
    "## Built-in Operators (I should work a bit more on this)"
   ]
  },
  {
   "cell_type": "code",
   "execution_count": 7,
   "metadata": {
    "collapsed": false
   },
   "outputs": [
    {
     "data": {
      "text/latex": [
       "$$\\text{Operator }{\\hat{σ}_{x}} \\text{ on the space }\\mathbb{C}^{2}\\text{ with numerical content: }$$\n",
       "$$\\begin{equation*}\\left(\\begin{array}{*{11}c}0.0 & 1.0\\\\1.0 & 0.0\\\\\\end{array}\\right)\\end{equation*}$$"
      ],
      "text/plain": [
       "'σ_x'"
      ]
     },
     "execution_count": 7,
     "metadata": {},
     "output_type": "execute_result"
    }
   ],
   "source": [
    "sigmax()"
   ]
  },
  {
   "cell_type": "code",
   "execution_count": 8,
   "metadata": {
    "collapsed": false
   },
   "outputs": [
    {
     "data": {
      "text/latex": [
       "$$\\text{Operator }{\\hat{{n}}_{{3}}} \\text{ on the space }\\mathbb{C}^{3}\\text{ with numerical content: }$$\n",
       "$$\\begin{equation*}\\left(\\begin{array}{*{11}c}0.0 & 0.0 & 0.0\\\\0.0 & 1.0 & 0.0\\\\0.0 & 0.0 & 2.0\\\\\\end{array}\\right)\\end{equation*}$$"
      ],
      "text/plain": [
       "'{n}_{3}'"
      ]
     },
     "execution_count": 8,
     "metadata": {},
     "output_type": "execute_result"
    }
   ],
   "source": [
    "num(3)"
   ]
  },
  {
   "cell_type": "markdown",
   "metadata": {
    "slideshow": {
     "slide_type": "slide"
    }
   },
   "source": [
    "## Lazy evaluation of expressions"
   ]
  },
  {
   "cell_type": "code",
   "execution_count": 9,
   "metadata": {
    "collapsed": false
   },
   "outputs": [
    {
     "data": {
      "text/latex": [
       "$${{\\hat{σ}_{x}}{\\hat{σ}_{y}}}$$"
      ],
      "text/plain": [
       "Dot('σ_x', 'σ_y')"
      ]
     },
     "execution_count": 9,
     "metadata": {},
     "output_type": "execute_result"
    }
   ],
   "source": [
    "expression = sigmax()*sigmay()\n",
    "expression"
   ]
  },
  {
   "cell_type": "code",
   "execution_count": 10,
   "metadata": {
    "collapsed": false
   },
   "outputs": [
    {
     "data": {
      "text/latex": [
       "$$\\text{Anonymous }\\text{Operator }{\\hat{\\tiny\\boxed{{O}_{abb0e9ed...}}\\normalsize}_{}} \\text{ on the space }\\mathbb{C}^{2}\\text{ with numerical content: }$$\n",
       "$$\\begin{equation*}\\left(\\begin{array}{*{11}c}1.0j & 0.0\\\\0.0 & -1.0j\\\\\\end{array}\\right)\\end{equation*}$$"
      ],
      "text/plain": [
       "'abb0e9ed-8192-47fb-bdf5-14bd0c66eb47'"
      ]
     },
     "execution_count": 10,
     "metadata": {},
     "output_type": "execute_result"
    }
   ],
   "source": [
    "evalf(expression)"
   ]
  },
  {
   "cell_type": "markdown",
   "metadata": {
    "slideshow": {
     "slide_type": "slide"
    }
   },
   "source": [
    "## Getting the numerical content"
   ]
  },
  {
   "cell_type": "code",
   "execution_count": 11,
   "metadata": {
    "collapsed": false
   },
   "outputs": [
    {
     "data": {
      "text/plain": [
       "array([[ 0.00000000+0.j,  1.00000000+0.j,  0.00000000+0.j],\n",
       "       [ 0.00000000+0.j,  0.00000000+0.j,  1.41421356+0.j],\n",
       "       [ 0.00000000+0.j,  0.00000000+0.j,  0.00000000+0.j]])"
      ]
     },
     "execution_count": 11,
     "metadata": {},
     "output_type": "execute_result"
    }
   ],
   "source": [
    "numerical(destroy(3))"
   ]
  },
  {
   "cell_type": "markdown",
   "metadata": {
    "slideshow": {
     "slide_type": "slide"
    }
   },
   "source": [
    "## Code generation\n",
    "\n",
    "- All these lazy expressions can be compiled to C (with cython) for very fast evaluation.\n",
    "- Coupled to a modern ODE solver (in C, no python detour)\n",
    "- Hidden behind the `sesolve`, `mesolve`, etc. intefaces"
   ]
  },
  {
   "cell_type": "markdown",
   "metadata": {
    "slideshow": {
     "slide_type": "slide"
    }
   },
   "source": [
    "## Low Level Example\n",
    "\n",
    "No need to worry about this in user code, but interesting if you want to help develop the library"
   ]
  },
  {
   "cell_type": "code",
   "execution_count": 12,
   "metadata": {
    "collapsed": false
   },
   "outputs": [
    {
     "data": {
      "text/latex": [
       "$${{-1j}\\tiny\\times\\normalsize{{\\hat{{n}}_{{2}}}{| {\\tiny\\boxed{{K}_{906adb3b...}}\\normalsize}_{} \\rangle}}}$$"
      ],
      "text/plain": [
       "Mul(-1j, Dot('{n}_{2}', '906adb3b-5950-46a5-8cc3-492f5d50c854'))"
      ]
     },
     "execution_count": 12,
     "metadata": {},
     "output_type": "execute_result"
    }
   ],
   "source": [
    "y = Ket.anon(2)\n",
    "op = -1j*num(2)\n",
    "y_prime = op*y\n",
    "y_prime"
   ]
  },
  {
   "cell_type": "code",
   "execution_count": 13,
   "metadata": {
    "collapsed": false
   },
   "outputs": [],
   "source": [
    "f = generate_cython(y_prime, # Expression\n",
    "                    NDArrayFunction(), # Type of compilation\n",
    "                                       # (whether to couple to an ODE solver)\n",
    "                    [y]) # Arguments for the function"
   ]
  },
  {
   "cell_type": "code",
   "execution_count": 14,
   "metadata": {
    "collapsed": false,
    "scrolled": true,
    "slideshow": {
     "slide_type": "slide"
    }
   },
   "outputs": [
    {
     "data": {
      "text/html": [
       "<!DOCTYPE html PUBLIC \"-//W3C//DTD HTML 4.01//EN\"\n",
       "   \"http://www.w3.org/TR/html4/strict.dtd\">\n",
       "\n",
       "<html>\n",
       "<head>\n",
       "  <title></title>\n",
       "  <meta http-equiv=\"content-type\" content=\"text/html; charset=None\">\n",
       "  <style type=\"text/css\">\n",
       "td.linenos { background-color: #f0f0f0; padding-right: 10px; }\n",
       "span.lineno { background-color: #f0f0f0; padding: 0 5px 0 5px; }\n",
       "pre { line-height: 125%; }\n",
       "body .hll { background-color: #ffffcc }\n",
       "body  { background: #f8f8f8; }\n",
       "body .c { color: #408080; font-style: italic } /* Comment */\n",
       "body .err { border: 1px solid #FF0000 } /* Error */\n",
       "body .k { color: #008000; font-weight: bold } /* Keyword */\n",
       "body .o { color: #666666 } /* Operator */\n",
       "body .cm { color: #408080; font-style: italic } /* Comment.Multiline */\n",
       "body .cp { color: #BC7A00 } /* Comment.Preproc */\n",
       "body .c1 { color: #408080; font-style: italic } /* Comment.Single */\n",
       "body .cs { color: #408080; font-style: italic } /* Comment.Special */\n",
       "body .gd { color: #A00000 } /* Generic.Deleted */\n",
       "body .ge { font-style: italic } /* Generic.Emph */\n",
       "body .gr { color: #FF0000 } /* Generic.Error */\n",
       "body .gh { color: #000080; font-weight: bold } /* Generic.Heading */\n",
       "body .gi { color: #00A000 } /* Generic.Inserted */\n",
       "body .go { color: #888888 } /* Generic.Output */\n",
       "body .gp { color: #000080; font-weight: bold } /* Generic.Prompt */\n",
       "body .gs { font-weight: bold } /* Generic.Strong */\n",
       "body .gu { color: #800080; font-weight: bold } /* Generic.Subheading */\n",
       "body .gt { color: #0044DD } /* Generic.Traceback */\n",
       "body .kc { color: #008000; font-weight: bold } /* Keyword.Constant */\n",
       "body .kd { color: #008000; font-weight: bold } /* Keyword.Declaration */\n",
       "body .kn { color: #008000; font-weight: bold } /* Keyword.Namespace */\n",
       "body .kp { color: #008000 } /* Keyword.Pseudo */\n",
       "body .kr { color: #008000; font-weight: bold } /* Keyword.Reserved */\n",
       "body .kt { color: #B00040 } /* Keyword.Type */\n",
       "body .m { color: #666666 } /* Literal.Number */\n",
       "body .s { color: #BA2121 } /* Literal.String */\n",
       "body .na { color: #7D9029 } /* Name.Attribute */\n",
       "body .nb { color: #008000 } /* Name.Builtin */\n",
       "body .nc { color: #0000FF; font-weight: bold } /* Name.Class */\n",
       "body .no { color: #880000 } /* Name.Constant */\n",
       "body .nd { color: #AA22FF } /* Name.Decorator */\n",
       "body .ni { color: #999999; font-weight: bold } /* Name.Entity */\n",
       "body .ne { color: #D2413A; font-weight: bold } /* Name.Exception */\n",
       "body .nf { color: #0000FF } /* Name.Function */\n",
       "body .nl { color: #A0A000 } /* Name.Label */\n",
       "body .nn { color: #0000FF; font-weight: bold } /* Name.Namespace */\n",
       "body .nt { color: #008000; font-weight: bold } /* Name.Tag */\n",
       "body .nv { color: #19177C } /* Name.Variable */\n",
       "body .ow { color: #AA22FF; font-weight: bold } /* Operator.Word */\n",
       "body .w { color: #bbbbbb } /* Text.Whitespace */\n",
       "body .mb { color: #666666 } /* Literal.Number.Bin */\n",
       "body .mf { color: #666666 } /* Literal.Number.Float */\n",
       "body .mh { color: #666666 } /* Literal.Number.Hex */\n",
       "body .mi { color: #666666 } /* Literal.Number.Integer */\n",
       "body .mo { color: #666666 } /* Literal.Number.Oct */\n",
       "body .sb { color: #BA2121 } /* Literal.String.Backtick */\n",
       "body .sc { color: #BA2121 } /* Literal.String.Char */\n",
       "body .sd { color: #BA2121; font-style: italic } /* Literal.String.Doc */\n",
       "body .s2 { color: #BA2121 } /* Literal.String.Double */\n",
       "body .se { color: #BB6622; font-weight: bold } /* Literal.String.Escape */\n",
       "body .sh { color: #BA2121 } /* Literal.String.Heredoc */\n",
       "body .si { color: #BB6688; font-weight: bold } /* Literal.String.Interpol */\n",
       "body .sx { color: #008000 } /* Literal.String.Other */\n",
       "body .sr { color: #BB6688 } /* Literal.String.Regex */\n",
       "body .s1 { color: #BA2121 } /* Literal.String.Single */\n",
       "body .ss { color: #19177C } /* Literal.String.Symbol */\n",
       "body .bp { color: #008000 } /* Name.Builtin.Pseudo */\n",
       "body .vc { color: #19177C } /* Name.Variable.Class */\n",
       "body .vg { color: #19177C } /* Name.Variable.Global */\n",
       "body .vi { color: #19177C } /* Name.Variable.Instance */\n",
       "body .il { color: #666666 } /* Literal.Number.Integer.Long */\n",
       "\n",
       "  </style>\n",
       "</head>\n",
       "<body>\n",
       "<h2></h2>\n",
       "\n",
       "<div class=\"highlight\"><pre><span class=\"c\">#cython: boundscheck=False, wraparound=False, initializedcheck=False, cdivision=True</span>\n",
       "<span class=\"k\">cimport</span> <span class=\"nn\">numpy</span> <span class=\"k\">as</span> <span class=\"nn\">np</span>\n",
       "<span class=\"k\">import</span> <span class=\"nn\">numpy</span> <span class=\"k\">as</span> <span class=\"nn\">np</span>\n",
       "<span class=\"k\">from</span> <span class=\"nn\">libc.math</span> <span class=\"k\">cimport</span> <span class=\"n\">sin</span><span class=\"p\">,</span> <span class=\"n\">cos</span><span class=\"p\">,</span> <span class=\"n\">exp</span><span class=\"p\">,</span> <span class=\"n\">sinh</span><span class=\"p\">,</span> <span class=\"n\">cosh</span><span class=\"p\">,</span> <span class=\"n\">tan</span><span class=\"p\">,</span> <span class=\"n\">tanh</span><span class=\"p\">,</span> <span class=\"n\">log</span>\n",
       "<span class=\"k\">from</span> <span class=\"nn\">scipy.linalg.cython_blas</span> <span class=\"k\">cimport</span> <span class=\"n\">zgemv</span><span class=\"p\">,</span> <span class=\"n\">zgemm</span>\n",
       "\n",
       "<span class=\"k\">cdef</span> <span class=\"kt\">int</span> <span class=\"nf\">iONE</span><span class=\"o\">=</span><span class=\"mf\">1</span><span class=\"p\">,</span> <span class=\"n\">iZERO</span><span class=\"o\">=</span><span class=\"mf\">0</span>\n",
       "<span class=\"k\">cdef</span> <span class=\"kt\">double</span> <span class=\"kt\">complex</span> <span class=\"nf\">zONE</span><span class=\"o\">=</span><span class=\"mf\">1</span><span class=\"p\">,</span> <span class=\"n\">zZERO</span><span class=\"o\">=</span><span class=\"mf\">0</span><span class=\"p\">,</span> <span class=\"n\">zNHALF</span><span class=\"o\">=-</span><span class=\"mf\">0.5</span>\n",
       "\n",
       "<span class=\"c\"># Declaration of global variables for</span>\n",
       "<span class=\"c\"># - intermediate results</span>\n",
       "<span class=\"c\"># - predefined constants</span>\n",
       "<span class=\"k\">cdef</span> <span class=\"kt\">double</span> <span class=\"kt\">complex</span> [<span class=\"p\">:,</span> <span class=\"p\">:]</span> <span class=\"n\">C</span> <span class=\"o\">=</span> <span class=\"n\">np</span><span class=\"o\">.</span><span class=\"n\">empty</span><span class=\"p\">((</span><span class=\"mf\">2</span><span class=\"p\">,</span> <span class=\"mf\">1</span><span class=\"p\">),</span> <span class=\"n\">dtype</span><span class=\"o\">=</span><span class=\"n\">np</span><span class=\"o\">.</span><span class=\"n\">complex</span><span class=\"p\">)</span>\n",
       "<span class=\"k\">cdef</span> <span class=\"kt\">double</span> <span class=\"kt\">complex</span> [<span class=\"p\">:,</span> <span class=\"p\">:]</span> <span class=\"n\">A</span> <span class=\"c\"># initialized in setup</span>\n",
       "\n",
       "<span class=\"c\"># The generated cython code</span>\n",
       "<span class=\"k\">cdef</span> <span class=\"nf\">generated_function</span><span class=\"p\">(</span>\n",
       "    <span class=\"c\"># input arguments</span>\n",
       "    <span class=\"n\">double</span> <span class=\"nb\">complex</span> <span class=\"p\">[:,</span> <span class=\"p\">:]</span> <span class=\"n\">B</span><span class=\"p\">,</span>\n",
       "    <span class=\"c\"># output argument</span>\n",
       "    <span class=\"n\">double</span> <span class=\"nb\">complex</span> <span class=\"p\">[:,</span> <span class=\"p\">:]</span> <span class=\"n\">D</span>\n",
       "    <span class=\"p\">):</span>\n",
       "    <span class=\"c\"># indices and intermediate values for various matrix operations</span>\n",
       "    <span class=\"k\">cdef</span> <span class=\"kt\">int</span> <span class=\"nf\">i</span><span class=\"p\">,</span> <span class=\"nf\">j</span><span class=\"p\">,</span> <span class=\"nf\">k</span><span class=\"p\">,</span> <span class=\"nf\">ii</span><span class=\"p\">,</span> <span class=\"nf\">jj</span><span class=\"p\">,</span> <span class=\"nf\">kk</span>\n",
       "    <span class=\"k\">cdef</span> <span class=\"kt\">double</span> <span class=\"kt\">complex</span> <span class=\"nf\">c</span>\n",
       "    <span class=\"c\"># intermediate results</span>\n",
       "    <span class=\"k\">global</span> <span class=\"n\">C</span>\n",
       "    <span class=\"c\"># predefined constants</span>\n",
       "    <span class=\"k\">global</span> <span class=\"n\">A</span>\n",
       "    <span class=\"c\"># evaluating the function</span>\n",
       "    <span class=\"c\"># C = A.B</span>\n",
       "    <span class=\"n\">ii</span> <span class=\"o\">=</span> <span class=\"n\">A</span><span class=\"o\">.</span><span class=\"n\">shape</span><span class=\"p\">[</span><span class=\"mf\">0</span><span class=\"p\">]</span>\n",
       "    <span class=\"n\">jj</span> <span class=\"o\">=</span> <span class=\"n\">A</span><span class=\"o\">.</span><span class=\"n\">shape</span><span class=\"p\">[</span><span class=\"mf\">1</span><span class=\"p\">]</span>\n",
       "    <span class=\"n\">kk</span> <span class=\"o\">=</span> <span class=\"n\">B</span><span class=\"o\">.</span><span class=\"n\">shape</span><span class=\"p\">[</span><span class=\"mf\">1</span><span class=\"p\">]</span>\n",
       "    <span class=\"n\">zgemm</span><span class=\"p\">(</span><span class=\"s\">&#39;N&#39;</span><span class=\"p\">,</span> <span class=\"s\">&#39;N&#39;</span><span class=\"p\">,</span> <span class=\"o\">&amp;</span><span class=\"n\">kk</span><span class=\"p\">,</span> <span class=\"o\">&amp;</span><span class=\"n\">ii</span><span class=\"p\">,</span> <span class=\"o\">&amp;</span><span class=\"n\">jj</span><span class=\"p\">,</span> <span class=\"o\">&amp;</span><span class=\"n\">zONE</span><span class=\"p\">,</span> <span class=\"o\">&amp;</span><span class=\"n\">B</span><span class=\"p\">[</span><span class=\"mf\">0</span><span class=\"p\">,</span><span class=\"mf\">0</span><span class=\"p\">],</span> <span class=\"o\">&amp;</span><span class=\"n\">kk</span><span class=\"p\">,</span> <span class=\"o\">&amp;</span><span class=\"n\">A</span><span class=\"p\">[</span><span class=\"mf\">0</span><span class=\"p\">,</span><span class=\"mf\">0</span><span class=\"p\">],</span> <span class=\"o\">&amp;</span><span class=\"n\">jj</span><span class=\"p\">,</span> <span class=\"o\">&amp;</span><span class=\"n\">zZERO</span><span class=\"p\">,</span> <span class=\"o\">&amp;</span><span class=\"n\">C</span><span class=\"p\">[</span><span class=\"mf\">0</span><span class=\"p\">,</span><span class=\"mf\">0</span><span class=\"p\">],</span> <span class=\"o\">&amp;</span><span class=\"n\">kk</span><span class=\"p\">)</span>\n",
       "    <span class=\"c\"># D = -1j*C</span>\n",
       "    <span class=\"n\">ii</span> <span class=\"o\">=</span> <span class=\"n\">C</span><span class=\"o\">.</span><span class=\"n\">shape</span><span class=\"p\">[</span><span class=\"mf\">0</span><span class=\"p\">]</span>\n",
       "    <span class=\"n\">jj</span> <span class=\"o\">=</span> <span class=\"n\">C</span><span class=\"o\">.</span><span class=\"n\">shape</span><span class=\"p\">[</span><span class=\"mf\">1</span><span class=\"p\">]</span>\n",
       "    <span class=\"k\">for</span> <span class=\"n\">i</span> <span class=\"ow\">in</span> <span class=\"nb\">range</span><span class=\"p\">(</span><span class=\"n\">ii</span><span class=\"p\">):</span>\n",
       "        <span class=\"k\">for</span> <span class=\"n\">j</span> <span class=\"ow\">in</span> <span class=\"nb\">range</span><span class=\"p\">(</span><span class=\"n\">jj</span><span class=\"p\">):</span>\n",
       "            <span class=\"n\">D</span><span class=\"p\">[</span><span class=\"n\">i</span><span class=\"p\">,</span><span class=\"n\">j</span><span class=\"p\">]</span> <span class=\"o\">=</span> <span class=\"o\">-</span><span class=\"mf\">1</span><span class=\"n\">j</span><span class=\"o\">*</span><span class=\"n\">C</span><span class=\"p\">[</span><span class=\"n\">i</span><span class=\"p\">,</span><span class=\"n\">j</span><span class=\"p\">]</span>\n",
       "\n",
       "<span class=\"c\"># Function to deliver the constants from python to cython</span>\n",
       "<span class=\"k\">cpdef</span> <span class=\"nf\">setup_generated_function</span><span class=\"p\">(</span>\n",
       "    <span class=\"n\">double</span> <span class=\"nb\">complex</span> <span class=\"p\">[:,</span> <span class=\"p\">:]</span> <span class=\"n\">_A</span>\n",
       "    <span class=\"p\">):</span>\n",
       "    <span class=\"k\">global</span> <span class=\"n\">A</span>\n",
       "    <span class=\"n\">A</span> <span class=\"o\">=</span> <span class=\"n\">_A</span>\n",
       "\n",
       "<span class=\"k\">cpdef</span> <span class=\"kt\">np</span>.<span class=\"kt\">ndarray</span>[<span class=\"kt\">np</span>.<span class=\"nf\">complex_t</span><span class=\"p\">,</span> <span class=\"nf\">ndim</span><span class=\"o\">=</span><span class=\"mf\">2</span><span class=\"p\">]</span> <span class=\"n\">pythoncall</span><span class=\"p\">(</span><span class=\"n\">_0</span><span class=\"p\">):</span>\n",
       "    <span class=\"k\">cdef</span> <span class=\"kt\">np</span>.<span class=\"kt\">ndarray</span>[<span class=\"kt\">np</span>.<span class=\"nf\">complex_t</span><span class=\"p\">,</span> <span class=\"nf\">ndim</span><span class=\"o\">=</span><span class=\"mf\">2</span><span class=\"p\">]</span> <span class=\"n\">result</span> <span class=\"o\">=</span> <span class=\"n\">np</span><span class=\"o\">.</span><span class=\"n\">empty</span><span class=\"p\">((</span><span class=\"mf\">2</span><span class=\"p\">,</span> <span class=\"mf\">1</span><span class=\"p\">),</span> <span class=\"nb\">complex</span><span class=\"p\">)</span>\n",
       "    <span class=\"n\">generated_function</span><span class=\"p\">(</span><span class=\"n\">_0</span><span class=\"p\">,</span> <span class=\"n\">result</span><span class=\"p\">)</span>\n",
       "    <span class=\"k\">return</span> <span class=\"n\">result</span>\n",
       "</pre></div>\n",
       "</body>\n",
       "</html>\n"
      ],
      "text/plain": [
       "<IPython.core.display.HTML object>"
      ]
     },
     "metadata": {},
     "output_type": "display_data"
    }
   ],
   "source": [
    "codegen.DEBUG = True\n",
    "cf = f.compiled()\n",
    "codegen.DEBUG = False"
   ]
  },
  {
   "cell_type": "code",
   "execution_count": 15,
   "metadata": {
    "collapsed": false,
    "slideshow": {
     "slide_type": "slide"
    }
   },
   "outputs": [
    {
     "data": {
      "text/plain": [
       "array([[ 1.+0.j],\n",
       "       [ 1.+0.j]])"
      ]
     },
     "execution_count": 15,
     "metadata": {},
     "output_type": "execute_result"
    }
   ],
   "source": [
    "arg = np.ones((2,1), dtype=complex)\n",
    "arg"
   ]
  },
  {
   "cell_type": "code",
   "execution_count": 16,
   "metadata": {
    "collapsed": false
   },
   "outputs": [
    {
     "data": {
      "text/plain": [
       "array([[ 0.-0.j],\n",
       "       [ 0.-1.j]])"
      ]
     },
     "execution_count": 16,
     "metadata": {},
     "output_type": "execute_result"
    }
   ],
   "source": [
    "cf.pythoncall(arg)"
   ]
  },
  {
   "cell_type": "markdown",
   "metadata": {
    "slideshow": {
     "slide_type": "slide"
    }
   },
   "source": [
    "## High Level Example"
   ]
  },
  {
   "cell_type": "code",
   "execution_count": 17,
   "metadata": {
    "collapsed": false
   },
   "outputs": [
    {
     "data": {
      "text/latex": [
       "$$\\text{Ket }{| {{0}}_{{\\tiny N\\normalsize 2}} \\rangle} \\text{ on the space }\\mathbb{C}^{2}\\text{ with numerical content: }$$\n",
       "$$\\begin{equation*}\\left(\\begin{array}{*{11}c}1.0\\\\0.0\\\\\\end{array}\\right)\\end{equation*}$$"
      ],
      "text/plain": [
       "'{0}_{\\\\tiny N\\\\normalsize 2}'"
      ]
     },
     "execution_count": 17,
     "metadata": {},
     "output_type": "execute_result"
    }
   ],
   "source": [
    "initial_state = basis(2, 0)\n",
    "initial_state"
   ]
  },
  {
   "cell_type": "code",
   "execution_count": 18,
   "metadata": {
    "collapsed": false
   },
   "outputs": [
    {
     "data": {
      "text/latex": [
       "$${\\left( {{0.5}\\tiny\\times\\normalsize{\\hat{σ}_{z}}}+{{0.005}\\tiny\\times\\normalsize{\\operatorname{sin}\\left( {{{1.002}\\tiny\\times\\normalsize{t}}} \\right)}\\tiny\\times\\normalsize{\\hat{σ}_{x}}} \\right)}$$"
      ],
      "text/plain": [
       "Add(Mul(0.5, 'σ_z'), Mul(0.005, sin(Mul(1.002, 't')), 'σ_x'))"
      ]
     },
     "execution_count": 18,
     "metadata": {},
     "output_type": "execute_result"
    }
   ],
   "source": [
    "ω0 = 1\n",
    "Δ = 0.002\n",
    "Ω = 0.005\n",
    "H = ω0/2 * sigmaz() + Ω * sigmax() * sin((ω0+Δ)*t)\n",
    "H"
   ]
  },
  {
   "cell_type": "code",
   "execution_count": 19,
   "metadata": {
    "collapsed": false,
    "slideshow": {
     "slide_type": "slide"
    }
   },
   "outputs": [
    {
     "name": "stderr",
     "output_type": "stream",
     "text": [
      "Generating cython code...\n",
      "Compiling cython code...\n",
      "Running cython code...\n",
      "Starting at 10/29 15:35:05.\n",
      "Finishing at 10/29 15:35:05.\n",
      "Total time: 0 seconds.\n",
      "Formatting the output...\n"
     ]
    }
   ],
   "source": [
    "ts = 2*np.pi/Ω*np.linspace(0,1,40)\n",
    "res = sesolve(H, initial_state, ts)"
   ]
  },
  {
   "cell_type": "code",
   "execution_count": 20,
   "metadata": {
    "collapsed": false,
    "slideshow": {
     "slide_type": "slide"
    }
   },
   "outputs": [
    {
     "data": {
      "image/png": "[encoded data removed]",
      "text/plain": [
       "<matplotlib.figure.Figure at 0x7ff985973048>"
      ]
     },
     "metadata": {},
     "output_type": "display_data"
    }
   ],
   "source": [
    "%matplotlib inline\n",
    "import matplotlib.pyplot as plt\n",
    "σz_expect = expect(sigmaz(), res)\n",
    "plt.plot(ts*Ω/np.pi, σz_expect, 'r.', label='numerical result')\n",
    "Ωp = (Ω**2+Δ**2)**0.5\n",
    "plt.plot(ts*Ω/np.pi, 1-(Ω/Ωp)**2*2*np.sin(Ωp*ts/2)**2, 'b-',\n",
    "         label=r'$1-2(\\Omega^\\prime/\\Omega)^2\\sin^2(\\Omega^\\prime t/2)$')\n",
    "plt.title(r'$\\langle\\sigma_z\\rangle$-vs-$t\\Omega/\\pi$ at '\n",
    "          r'$\\Delta/\\Omega=%.2f$, $\\omega_0/\\Omega=%.2f$'%(Δ/Ω, ω0/Ω))\n",
    "plt.ylim(-1,1)\n",
    "plt.legend(loc=3);"
   ]
  },
  {
   "cell_type": "markdown",
   "metadata": {
    "slideshow": {
     "slide_type": "slide"
    }
   },
   "source": [
    "# Benchmarks against Qutip"
   ]
  },
  {
   "cell_type": "markdown",
   "metadata": {
    "slideshow": {
     "slide_type": "slide"
    }
   },
   "source": [
    "## Dense\n",
    "\n",
    "\n",
    "<img src=basic_dense_benchmark.png style=\"width:100%\">"
   ]
  },
  {
   "cell_type": "markdown",
   "metadata": {
    "slideshow": {
     "slide_type": "slide"
    }
   },
   "source": [
    "## Sparse\n",
    "\n",
    "\n",
    "<img src=basic_sparse_benchmark.png style=\"width:100%\">"
   ]
  },
  {
   "cell_type": "markdown",
   "metadata": {
    "slideshow": {
     "slide_type": "slide"
    }
   },
   "source": [
    "# TODO (i.e. HELP!?)\n",
    "- Sparse matrices not fully supported\n",
    "- Simplectic/Geometric ODE solvers\n",
    "    - `qutip` uses a \"handwavy\" approach to preserving the norm. It works, but ...\n",
    "- The \"details\"\n",
    "    - built-in operators and states\n",
    "    - visualization\n",
    "    - others\n",
    "- Make compilation faster\n",
    "    - Compiling takes us ~6s. `qutip` does it in <1s."
   ]
  }
 ],
 "metadata": {
  "celltoolbar": "Slideshow",
  "kernelspec": {
   "display_name": "Python 3",
   "language": "python",
   "name": "python3"
  },
  "language_info": {
   "codemirror_mode": {
    "name": "ipython",
    "version": 3
   },
   "file_extension": ".py",
   "mimetype": "text/x-python",
   "name": "python",
   "nbconvert_exporter": "python",
   "pygments_lexer": "ipython3",
   "version": "3.4.2"
  }
 },
 "nbformat": 4,
 "nbformat_minor": 0
}
