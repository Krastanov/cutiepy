{
 "cells": [
  {
   "cell_type": "markdown",
   "metadata": {},
   "source": [
    "### Table of Contents\n",
    "\n",
    "1. [Rabi Oscillations](#Rabi-Oscillations)\n",
    "2. [Jaynes-Cummings Revival](#Jaynes-Cummings-Revival)"
   ]
  },
  {
   "cell_type": "code",
   "execution_count": 1,
   "metadata": {
    "collapsed": false
   },
   "outputs": [],
   "source": [
    "from cutiepy import *\n",
    "import qutip\n",
    "import numpy as np\n",
    "cutiepy.interactive.INTERACTIVE = False"
   ]
  },
  {
   "cell_type": "markdown",
   "metadata": {},
   "source": [
    "# Rabi Oscillations\n",
    "\n",
    "$\\hat{H} = \\hat{H}_0 + \\Omega \\sin((\\omega_0+\\Delta)t) \\hat{\\sigma}_x$\n",
    "\n",
    "$\\hat{H}_0 = \\frac{\\omega_0}{2}\\hat{\\sigma}_z$"
   ]
  },
  {
   "cell_type": "code",
   "execution_count": 2,
   "metadata": {
    "collapsed": false
   },
   "outputs": [],
   "source": [
    "#setup\n",
    "ω0 = 1\n",
    "Δ = 0.002\n",
    "Ω = 0.005\n",
    "ts = 2*np.pi/Ω*np.linspace(0,1,40)"
   ]
  },
  {
   "cell_type": "code",
   "execution_count": 3,
   "metadata": {
    "collapsed": false
   },
   "outputs": [
    {
     "name": "stdout",
     "output_type": "stream",
     "text": [
      "CPU times: user 1.53 s, sys: 20 ms, total: 1.55 s\n",
      "Wall time: 5.53 s\n",
      "CPU times: user 48 ms, sys: 0 ns, total: 48 ms\n",
      "Wall time: 47.1 ms\n"
     ]
    },
    {
     "data": {
      "text/latex": [
       "$$\\text{Anonymous }\\text{Ket }{| {\\tiny\\boxed{{K}_{14640332...}}\\normalsize}_{} \\rangle} \\text{ on the space }\\mathbb{C}^{2}\\text{ with numerical content: }$$\n",
       "$$\\begin{equation*}\\left(\\begin{array}{*{11}c}(-0.384+0.896j)\\\\(0.068+0.212j)\\\\\\end{array}\\right)\\end{equation*}$$"
      ],
      "text/plain": [
       "'14640332-6a80-452c-99fe-b1cee39fa5b0'"
      ]
     },
     "execution_count": 3,
     "metadata": {},
     "output_type": "execute_result"
    }
   ],
   "source": [
    "#cutiepy\n",
    "initial_state = basis(2, 0)\n",
    "H = ω0/2 * sigmaz() + Ω * sigmax() * sin((ω0+Δ)*t)\n",
    "%time res = sesolve(H, initial_state, ts)\n",
    "%time res = sesolve(H, initial_state, ts)\n",
    "res[-1]"
   ]
  },
  {
   "cell_type": "code",
   "execution_count": 4,
   "metadata": {
    "collapsed": false
   },
   "outputs": [
    {
     "name": "stdout",
     "output_type": "stream",
     "text": [
      "CPU times: user 704 ms, sys: 20 ms, total: 724 ms\n",
      "Wall time: 2.14 s\n",
      "CPU times: user 196 ms, sys: 0 ns, total: 196 ms\n",
      "Wall time: 196 ms\n"
     ]
    },
    {
     "data": {
      "text/latex": [
       "Quantum object: dims = [[2], [1]], shape = [2, 1], type = ket\\begin{equation*}\\left(\\begin{array}{*{11}c}(-0.384+0.896j)\\\\(0.068+0.212j)\\\\\\end{array}\\right)\\end{equation*}"
      ],
      "text/plain": [
       "Quantum object: dims = [[2], [1]], shape = [2, 1], type = ket\n",
       "Qobj data =\n",
       "[[-0.38359168+0.89632624j]\n",
       " [ 0.06781514+0.21179662j]]"
      ]
     },
     "execution_count": 4,
     "metadata": {},
     "output_type": "execute_result"
    }
   ],
   "source": [
    "#qutip\n",
    "initial_state = qutip.basis(2, 0)\n",
    "H = [ω0/2 * qutip.sigmaz(), [Ω * qutip.sigmax(), 'sin(%f*t)'%(ω0+Δ)]]\n",
    "opts = qutip.Options(rhs_reuse=True)\n",
    "%time res = qutip.sesolve(H, initial_state, ts, [], options=opts)\n",
    "%time res = qutip.sesolve(H, initial_state, ts, [], options=opts)\n",
    "res.states[-1]"
   ]
  },
  {
   "cell_type": "markdown",
   "metadata": {},
   "source": [
    "# Jaynes-Cummings Revival\n",
    "\n",
    "$\\hat{H} = \\hat{H}_0 + \\hat{H}^\\prime$\n",
    "\n",
    "$\\hat{H}_0 = \\omega \\hat{n} + \\omega \\frac{1}{2} \\hat{\\sigma}_z$\n",
    "\n",
    "$\\hat{H}^\\prime = g (\\hat{\\sigma}_+\\hat{a} + \\hat{\\sigma}_-\\hat{a}^\\dagger)$"
   ]
  },
  {
   "cell_type": "code",
   "execution_count": 5,
   "metadata": {
    "collapsed": true
   },
   "outputs": [],
   "source": [
    "#setup\n",
    "ω = 1\n",
    "g = 0.1\n",
    "N_cutoff = 40\n",
    "alpha = 4\n",
    "ts = 50/g*np.linspace(0,1,8000)"
   ]
  },
  {
   "cell_type": "code",
   "execution_count": 6,
   "metadata": {
    "collapsed": false
   },
   "outputs": [
    {
     "name": "stdout",
     "output_type": "stream",
     "text": [
      "CPU times: user 3.47 s, sys: 88 ms, total: 3.56 s\n",
      "Wall time: 7.38 s\n",
      "CPU times: user 1.68 s, sys: 40 ms, total: 1.72 s\n",
      "Wall time: 1.7 s\n"
     ]
    }
   ],
   "source": [
    "#cutiepy\n",
    "H0 = ω*(tensor(num(N_cutoff), identity(2)) + 0.5 * tensor(identity(N_cutoff), sigmaz()))\n",
    "Hp = g*(tensor(destroy(N_cutoff),sigmap()) + tensor(create(N_cutoff), sigmam()))\n",
    "coh = tensor(coherent(N_cutoff, alpha), basis(2,0))\n",
    "%time res = sesolve(H0 + Hp, coh, ts)\n",
    "%time res = sesolve(H0 + Hp, coh, ts)"
   ]
  },
  {
   "cell_type": "code",
   "execution_count": 7,
   "metadata": {
    "collapsed": false
   },
   "outputs": [
    {
     "name": "stdout",
     "output_type": "stream",
     "text": [
      "CPU times: user 7.96 s, sys: 264 ms, total: 8.23 s\n",
      "Wall time: 7.92 s\n",
      "CPU times: user 8 s, sys: 0 ns, total: 8 s\n",
      "Wall time: 7.99 s\n"
     ]
    }
   ],
   "source": [
    "#qutip\n",
    "H0 = ω*(qutip.tensor(\n",
    "                     qutip.num(N_cutoff),\n",
    "                     qutip.identity(2))\n",
    "        +0.5*qutip.tensor(\n",
    "                     qutip.identity(N_cutoff),\n",
    "                     qutip.sigmaz()))\n",
    "Hp = g*(qutip.tensor(\n",
    "                     qutip.destroy(N_cutoff),\n",
    "                     qutip.sigmap())\n",
    "        +qutip.tensor(\n",
    "                     qutip.create(N_cutoff),\n",
    "                     qutip.sigmam()))\n",
    "coh = qutip.tensor(qutip.coherent(N_cutoff, alpha), qutip.basis(2,0))\n",
    "opts = qutip.Options(rhs_reuse=True)\n",
    "%time res = qutip.sesolve(H0 + Hp, coh, ts, [], options=opts)\n",
    "%time res = qutip.sesolve(H0 + Hp, coh, ts, [], options=opts)"
   ]
  }
 ],
 "metadata": {
  "kernelspec": {
   "display_name": "Python 3",
   "language": "python",
   "name": "python3"
  },
  "language_info": {
   "codemirror_mode": {
    "name": "ipython",
    "version": 3
   },
   "file_extension": ".py",
   "mimetype": "text/x-python",
   "name": "python",
   "nbconvert_exporter": "python",
   "pygments_lexer": "ipython3",
   "version": "3.4.2"
  }
 },
 "nbformat": 4,
 "nbformat_minor": 0
}
