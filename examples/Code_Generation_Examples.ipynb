{
 "cells": [
  {
   "cell_type": "code",
   "execution_count": 1,
   "metadata": {
    "collapsed": true
   },
   "outputs": [],
   "source": [
    "from cutiepy import *\n",
    "import numpy as np\n",
    "cutiepy.codegen.DEBUG = True"
   ]
  },
  {
   "cell_type": "markdown",
   "metadata": {},
   "source": [
    "# $|k\\rangle \\rightarrow \\hat{a}^\\dagger|k\\rangle$"
   ]
  },
  {
   "cell_type": "code",
   "execution_count": 2,
   "metadata": {
    "collapsed": false
   },
   "outputs": [],
   "source": [
    "op = create(5)\n",
    "y_anon = Ket.anon(5)\n",
    "cf = generate_cython(evalf(op*y_anon),         \n",
    "                     func=NDArrayFunction(),            \n",
    "                     argument_order = [y_anon])"
   ]
  },
  {
   "cell_type": "code",
   "execution_count": 3,
   "metadata": {
    "collapsed": false
   },
   "outputs": [
    {
     "data": {
      "text/html": [
       "<!DOCTYPE html PUBLIC \"-//W3C//DTD HTML 4.01//EN\"\n",
       "   \"http://www.w3.org/TR/html4/strict.dtd\">\n",
       "\n",
       "<html>\n",
       "<head>\n",
       "  <title></title>\n",
       "  <meta http-equiv=\"content-type\" content=\"text/html; charset=None\">\n",
       "  <style type=\"text/css\">\n",
       "td.linenos { background-color: #f0f0f0; padding-right: 10px; }\n",
       "span.lineno { background-color: #f0f0f0; padding: 0 5px 0 5px; }\n",
       "pre { line-height: 125%; }\n",
       "body .hll { background-color: #ffffcc }\n",
       "body  { background: #f8f8f8; }\n",
       "body .c { color: #408080; font-style: italic } /* Comment */\n",
       "body .err { border: 1px solid #FF0000 } /* Error */\n",
       "body .k { color: #008000; font-weight: bold } /* Keyword */\n",
       "body .o { color: #666666 } /* Operator */\n",
       "body .cm { color: #408080; font-style: italic } /* Comment.Multiline */\n",
       "body .cp { color: #BC7A00 } /* Comment.Preproc */\n",
       "body .c1 { color: #408080; font-style: italic } /* Comment.Single */\n",
       "body .cs { color: #408080; font-style: italic } /* Comment.Special */\n",
       "body .gd { color: #A00000 } /* Generic.Deleted */\n",
       "body .ge { font-style: italic } /* Generic.Emph */\n",
       "body .gr { color: #FF0000 } /* Generic.Error */\n",
       "body .gh { color: #000080; font-weight: bold } /* Generic.Heading */\n",
       "body .gi { color: #00A000 } /* Generic.Inserted */\n",
       "body .go { color: #888888 } /* Generic.Output */\n",
       "body .gp { color: #000080; font-weight: bold } /* Generic.Prompt */\n",
       "body .gs { font-weight: bold } /* Generic.Strong */\n",
       "body .gu { color: #800080; font-weight: bold } /* Generic.Subheading */\n",
       "body .gt { color: #0044DD } /* Generic.Traceback */\n",
       "body .kc { color: #008000; font-weight: bold } /* Keyword.Constant */\n",
       "body .kd { color: #008000; font-weight: bold } /* Keyword.Declaration */\n",
       "body .kn { color: #008000; font-weight: bold } /* Keyword.Namespace */\n",
       "body .kp { color: #008000 } /* Keyword.Pseudo */\n",
       "body .kr { color: #008000; font-weight: bold } /* Keyword.Reserved */\n",
       "body .kt { color: #B00040 } /* Keyword.Type */\n",
       "body .m { color: #666666 } /* Literal.Number */\n",
       "body .s { color: #BA2121 } /* Literal.String */\n",
       "body .na { color: #7D9029 } /* Name.Attribute */\n",
       "body .nb { color: #008000 } /* Name.Builtin */\n",
       "body .nc { color: #0000FF; font-weight: bold } /* Name.Class */\n",
       "body .no { color: #880000 } /* Name.Constant */\n",
       "body .nd { color: #AA22FF } /* Name.Decorator */\n",
       "body .ni { color: #999999; font-weight: bold } /* Name.Entity */\n",
       "body .ne { color: #D2413A; font-weight: bold } /* Name.Exception */\n",
       "body .nf { color: #0000FF } /* Name.Function */\n",
       "body .nl { color: #A0A000 } /* Name.Label */\n",
       "body .nn { color: #0000FF; font-weight: bold } /* Name.Namespace */\n",
       "body .nt { color: #008000; font-weight: bold } /* Name.Tag */\n",
       "body .nv { color: #19177C } /* Name.Variable */\n",
       "body .ow { color: #AA22FF; font-weight: bold } /* Operator.Word */\n",
       "body .w { color: #bbbbbb } /* Text.Whitespace */\n",
       "body .mb { color: #666666 } /* Literal.Number.Bin */\n",
       "body .mf { color: #666666 } /* Literal.Number.Float */\n",
       "body .mh { color: #666666 } /* Literal.Number.Hex */\n",
       "body .mi { color: #666666 } /* Literal.Number.Integer */\n",
       "body .mo { color: #666666 } /* Literal.Number.Oct */\n",
       "body .sb { color: #BA2121 } /* Literal.String.Backtick */\n",
       "body .sc { color: #BA2121 } /* Literal.String.Char */\n",
       "body .sd { color: #BA2121; font-style: italic } /* Literal.String.Doc */\n",
       "body .s2 { color: #BA2121 } /* Literal.String.Double */\n",
       "body .se { color: #BB6622; font-weight: bold } /* Literal.String.Escape */\n",
       "body .sh { color: #BA2121 } /* Literal.String.Heredoc */\n",
       "body .si { color: #BB6688; font-weight: bold } /* Literal.String.Interpol */\n",
       "body .sx { color: #008000 } /* Literal.String.Other */\n",
       "body .sr { color: #BB6688 } /* Literal.String.Regex */\n",
       "body .s1 { color: #BA2121 } /* Literal.String.Single */\n",
       "body .ss { color: #19177C } /* Literal.String.Symbol */\n",
       "body .bp { color: #008000 } /* Name.Builtin.Pseudo */\n",
       "body .vc { color: #19177C } /* Name.Variable.Class */\n",
       "body .vg { color: #19177C } /* Name.Variable.Global */\n",
       "body .vi { color: #19177C } /* Name.Variable.Instance */\n",
       "body .il { color: #666666 } /* Literal.Number.Integer.Long */\n",
       "\n",
       "  </style>\n",
       "</head>\n",
       "<body>\n",
       "<h2></h2>\n",
       "\n",
       "<div class=\"highlight\"><pre><span class=\"c\">#cython: boundscheck=False, wraparound=False, initializedcheck=False, cdivision=True</span>\n",
       "<span class=\"k\">cimport</span> <span class=\"nn\">numpy</span> <span class=\"k\">as</span> <span class=\"nn\">np</span>\n",
       "<span class=\"k\">import</span> <span class=\"nn\">numpy</span> <span class=\"k\">as</span> <span class=\"nn\">np</span>\n",
       "<span class=\"k\">from</span> <span class=\"nn\">libc.math</span> <span class=\"k\">cimport</span> <span class=\"n\">sin</span><span class=\"p\">,</span> <span class=\"n\">cos</span><span class=\"p\">,</span> <span class=\"n\">exp</span><span class=\"p\">,</span> <span class=\"n\">sinh</span><span class=\"p\">,</span> <span class=\"n\">cosh</span><span class=\"p\">,</span> <span class=\"n\">tan</span><span class=\"p\">,</span> <span class=\"n\">tanh</span><span class=\"p\">,</span> <span class=\"n\">log</span>\n",
       "<span class=\"k\">from</span> <span class=\"nn\">scipy.linalg.cython_blas</span> <span class=\"k\">cimport</span> <span class=\"n\">zgemv</span><span class=\"p\">,</span> <span class=\"n\">zgemm</span>\n",
       "\n",
       "<span class=\"k\">cdef</span> <span class=\"kt\">int</span> <span class=\"nf\">iONE</span><span class=\"o\">=</span><span class=\"mf\">1</span><span class=\"p\">,</span> <span class=\"n\">iZERO</span><span class=\"o\">=</span><span class=\"mf\">0</span>\n",
       "<span class=\"k\">cdef</span> <span class=\"kt\">double</span> <span class=\"kt\">complex</span> <span class=\"nf\">zONE</span><span class=\"o\">=</span><span class=\"mf\">1</span><span class=\"p\">,</span> <span class=\"n\">zZERO</span><span class=\"o\">=</span><span class=\"mf\">0</span><span class=\"p\">,</span> <span class=\"n\">zNHALF</span><span class=\"o\">=-</span><span class=\"mf\">0.5</span>\n",
       "\n",
       "<span class=\"c\"># Declaration of global variables for</span>\n",
       "<span class=\"c\"># - intermediate results</span>\n",
       "<span class=\"c\"># - predefined constants</span>\n",
       "\n",
       "<span class=\"k\">cdef</span> <span class=\"kt\">double</span> <span class=\"kt\">complex</span> [<span class=\"p\">:,</span> <span class=\"p\">:]</span> <span class=\"n\">A</span> <span class=\"c\"># initialized in setup</span>\n",
       "\n",
       "<span class=\"c\"># The generated cython code</span>\n",
       "<span class=\"k\">cdef</span> <span class=\"nf\">generated_function</span><span class=\"p\">(</span>\n",
       "    <span class=\"c\"># input arguments</span>\n",
       "    <span class=\"n\">double</span> <span class=\"nb\">complex</span> <span class=\"p\">[:,</span> <span class=\"p\">:]</span> <span class=\"n\">B</span><span class=\"p\">,</span>\n",
       "    <span class=\"c\"># output argument</span>\n",
       "    <span class=\"n\">double</span> <span class=\"nb\">complex</span> <span class=\"p\">[:,</span> <span class=\"p\">:]</span> <span class=\"n\">C</span>\n",
       "    <span class=\"p\">):</span>\n",
       "    <span class=\"c\"># indices and intermediate values for various matrix operations</span>\n",
       "    <span class=\"k\">cdef</span> <span class=\"kt\">int</span> <span class=\"nf\">i</span><span class=\"p\">,</span> <span class=\"nf\">j</span><span class=\"p\">,</span> <span class=\"nf\">k</span><span class=\"p\">,</span> <span class=\"nf\">ii</span><span class=\"p\">,</span> <span class=\"nf\">jj</span><span class=\"p\">,</span> <span class=\"nf\">kk</span>\n",
       "    <span class=\"k\">cdef</span> <span class=\"kt\">double</span> <span class=\"kt\">complex</span> <span class=\"nf\">c</span>\n",
       "    <span class=\"c\"># intermediate results</span>\n",
       "    <span class=\"c\"># no intermediate results globals</span>\n",
       "    <span class=\"c\"># predefined constants</span>\n",
       "    <span class=\"k\">global</span> <span class=\"n\">A</span>\n",
       "    <span class=\"c\"># evaluating the function</span>\n",
       "    <span class=\"c\"># C = A.B</span>\n",
       "    <span class=\"n\">ii</span> <span class=\"o\">=</span> <span class=\"n\">A</span><span class=\"o\">.</span><span class=\"n\">shape</span><span class=\"p\">[</span><span class=\"mf\">0</span><span class=\"p\">]</span>\n",
       "    <span class=\"n\">jj</span> <span class=\"o\">=</span> <span class=\"n\">A</span><span class=\"o\">.</span><span class=\"n\">shape</span><span class=\"p\">[</span><span class=\"mf\">1</span><span class=\"p\">]</span>\n",
       "    <span class=\"n\">kk</span> <span class=\"o\">=</span> <span class=\"n\">B</span><span class=\"o\">.</span><span class=\"n\">shape</span><span class=\"p\">[</span><span class=\"mf\">1</span><span class=\"p\">]</span>\n",
       "    <span class=\"n\">zgemm</span><span class=\"p\">(</span><span class=\"s\">&#39;N&#39;</span><span class=\"p\">,</span> <span class=\"s\">&#39;N&#39;</span><span class=\"p\">,</span> <span class=\"o\">&amp;</span><span class=\"n\">kk</span><span class=\"p\">,</span> <span class=\"o\">&amp;</span><span class=\"n\">ii</span><span class=\"p\">,</span> <span class=\"o\">&amp;</span><span class=\"n\">jj</span><span class=\"p\">,</span> <span class=\"o\">&amp;</span><span class=\"n\">zONE</span><span class=\"p\">,</span> <span class=\"o\">&amp;</span><span class=\"n\">B</span><span class=\"p\">[</span><span class=\"mf\">0</span><span class=\"p\">,</span><span class=\"mf\">0</span><span class=\"p\">],</span> <span class=\"o\">&amp;</span><span class=\"n\">kk</span><span class=\"p\">,</span> <span class=\"o\">&amp;</span><span class=\"n\">A</span><span class=\"p\">[</span><span class=\"mf\">0</span><span class=\"p\">,</span><span class=\"mf\">0</span><span class=\"p\">],</span> <span class=\"o\">&amp;</span><span class=\"n\">jj</span><span class=\"p\">,</span> <span class=\"o\">&amp;</span><span class=\"n\">zZERO</span><span class=\"p\">,</span> <span class=\"o\">&amp;</span><span class=\"n\">C</span><span class=\"p\">[</span><span class=\"mf\">0</span><span class=\"p\">,</span><span class=\"mf\">0</span><span class=\"p\">],</span> <span class=\"o\">&amp;</span><span class=\"n\">kk</span><span class=\"p\">)</span>\n",
       "\n",
       "<span class=\"c\"># Function to deliver the constants from python to cython</span>\n",
       "<span class=\"k\">cpdef</span> <span class=\"nf\">setup_generated_function</span><span class=\"p\">(</span>\n",
       "    <span class=\"n\">double</span> <span class=\"nb\">complex</span> <span class=\"p\">[:,</span> <span class=\"p\">:]</span> <span class=\"n\">_A</span>\n",
       "    <span class=\"p\">):</span>\n",
       "    <span class=\"k\">global</span> <span class=\"n\">A</span>\n",
       "    <span class=\"n\">A</span> <span class=\"o\">=</span> <span class=\"n\">_A</span>\n",
       "\n",
       "<span class=\"k\">cpdef</span> <span class=\"kt\">np</span>.<span class=\"kt\">ndarray</span>[<span class=\"kt\">np</span>.<span class=\"nf\">complex_t</span><span class=\"p\">,</span> <span class=\"nf\">ndim</span><span class=\"o\">=</span><span class=\"mf\">2</span><span class=\"p\">]</span> <span class=\"n\">pythoncall</span><span class=\"p\">(</span><span class=\"n\">_0</span><span class=\"p\">):</span>\n",
       "    <span class=\"k\">cdef</span> <span class=\"kt\">np</span>.<span class=\"kt\">ndarray</span>[<span class=\"kt\">np</span>.<span class=\"nf\">complex_t</span><span class=\"p\">,</span> <span class=\"nf\">ndim</span><span class=\"o\">=</span><span class=\"mf\">2</span><span class=\"p\">]</span> <span class=\"n\">result</span> <span class=\"o\">=</span> <span class=\"n\">np</span><span class=\"o\">.</span><span class=\"n\">empty</span><span class=\"p\">((</span><span class=\"mf\">5</span><span class=\"p\">,</span> <span class=\"mf\">1</span><span class=\"p\">),</span> <span class=\"nb\">complex</span><span class=\"p\">)</span>\n",
       "    <span class=\"n\">generated_function</span><span class=\"p\">(</span><span class=\"n\">_0</span><span class=\"p\">,</span> <span class=\"n\">result</span><span class=\"p\">)</span>\n",
       "    <span class=\"k\">return</span> <span class=\"n\">result</span>\n",
       "</pre></div>\n",
       "</body>\n",
       "</html>\n"
      ],
      "text/plain": [
       "<IPython.core.display.HTML object>"
      ]
     },
     "metadata": {},
     "output_type": "display_data"
    }
   ],
   "source": [
    "ccf = cf.compiled()"
   ]
  },
  {
   "cell_type": "code",
   "execution_count": 4,
   "metadata": {
    "collapsed": false
   },
   "outputs": [
    {
     "data": {
      "text/plain": [
       "array([[ 0.00000000+0.j],\n",
       "       [ 0.00000000+0.j],\n",
       "       [ 1.41421356+0.j],\n",
       "       [ 0.00000000+0.j],\n",
       "       [ 0.00000000+0.j]])"
      ]
     },
     "execution_count": 4,
     "metadata": {},
     "output_type": "execute_result"
    }
   ],
   "source": [
    "b = basis(5,1)\n",
    "ccf.pythoncall(numerical(b))"
   ]
  },
  {
   "cell_type": "markdown",
   "metadata": {},
   "source": [
    "# $\\rho \\rightarrow \\left[ \\sigma_x, \\rho \\right]$"
   ]
  },
  {
   "cell_type": "code",
   "execution_count": 5,
   "metadata": {
    "collapsed": false
   },
   "outputs": [],
   "source": [
    "op = sigmax()\n",
    "y_anon = Operator.anon(2)\n",
    "cf = generate_cython(evalf(Commutator(op, y_anon)),         \n",
    "                     func=NDArrayFunction(),            \n",
    "                     argument_order = [y_anon])"
   ]
  },
  {
   "cell_type": "code",
   "execution_count": 6,
   "metadata": {
    "collapsed": false
   },
   "outputs": [
    {
     "data": {
      "text/html": [
       "<!DOCTYPE html PUBLIC \"-//W3C//DTD HTML 4.01//EN\"\n",
       "   \"http://www.w3.org/TR/html4/strict.dtd\">\n",
       "\n",
       "<html>\n",
       "<head>\n",
       "  <title></title>\n",
       "  <meta http-equiv=\"content-type\" content=\"text/html; charset=None\">\n",
       "  <style type=\"text/css\">\n",
       "td.linenos { background-color: #f0f0f0; padding-right: 10px; }\n",
       "span.lineno { background-color: #f0f0f0; padding: 0 5px 0 5px; }\n",
       "pre { line-height: 125%; }\n",
       "body .hll { background-color: #ffffcc }\n",
       "body  { background: #f8f8f8; }\n",
       "body .c { color: #408080; font-style: italic } /* Comment */\n",
       "body .err { border: 1px solid #FF0000 } /* Error */\n",
       "body .k { color: #008000; font-weight: bold } /* Keyword */\n",
       "body .o { color: #666666 } /* Operator */\n",
       "body .cm { color: #408080; font-style: italic } /* Comment.Multiline */\n",
       "body .cp { color: #BC7A00 } /* Comment.Preproc */\n",
       "body .c1 { color: #408080; font-style: italic } /* Comment.Single */\n",
       "body .cs { color: #408080; font-style: italic } /* Comment.Special */\n",
       "body .gd { color: #A00000 } /* Generic.Deleted */\n",
       "body .ge { font-style: italic } /* Generic.Emph */\n",
       "body .gr { color: #FF0000 } /* Generic.Error */\n",
       "body .gh { color: #000080; font-weight: bold } /* Generic.Heading */\n",
       "body .gi { color: #00A000 } /* Generic.Inserted */\n",
       "body .go { color: #888888 } /* Generic.Output */\n",
       "body .gp { color: #000080; font-weight: bold } /* Generic.Prompt */\n",
       "body .gs { font-weight: bold } /* Generic.Strong */\n",
       "body .gu { color: #800080; font-weight: bold } /* Generic.Subheading */\n",
       "body .gt { color: #0044DD } /* Generic.Traceback */\n",
       "body .kc { color: #008000; font-weight: bold } /* Keyword.Constant */\n",
       "body .kd { color: #008000; font-weight: bold } /* Keyword.Declaration */\n",
       "body .kn { color: #008000; font-weight: bold } /* Keyword.Namespace */\n",
       "body .kp { color: #008000 } /* Keyword.Pseudo */\n",
       "body .kr { color: #008000; font-weight: bold } /* Keyword.Reserved */\n",
       "body .kt { color: #B00040 } /* Keyword.Type */\n",
       "body .m { color: #666666 } /* Literal.Number */\n",
       "body .s { color: #BA2121 } /* Literal.String */\n",
       "body .na { color: #7D9029 } /* Name.Attribute */\n",
       "body .nb { color: #008000 } /* Name.Builtin */\n",
       "body .nc { color: #0000FF; font-weight: bold } /* Name.Class */\n",
       "body .no { color: #880000 } /* Name.Constant */\n",
       "body .nd { color: #AA22FF } /* Name.Decorator */\n",
       "body .ni { color: #999999; font-weight: bold } /* Name.Entity */\n",
       "body .ne { color: #D2413A; font-weight: bold } /* Name.Exception */\n",
       "body .nf { color: #0000FF } /* Name.Function */\n",
       "body .nl { color: #A0A000 } /* Name.Label */\n",
       "body .nn { color: #0000FF; font-weight: bold } /* Name.Namespace */\n",
       "body .nt { color: #008000; font-weight: bold } /* Name.Tag */\n",
       "body .nv { color: #19177C } /* Name.Variable */\n",
       "body .ow { color: #AA22FF; font-weight: bold } /* Operator.Word */\n",
       "body .w { color: #bbbbbb } /* Text.Whitespace */\n",
       "body .mb { color: #666666 } /* Literal.Number.Bin */\n",
       "body .mf { color: #666666 } /* Literal.Number.Float */\n",
       "body .mh { color: #666666 } /* Literal.Number.Hex */\n",
       "body .mi { color: #666666 } /* Literal.Number.Integer */\n",
       "body .mo { color: #666666 } /* Literal.Number.Oct */\n",
       "body .sb { color: #BA2121 } /* Literal.String.Backtick */\n",
       "body .sc { color: #BA2121 } /* Literal.String.Char */\n",
       "body .sd { color: #BA2121; font-style: italic } /* Literal.String.Doc */\n",
       "body .s2 { color: #BA2121 } /* Literal.String.Double */\n",
       "body .se { color: #BB6622; font-weight: bold } /* Literal.String.Escape */\n",
       "body .sh { color: #BA2121 } /* Literal.String.Heredoc */\n",
       "body .si { color: #BB6688; font-weight: bold } /* Literal.String.Interpol */\n",
       "body .sx { color: #008000 } /* Literal.String.Other */\n",
       "body .sr { color: #BB6688 } /* Literal.String.Regex */\n",
       "body .s1 { color: #BA2121 } /* Literal.String.Single */\n",
       "body .ss { color: #19177C } /* Literal.String.Symbol */\n",
       "body .bp { color: #008000 } /* Name.Builtin.Pseudo */\n",
       "body .vc { color: #19177C } /* Name.Variable.Class */\n",
       "body .vg { color: #19177C } /* Name.Variable.Global */\n",
       "body .vi { color: #19177C } /* Name.Variable.Instance */\n",
       "body .il { color: #666666 } /* Literal.Number.Integer.Long */\n",
       "\n",
       "  </style>\n",
       "</head>\n",
       "<body>\n",
       "<h2></h2>\n",
       "\n",
       "<div class=\"highlight\"><pre><span class=\"c\">#cython: boundscheck=False, wraparound=False, initializedcheck=False, cdivision=True</span>\n",
       "<span class=\"k\">cimport</span> <span class=\"nn\">numpy</span> <span class=\"k\">as</span> <span class=\"nn\">np</span>\n",
       "<span class=\"k\">import</span> <span class=\"nn\">numpy</span> <span class=\"k\">as</span> <span class=\"nn\">np</span>\n",
       "<span class=\"k\">from</span> <span class=\"nn\">libc.math</span> <span class=\"k\">cimport</span> <span class=\"n\">sin</span><span class=\"p\">,</span> <span class=\"n\">cos</span><span class=\"p\">,</span> <span class=\"n\">exp</span><span class=\"p\">,</span> <span class=\"n\">sinh</span><span class=\"p\">,</span> <span class=\"n\">cosh</span><span class=\"p\">,</span> <span class=\"n\">tan</span><span class=\"p\">,</span> <span class=\"n\">tanh</span><span class=\"p\">,</span> <span class=\"n\">log</span>\n",
       "<span class=\"k\">from</span> <span class=\"nn\">scipy.linalg.cython_blas</span> <span class=\"k\">cimport</span> <span class=\"n\">zgemv</span><span class=\"p\">,</span> <span class=\"n\">zgemm</span>\n",
       "\n",
       "<span class=\"k\">cdef</span> <span class=\"kt\">int</span> <span class=\"nf\">iONE</span><span class=\"o\">=</span><span class=\"mf\">1</span><span class=\"p\">,</span> <span class=\"n\">iZERO</span><span class=\"o\">=</span><span class=\"mf\">0</span>\n",
       "<span class=\"k\">cdef</span> <span class=\"kt\">double</span> <span class=\"kt\">complex</span> <span class=\"nf\">zONE</span><span class=\"o\">=</span><span class=\"mf\">1</span><span class=\"p\">,</span> <span class=\"n\">zZERO</span><span class=\"o\">=</span><span class=\"mf\">0</span><span class=\"p\">,</span> <span class=\"n\">zNHALF</span><span class=\"o\">=-</span><span class=\"mf\">0.5</span>\n",
       "\n",
       "<span class=\"c\"># Declaration of global variables for</span>\n",
       "<span class=\"c\"># - intermediate results</span>\n",
       "<span class=\"c\"># - predefined constants</span>\n",
       "<span class=\"k\">cdef</span> <span class=\"kt\">double</span> <span class=\"kt\">complex</span> [<span class=\"p\">:,</span> <span class=\"p\">:]</span> <span class=\"n\">C</span> <span class=\"o\">=</span> <span class=\"n\">np</span><span class=\"o\">.</span><span class=\"n\">empty</span><span class=\"p\">((</span><span class=\"mf\">2</span><span class=\"p\">,</span> <span class=\"mf\">2</span><span class=\"p\">),</span> <span class=\"n\">dtype</span><span class=\"o\">=</span><span class=\"n\">np</span><span class=\"o\">.</span><span class=\"n\">complex</span><span class=\"p\">)</span>\n",
       "<span class=\"k\">cdef</span> <span class=\"kt\">double</span> <span class=\"kt\">complex</span> [<span class=\"p\">:,</span> <span class=\"p\">:]</span> <span class=\"n\">E</span> <span class=\"o\">=</span> <span class=\"n\">np</span><span class=\"o\">.</span><span class=\"n\">empty</span><span class=\"p\">((</span><span class=\"mf\">2</span><span class=\"p\">,</span> <span class=\"mf\">2</span><span class=\"p\">),</span> <span class=\"n\">dtype</span><span class=\"o\">=</span><span class=\"n\">np</span><span class=\"o\">.</span><span class=\"n\">complex</span><span class=\"p\">)</span>\n",
       "<span class=\"k\">cdef</span> <span class=\"kt\">double</span> <span class=\"kt\">complex</span> [<span class=\"p\">:,</span> <span class=\"p\">:]</span> <span class=\"n\">F</span> <span class=\"o\">=</span> <span class=\"n\">np</span><span class=\"o\">.</span><span class=\"n\">empty</span><span class=\"p\">((</span><span class=\"mf\">2</span><span class=\"p\">,</span> <span class=\"mf\">2</span><span class=\"p\">),</span> <span class=\"n\">dtype</span><span class=\"o\">=</span><span class=\"n\">np</span><span class=\"o\">.</span><span class=\"n\">complex</span><span class=\"p\">)</span>\n",
       "<span class=\"k\">cdef</span> <span class=\"kt\">double</span> <span class=\"kt\">complex</span> [<span class=\"p\">:,</span> <span class=\"p\">:]</span> <span class=\"n\">D</span> <span class=\"c\"># initialized in setup</span>\n",
       "<span class=\"k\">cdef</span> <span class=\"kt\">double</span> <span class=\"kt\">complex</span> [<span class=\"p\">:,</span> <span class=\"p\">:]</span> <span class=\"n\">A</span> <span class=\"c\"># initialized in setup</span>\n",
       "\n",
       "<span class=\"c\"># The generated cython code</span>\n",
       "<span class=\"k\">cdef</span> <span class=\"nf\">generated_function</span><span class=\"p\">(</span>\n",
       "    <span class=\"c\"># input arguments</span>\n",
       "    <span class=\"n\">double</span> <span class=\"nb\">complex</span> <span class=\"p\">[:,</span> <span class=\"p\">:]</span> <span class=\"n\">B</span><span class=\"p\">,</span>\n",
       "    <span class=\"c\"># output argument</span>\n",
       "    <span class=\"n\">double</span> <span class=\"nb\">complex</span> <span class=\"p\">[:,</span> <span class=\"p\">:]</span> <span class=\"n\">G</span>\n",
       "    <span class=\"p\">):</span>\n",
       "    <span class=\"c\"># indices and intermediate values for various matrix operations</span>\n",
       "    <span class=\"k\">cdef</span> <span class=\"kt\">int</span> <span class=\"nf\">i</span><span class=\"p\">,</span> <span class=\"nf\">j</span><span class=\"p\">,</span> <span class=\"nf\">k</span><span class=\"p\">,</span> <span class=\"nf\">ii</span><span class=\"p\">,</span> <span class=\"nf\">jj</span><span class=\"p\">,</span> <span class=\"nf\">kk</span>\n",
       "    <span class=\"k\">cdef</span> <span class=\"kt\">double</span> <span class=\"kt\">complex</span> <span class=\"nf\">c</span>\n",
       "    <span class=\"c\"># intermediate results</span>\n",
       "    <span class=\"k\">global</span> <span class=\"n\">C</span><span class=\"p\">,</span> <span class=\"n\">E</span><span class=\"p\">,</span> <span class=\"n\">F</span>\n",
       "    <span class=\"c\"># predefined constants</span>\n",
       "    <span class=\"k\">global</span> <span class=\"n\">D</span><span class=\"p\">,</span> <span class=\"n\">A</span>\n",
       "    <span class=\"c\"># evaluating the function</span>\n",
       "    <span class=\"c\"># C = A.B</span>\n",
       "    <span class=\"n\">ii</span> <span class=\"o\">=</span> <span class=\"n\">A</span><span class=\"o\">.</span><span class=\"n\">shape</span><span class=\"p\">[</span><span class=\"mf\">0</span><span class=\"p\">]</span>\n",
       "    <span class=\"n\">jj</span> <span class=\"o\">=</span> <span class=\"n\">A</span><span class=\"o\">.</span><span class=\"n\">shape</span><span class=\"p\">[</span><span class=\"mf\">1</span><span class=\"p\">]</span>\n",
       "    <span class=\"n\">kk</span> <span class=\"o\">=</span> <span class=\"n\">B</span><span class=\"o\">.</span><span class=\"n\">shape</span><span class=\"p\">[</span><span class=\"mf\">1</span><span class=\"p\">]</span>\n",
       "    <span class=\"n\">zgemm</span><span class=\"p\">(</span><span class=\"s\">&#39;N&#39;</span><span class=\"p\">,</span> <span class=\"s\">&#39;N&#39;</span><span class=\"p\">,</span> <span class=\"o\">&amp;</span><span class=\"n\">kk</span><span class=\"p\">,</span> <span class=\"o\">&amp;</span><span class=\"n\">ii</span><span class=\"p\">,</span> <span class=\"o\">&amp;</span><span class=\"n\">jj</span><span class=\"p\">,</span> <span class=\"o\">&amp;</span><span class=\"n\">zONE</span><span class=\"p\">,</span> <span class=\"o\">&amp;</span><span class=\"n\">B</span><span class=\"p\">[</span><span class=\"mf\">0</span><span class=\"p\">,</span><span class=\"mf\">0</span><span class=\"p\">],</span> <span class=\"o\">&amp;</span><span class=\"n\">kk</span><span class=\"p\">,</span> <span class=\"o\">&amp;</span><span class=\"n\">A</span><span class=\"p\">[</span><span class=\"mf\">0</span><span class=\"p\">,</span><span class=\"mf\">0</span><span class=\"p\">],</span> <span class=\"o\">&amp;</span><span class=\"n\">jj</span><span class=\"p\">,</span> <span class=\"o\">&amp;</span><span class=\"n\">zZERO</span><span class=\"p\">,</span> <span class=\"o\">&amp;</span><span class=\"n\">C</span><span class=\"p\">[</span><span class=\"mf\">0</span><span class=\"p\">,</span><span class=\"mf\">0</span><span class=\"p\">],</span> <span class=\"o\">&amp;</span><span class=\"n\">kk</span><span class=\"p\">)</span>\n",
       "    <span class=\"c\"># E = B.D</span>\n",
       "    <span class=\"n\">ii</span> <span class=\"o\">=</span> <span class=\"n\">B</span><span class=\"o\">.</span><span class=\"n\">shape</span><span class=\"p\">[</span><span class=\"mf\">0</span><span class=\"p\">]</span>\n",
       "    <span class=\"n\">jj</span> <span class=\"o\">=</span> <span class=\"n\">B</span><span class=\"o\">.</span><span class=\"n\">shape</span><span class=\"p\">[</span><span class=\"mf\">1</span><span class=\"p\">]</span>\n",
       "    <span class=\"n\">kk</span> <span class=\"o\">=</span> <span class=\"n\">D</span><span class=\"o\">.</span><span class=\"n\">shape</span><span class=\"p\">[</span><span class=\"mf\">1</span><span class=\"p\">]</span>\n",
       "    <span class=\"n\">zgemm</span><span class=\"p\">(</span><span class=\"s\">&#39;N&#39;</span><span class=\"p\">,</span> <span class=\"s\">&#39;N&#39;</span><span class=\"p\">,</span> <span class=\"o\">&amp;</span><span class=\"n\">kk</span><span class=\"p\">,</span> <span class=\"o\">&amp;</span><span class=\"n\">ii</span><span class=\"p\">,</span> <span class=\"o\">&amp;</span><span class=\"n\">jj</span><span class=\"p\">,</span> <span class=\"o\">&amp;</span><span class=\"n\">zONE</span><span class=\"p\">,</span> <span class=\"o\">&amp;</span><span class=\"n\">D</span><span class=\"p\">[</span><span class=\"mf\">0</span><span class=\"p\">,</span><span class=\"mf\">0</span><span class=\"p\">],</span> <span class=\"o\">&amp;</span><span class=\"n\">kk</span><span class=\"p\">,</span> <span class=\"o\">&amp;</span><span class=\"n\">B</span><span class=\"p\">[</span><span class=\"mf\">0</span><span class=\"p\">,</span><span class=\"mf\">0</span><span class=\"p\">],</span> <span class=\"o\">&amp;</span><span class=\"n\">jj</span><span class=\"p\">,</span> <span class=\"o\">&amp;</span><span class=\"n\">zZERO</span><span class=\"p\">,</span> <span class=\"o\">&amp;</span><span class=\"n\">E</span><span class=\"p\">[</span><span class=\"mf\">0</span><span class=\"p\">,</span><span class=\"mf\">0</span><span class=\"p\">],</span> <span class=\"o\">&amp;</span><span class=\"n\">kk</span><span class=\"p\">)</span>\n",
       "    <span class=\"c\"># F = -1*E</span>\n",
       "    <span class=\"n\">ii</span> <span class=\"o\">=</span> <span class=\"n\">E</span><span class=\"o\">.</span><span class=\"n\">shape</span><span class=\"p\">[</span><span class=\"mf\">0</span><span class=\"p\">]</span>\n",
       "    <span class=\"n\">jj</span> <span class=\"o\">=</span> <span class=\"n\">E</span><span class=\"o\">.</span><span class=\"n\">shape</span><span class=\"p\">[</span><span class=\"mf\">1</span><span class=\"p\">]</span>\n",
       "    <span class=\"k\">for</span> <span class=\"n\">i</span> <span class=\"ow\">in</span> <span class=\"nb\">range</span><span class=\"p\">(</span><span class=\"n\">ii</span><span class=\"p\">):</span>\n",
       "        <span class=\"k\">for</span> <span class=\"n\">j</span> <span class=\"ow\">in</span> <span class=\"nb\">range</span><span class=\"p\">(</span><span class=\"n\">jj</span><span class=\"p\">):</span>\n",
       "            <span class=\"n\">F</span><span class=\"p\">[</span><span class=\"n\">i</span><span class=\"p\">,</span><span class=\"n\">j</span><span class=\"p\">]</span> <span class=\"o\">=</span> <span class=\"o\">-</span><span class=\"mf\">1</span><span class=\"o\">*</span><span class=\"n\">E</span><span class=\"p\">[</span><span class=\"n\">i</span><span class=\"p\">,</span><span class=\"n\">j</span><span class=\"p\">]</span>\n",
       "    <span class=\"c\"># G = C+F</span>\n",
       "    <span class=\"n\">ii</span> <span class=\"o\">=</span> <span class=\"n\">C</span><span class=\"o\">.</span><span class=\"n\">shape</span><span class=\"p\">[</span><span class=\"mf\">0</span><span class=\"p\">]</span>\n",
       "    <span class=\"n\">jj</span> <span class=\"o\">=</span> <span class=\"n\">C</span><span class=\"o\">.</span><span class=\"n\">shape</span><span class=\"p\">[</span><span class=\"mf\">1</span><span class=\"p\">]</span>\n",
       "    <span class=\"k\">for</span> <span class=\"n\">i</span> <span class=\"ow\">in</span> <span class=\"nb\">range</span><span class=\"p\">(</span><span class=\"n\">ii</span><span class=\"p\">):</span>\n",
       "        <span class=\"k\">for</span> <span class=\"n\">j</span> <span class=\"ow\">in</span> <span class=\"nb\">range</span><span class=\"p\">(</span><span class=\"n\">jj</span><span class=\"p\">):</span>\n",
       "            <span class=\"n\">G</span><span class=\"p\">[</span><span class=\"n\">i</span><span class=\"p\">,</span><span class=\"n\">j</span><span class=\"p\">]</span> <span class=\"o\">=</span> <span class=\"n\">C</span><span class=\"p\">[</span><span class=\"n\">i</span><span class=\"p\">,</span><span class=\"n\">j</span><span class=\"p\">]</span><span class=\"o\">+</span><span class=\"n\">F</span><span class=\"p\">[</span><span class=\"n\">i</span><span class=\"p\">,</span><span class=\"n\">j</span><span class=\"p\">]</span>\n",
       "\n",
       "<span class=\"c\"># Function to deliver the constants from python to cython</span>\n",
       "<span class=\"k\">cpdef</span> <span class=\"nf\">setup_generated_function</span><span class=\"p\">(</span>\n",
       "    <span class=\"n\">double</span> <span class=\"nb\">complex</span> <span class=\"p\">[:,</span> <span class=\"p\">:]</span> <span class=\"n\">_D</span><span class=\"p\">,</span>\n",
       "    <span class=\"n\">double</span> <span class=\"nb\">complex</span> <span class=\"p\">[:,</span> <span class=\"p\">:]</span> <span class=\"n\">_A</span>\n",
       "    <span class=\"p\">):</span>\n",
       "    <span class=\"k\">global</span> <span class=\"n\">D</span><span class=\"p\">,</span> <span class=\"n\">A</span>\n",
       "    <span class=\"n\">D</span> <span class=\"o\">=</span> <span class=\"n\">_D</span>\n",
       "    <span class=\"n\">A</span> <span class=\"o\">=</span> <span class=\"n\">_A</span>\n",
       "\n",
       "<span class=\"k\">cpdef</span> <span class=\"kt\">np</span>.<span class=\"kt\">ndarray</span>[<span class=\"kt\">np</span>.<span class=\"nf\">complex_t</span><span class=\"p\">,</span> <span class=\"nf\">ndim</span><span class=\"o\">=</span><span class=\"mf\">2</span><span class=\"p\">]</span> <span class=\"n\">pythoncall</span><span class=\"p\">(</span><span class=\"n\">_0</span><span class=\"p\">):</span>\n",
       "    <span class=\"k\">cdef</span> <span class=\"kt\">np</span>.<span class=\"kt\">ndarray</span>[<span class=\"kt\">np</span>.<span class=\"nf\">complex_t</span><span class=\"p\">,</span> <span class=\"nf\">ndim</span><span class=\"o\">=</span><span class=\"mf\">2</span><span class=\"p\">]</span> <span class=\"n\">result</span> <span class=\"o\">=</span> <span class=\"n\">np</span><span class=\"o\">.</span><span class=\"n\">empty</span><span class=\"p\">((</span><span class=\"mf\">2</span><span class=\"p\">,</span> <span class=\"mf\">2</span><span class=\"p\">),</span> <span class=\"nb\">complex</span><span class=\"p\">)</span>\n",
       "    <span class=\"n\">generated_function</span><span class=\"p\">(</span><span class=\"n\">_0</span><span class=\"p\">,</span> <span class=\"n\">result</span><span class=\"p\">)</span>\n",
       "    <span class=\"k\">return</span> <span class=\"n\">result</span>\n",
       "</pre></div>\n",
       "</body>\n",
       "</html>\n"
      ],
      "text/plain": [
       "<IPython.core.display.HTML object>"
      ]
     },
     "metadata": {},
     "output_type": "display_data"
    }
   ],
   "source": [
    "ccf = cf.compiled()"
   ]
  },
  {
   "cell_type": "code",
   "execution_count": 7,
   "metadata": {
    "collapsed": false
   },
   "outputs": [
    {
     "data": {
      "text/plain": [
       "array([[ 0.+0.j,  0.+0.j],\n",
       "       [ 0.+0.j,  0.+0.j]])"
      ]
     },
     "execution_count": 7,
     "metadata": {},
     "output_type": "execute_result"
    }
   ],
   "source": [
    "ccf.pythoncall(numerical(op))"
   ]
  },
  {
   "cell_type": "code",
   "execution_count": 8,
   "metadata": {
    "collapsed": false
   },
   "outputs": [
    {
     "data": {
      "text/plain": [
       "array([[ 0.+2.j,  0.+0.j],\n",
       "       [ 0.+0.j,  0.-2.j]])"
      ]
     },
     "execution_count": 8,
     "metadata": {},
     "output_type": "execute_result"
    }
   ],
   "source": [
    "ccf.pythoncall(numerical(sigmay()))"
   ]
  },
  {
   "cell_type": "markdown",
   "metadata": {},
   "source": [
    "# $\\rho \\rightarrow -i \\left[ \\sigma_x, \\rho \\right]$"
   ]
  },
  {
   "cell_type": "code",
   "execution_count": 9,
   "metadata": {
    "collapsed": true
   },
   "outputs": [],
   "source": [
    "op = sigmax()\n",
    "y_anon = Operator.anon(2)\n",
    "cf = generate_cython(evalf(-1j*Commutator(op, y_anon)),         \n",
    "                     func=NDArrayFunction(),            \n",
    "                     argument_order = [y_anon])"
   ]
  },
  {
   "cell_type": "code",
   "execution_count": 10,
   "metadata": {
    "collapsed": false
   },
   "outputs": [
    {
     "data": {
      "text/html": [
       "<!DOCTYPE html PUBLIC \"-//W3C//DTD HTML 4.01//EN\"\n",
       "   \"http://www.w3.org/TR/html4/strict.dtd\">\n",
       "\n",
       "<html>\n",
       "<head>\n",
       "  <title></title>\n",
       "  <meta http-equiv=\"content-type\" content=\"text/html; charset=None\">\n",
       "  <style type=\"text/css\">\n",
       "td.linenos { background-color: #f0f0f0; padding-right: 10px; }\n",
       "span.lineno { background-color: #f0f0f0; padding: 0 5px 0 5px; }\n",
       "pre { line-height: 125%; }\n",
       "body .hll { background-color: #ffffcc }\n",
       "body  { background: #f8f8f8; }\n",
       "body .c { color: #408080; font-style: italic } /* Comment */\n",
       "body .err { border: 1px solid #FF0000 } /* Error */\n",
       "body .k { color: #008000; font-weight: bold } /* Keyword */\n",
       "body .o { color: #666666 } /* Operator */\n",
       "body .cm { color: #408080; font-style: italic } /* Comment.Multiline */\n",
       "body .cp { color: #BC7A00 } /* Comment.Preproc */\n",
       "body .c1 { color: #408080; font-style: italic } /* Comment.Single */\n",
       "body .cs { color: #408080; font-style: italic } /* Comment.Special */\n",
       "body .gd { color: #A00000 } /* Generic.Deleted */\n",
       "body .ge { font-style: italic } /* Generic.Emph */\n",
       "body .gr { color: #FF0000 } /* Generic.Error */\n",
       "body .gh { color: #000080; font-weight: bold } /* Generic.Heading */\n",
       "body .gi { color: #00A000 } /* Generic.Inserted */\n",
       "body .go { color: #888888 } /* Generic.Output */\n",
       "body .gp { color: #000080; font-weight: bold } /* Generic.Prompt */\n",
       "body .gs { font-weight: bold } /* Generic.Strong */\n",
       "body .gu { color: #800080; font-weight: bold } /* Generic.Subheading */\n",
       "body .gt { color: #0044DD } /* Generic.Traceback */\n",
       "body .kc { color: #008000; font-weight: bold } /* Keyword.Constant */\n",
       "body .kd { color: #008000; font-weight: bold } /* Keyword.Declaration */\n",
       "body .kn { color: #008000; font-weight: bold } /* Keyword.Namespace */\n",
       "body .kp { color: #008000 } /* Keyword.Pseudo */\n",
       "body .kr { color: #008000; font-weight: bold } /* Keyword.Reserved */\n",
       "body .kt { color: #B00040 } /* Keyword.Type */\n",
       "body .m { color: #666666 } /* Literal.Number */\n",
       "body .s { color: #BA2121 } /* Literal.String */\n",
       "body .na { color: #7D9029 } /* Name.Attribute */\n",
       "body .nb { color: #008000 } /* Name.Builtin */\n",
       "body .nc { color: #0000FF; font-weight: bold } /* Name.Class */\n",
       "body .no { color: #880000 } /* Name.Constant */\n",
       "body .nd { color: #AA22FF } /* Name.Decorator */\n",
       "body .ni { color: #999999; font-weight: bold } /* Name.Entity */\n",
       "body .ne { color: #D2413A; font-weight: bold } /* Name.Exception */\n",
       "body .nf { color: #0000FF } /* Name.Function */\n",
       "body .nl { color: #A0A000 } /* Name.Label */\n",
       "body .nn { color: #0000FF; font-weight: bold } /* Name.Namespace */\n",
       "body .nt { color: #008000; font-weight: bold } /* Name.Tag */\n",
       "body .nv { color: #19177C } /* Name.Variable */\n",
       "body .ow { color: #AA22FF; font-weight: bold } /* Operator.Word */\n",
       "body .w { color: #bbbbbb } /* Text.Whitespace */\n",
       "body .mb { color: #666666 } /* Literal.Number.Bin */\n",
       "body .mf { color: #666666 } /* Literal.Number.Float */\n",
       "body .mh { color: #666666 } /* Literal.Number.Hex */\n",
       "body .mi { color: #666666 } /* Literal.Number.Integer */\n",
       "body .mo { color: #666666 } /* Literal.Number.Oct */\n",
       "body .sb { color: #BA2121 } /* Literal.String.Backtick */\n",
       "body .sc { color: #BA2121 } /* Literal.String.Char */\n",
       "body .sd { color: #BA2121; font-style: italic } /* Literal.String.Doc */\n",
       "body .s2 { color: #BA2121 } /* Literal.String.Double */\n",
       "body .se { color: #BB6622; font-weight: bold } /* Literal.String.Escape */\n",
       "body .sh { color: #BA2121 } /* Literal.String.Heredoc */\n",
       "body .si { color: #BB6688; font-weight: bold } /* Literal.String.Interpol */\n",
       "body .sx { color: #008000 } /* Literal.String.Other */\n",
       "body .sr { color: #BB6688 } /* Literal.String.Regex */\n",
       "body .s1 { color: #BA2121 } /* Literal.String.Single */\n",
       "body .ss { color: #19177C } /* Literal.String.Symbol */\n",
       "body .bp { color: #008000 } /* Name.Builtin.Pseudo */\n",
       "body .vc { color: #19177C } /* Name.Variable.Class */\n",
       "body .vg { color: #19177C } /* Name.Variable.Global */\n",
       "body .vi { color: #19177C } /* Name.Variable.Instance */\n",
       "body .il { color: #666666 } /* Literal.Number.Integer.Long */\n",
       "\n",
       "  </style>\n",
       "</head>\n",
       "<body>\n",
       "<h2></h2>\n",
       "\n",
       "<div class=\"highlight\"><pre><span class=\"c\">#cython: boundscheck=False, wraparound=False, initializedcheck=False, cdivision=True</span>\n",
       "<span class=\"k\">cimport</span> <span class=\"nn\">numpy</span> <span class=\"k\">as</span> <span class=\"nn\">np</span>\n",
       "<span class=\"k\">import</span> <span class=\"nn\">numpy</span> <span class=\"k\">as</span> <span class=\"nn\">np</span>\n",
       "<span class=\"k\">from</span> <span class=\"nn\">libc.math</span> <span class=\"k\">cimport</span> <span class=\"n\">sin</span><span class=\"p\">,</span> <span class=\"n\">cos</span><span class=\"p\">,</span> <span class=\"n\">exp</span><span class=\"p\">,</span> <span class=\"n\">sinh</span><span class=\"p\">,</span> <span class=\"n\">cosh</span><span class=\"p\">,</span> <span class=\"n\">tan</span><span class=\"p\">,</span> <span class=\"n\">tanh</span><span class=\"p\">,</span> <span class=\"n\">log</span>\n",
       "<span class=\"k\">from</span> <span class=\"nn\">scipy.linalg.cython_blas</span> <span class=\"k\">cimport</span> <span class=\"n\">zgemv</span><span class=\"p\">,</span> <span class=\"n\">zgemm</span>\n",
       "\n",
       "<span class=\"k\">cdef</span> <span class=\"kt\">int</span> <span class=\"nf\">iONE</span><span class=\"o\">=</span><span class=\"mf\">1</span><span class=\"p\">,</span> <span class=\"n\">iZERO</span><span class=\"o\">=</span><span class=\"mf\">0</span>\n",
       "<span class=\"k\">cdef</span> <span class=\"kt\">double</span> <span class=\"kt\">complex</span> <span class=\"nf\">zONE</span><span class=\"o\">=</span><span class=\"mf\">1</span><span class=\"p\">,</span> <span class=\"n\">zZERO</span><span class=\"o\">=</span><span class=\"mf\">0</span><span class=\"p\">,</span> <span class=\"n\">zNHALF</span><span class=\"o\">=-</span><span class=\"mf\">0.5</span>\n",
       "\n",
       "<span class=\"c\"># Declaration of global variables for</span>\n",
       "<span class=\"c\"># - intermediate results</span>\n",
       "<span class=\"c\"># - predefined constants</span>\n",
       "<span class=\"k\">cdef</span> <span class=\"kt\">double</span> <span class=\"kt\">complex</span> [<span class=\"p\">:,</span> <span class=\"p\">:]</span> <span class=\"n\">C</span> <span class=\"o\">=</span> <span class=\"n\">np</span><span class=\"o\">.</span><span class=\"n\">empty</span><span class=\"p\">((</span><span class=\"mf\">2</span><span class=\"p\">,</span> <span class=\"mf\">2</span><span class=\"p\">),</span> <span class=\"n\">dtype</span><span class=\"o\">=</span><span class=\"n\">np</span><span class=\"o\">.</span><span class=\"n\">complex</span><span class=\"p\">)</span>\n",
       "<span class=\"k\">cdef</span> <span class=\"kt\">double</span> <span class=\"kt\">complex</span> [<span class=\"p\">:,</span> <span class=\"p\">:]</span> <span class=\"n\">E</span> <span class=\"o\">=</span> <span class=\"n\">np</span><span class=\"o\">.</span><span class=\"n\">empty</span><span class=\"p\">((</span><span class=\"mf\">2</span><span class=\"p\">,</span> <span class=\"mf\">2</span><span class=\"p\">),</span> <span class=\"n\">dtype</span><span class=\"o\">=</span><span class=\"n\">np</span><span class=\"o\">.</span><span class=\"n\">complex</span><span class=\"p\">)</span>\n",
       "<span class=\"k\">cdef</span> <span class=\"kt\">double</span> <span class=\"kt\">complex</span> [<span class=\"p\">:,</span> <span class=\"p\">:]</span> <span class=\"n\">F</span> <span class=\"o\">=</span> <span class=\"n\">np</span><span class=\"o\">.</span><span class=\"n\">empty</span><span class=\"p\">((</span><span class=\"mf\">2</span><span class=\"p\">,</span> <span class=\"mf\">2</span><span class=\"p\">),</span> <span class=\"n\">dtype</span><span class=\"o\">=</span><span class=\"n\">np</span><span class=\"o\">.</span><span class=\"n\">complex</span><span class=\"p\">)</span>\n",
       "<span class=\"k\">cdef</span> <span class=\"kt\">double</span> <span class=\"kt\">complex</span> [<span class=\"p\">:,</span> <span class=\"p\">:]</span> <span class=\"n\">G</span> <span class=\"o\">=</span> <span class=\"n\">np</span><span class=\"o\">.</span><span class=\"n\">empty</span><span class=\"p\">((</span><span class=\"mf\">2</span><span class=\"p\">,</span> <span class=\"mf\">2</span><span class=\"p\">),</span> <span class=\"n\">dtype</span><span class=\"o\">=</span><span class=\"n\">np</span><span class=\"o\">.</span><span class=\"n\">complex</span><span class=\"p\">)</span>\n",
       "<span class=\"k\">cdef</span> <span class=\"kt\">double</span> <span class=\"kt\">complex</span> [<span class=\"p\">:,</span> <span class=\"p\">:]</span> <span class=\"n\">D</span> <span class=\"c\"># initialized in setup</span>\n",
       "<span class=\"k\">cdef</span> <span class=\"kt\">double</span> <span class=\"kt\">complex</span> [<span class=\"p\">:,</span> <span class=\"p\">:]</span> <span class=\"n\">A</span> <span class=\"c\"># initialized in setup</span>\n",
       "\n",
       "<span class=\"c\"># The generated cython code</span>\n",
       "<span class=\"k\">cdef</span> <span class=\"nf\">generated_function</span><span class=\"p\">(</span>\n",
       "    <span class=\"c\"># input arguments</span>\n",
       "    <span class=\"n\">double</span> <span class=\"nb\">complex</span> <span class=\"p\">[:,</span> <span class=\"p\">:]</span> <span class=\"n\">B</span><span class=\"p\">,</span>\n",
       "    <span class=\"c\"># output argument</span>\n",
       "    <span class=\"n\">double</span> <span class=\"nb\">complex</span> <span class=\"p\">[:,</span> <span class=\"p\">:]</span> <span class=\"n\">H</span>\n",
       "    <span class=\"p\">):</span>\n",
       "    <span class=\"c\"># indices and intermediate values for various matrix operations</span>\n",
       "    <span class=\"k\">cdef</span> <span class=\"kt\">int</span> <span class=\"nf\">i</span><span class=\"p\">,</span> <span class=\"nf\">j</span><span class=\"p\">,</span> <span class=\"nf\">k</span><span class=\"p\">,</span> <span class=\"nf\">ii</span><span class=\"p\">,</span> <span class=\"nf\">jj</span><span class=\"p\">,</span> <span class=\"nf\">kk</span>\n",
       "    <span class=\"k\">cdef</span> <span class=\"kt\">double</span> <span class=\"kt\">complex</span> <span class=\"nf\">c</span>\n",
       "    <span class=\"c\"># intermediate results</span>\n",
       "    <span class=\"k\">global</span> <span class=\"n\">C</span><span class=\"p\">,</span> <span class=\"n\">E</span><span class=\"p\">,</span> <span class=\"n\">F</span><span class=\"p\">,</span> <span class=\"n\">G</span>\n",
       "    <span class=\"c\"># predefined constants</span>\n",
       "    <span class=\"k\">global</span> <span class=\"n\">D</span><span class=\"p\">,</span> <span class=\"n\">A</span>\n",
       "    <span class=\"c\"># evaluating the function</span>\n",
       "    <span class=\"c\"># C = A.B</span>\n",
       "    <span class=\"n\">ii</span> <span class=\"o\">=</span> <span class=\"n\">A</span><span class=\"o\">.</span><span class=\"n\">shape</span><span class=\"p\">[</span><span class=\"mf\">0</span><span class=\"p\">]</span>\n",
       "    <span class=\"n\">jj</span> <span class=\"o\">=</span> <span class=\"n\">A</span><span class=\"o\">.</span><span class=\"n\">shape</span><span class=\"p\">[</span><span class=\"mf\">1</span><span class=\"p\">]</span>\n",
       "    <span class=\"n\">kk</span> <span class=\"o\">=</span> <span class=\"n\">B</span><span class=\"o\">.</span><span class=\"n\">shape</span><span class=\"p\">[</span><span class=\"mf\">1</span><span class=\"p\">]</span>\n",
       "    <span class=\"n\">zgemm</span><span class=\"p\">(</span><span class=\"s\">&#39;N&#39;</span><span class=\"p\">,</span> <span class=\"s\">&#39;N&#39;</span><span class=\"p\">,</span> <span class=\"o\">&amp;</span><span class=\"n\">kk</span><span class=\"p\">,</span> <span class=\"o\">&amp;</span><span class=\"n\">ii</span><span class=\"p\">,</span> <span class=\"o\">&amp;</span><span class=\"n\">jj</span><span class=\"p\">,</span> <span class=\"o\">&amp;</span><span class=\"n\">zONE</span><span class=\"p\">,</span> <span class=\"o\">&amp;</span><span class=\"n\">B</span><span class=\"p\">[</span><span class=\"mf\">0</span><span class=\"p\">,</span><span class=\"mf\">0</span><span class=\"p\">],</span> <span class=\"o\">&amp;</span><span class=\"n\">kk</span><span class=\"p\">,</span> <span class=\"o\">&amp;</span><span class=\"n\">A</span><span class=\"p\">[</span><span class=\"mf\">0</span><span class=\"p\">,</span><span class=\"mf\">0</span><span class=\"p\">],</span> <span class=\"o\">&amp;</span><span class=\"n\">jj</span><span class=\"p\">,</span> <span class=\"o\">&amp;</span><span class=\"n\">zZERO</span><span class=\"p\">,</span> <span class=\"o\">&amp;</span><span class=\"n\">C</span><span class=\"p\">[</span><span class=\"mf\">0</span><span class=\"p\">,</span><span class=\"mf\">0</span><span class=\"p\">],</span> <span class=\"o\">&amp;</span><span class=\"n\">kk</span><span class=\"p\">)</span>\n",
       "    <span class=\"c\"># E = B.D</span>\n",
       "    <span class=\"n\">ii</span> <span class=\"o\">=</span> <span class=\"n\">B</span><span class=\"o\">.</span><span class=\"n\">shape</span><span class=\"p\">[</span><span class=\"mf\">0</span><span class=\"p\">]</span>\n",
       "    <span class=\"n\">jj</span> <span class=\"o\">=</span> <span class=\"n\">B</span><span class=\"o\">.</span><span class=\"n\">shape</span><span class=\"p\">[</span><span class=\"mf\">1</span><span class=\"p\">]</span>\n",
       "    <span class=\"n\">kk</span> <span class=\"o\">=</span> <span class=\"n\">D</span><span class=\"o\">.</span><span class=\"n\">shape</span><span class=\"p\">[</span><span class=\"mf\">1</span><span class=\"p\">]</span>\n",
       "    <span class=\"n\">zgemm</span><span class=\"p\">(</span><span class=\"s\">&#39;N&#39;</span><span class=\"p\">,</span> <span class=\"s\">&#39;N&#39;</span><span class=\"p\">,</span> <span class=\"o\">&amp;</span><span class=\"n\">kk</span><span class=\"p\">,</span> <span class=\"o\">&amp;</span><span class=\"n\">ii</span><span class=\"p\">,</span> <span class=\"o\">&amp;</span><span class=\"n\">jj</span><span class=\"p\">,</span> <span class=\"o\">&amp;</span><span class=\"n\">zONE</span><span class=\"p\">,</span> <span class=\"o\">&amp;</span><span class=\"n\">D</span><span class=\"p\">[</span><span class=\"mf\">0</span><span class=\"p\">,</span><span class=\"mf\">0</span><span class=\"p\">],</span> <span class=\"o\">&amp;</span><span class=\"n\">kk</span><span class=\"p\">,</span> <span class=\"o\">&amp;</span><span class=\"n\">B</span><span class=\"p\">[</span><span class=\"mf\">0</span><span class=\"p\">,</span><span class=\"mf\">0</span><span class=\"p\">],</span> <span class=\"o\">&amp;</span><span class=\"n\">jj</span><span class=\"p\">,</span> <span class=\"o\">&amp;</span><span class=\"n\">zZERO</span><span class=\"p\">,</span> <span class=\"o\">&amp;</span><span class=\"n\">E</span><span class=\"p\">[</span><span class=\"mf\">0</span><span class=\"p\">,</span><span class=\"mf\">0</span><span class=\"p\">],</span> <span class=\"o\">&amp;</span><span class=\"n\">kk</span><span class=\"p\">)</span>\n",
       "    <span class=\"c\"># F = -1*E</span>\n",
       "    <span class=\"n\">ii</span> <span class=\"o\">=</span> <span class=\"n\">E</span><span class=\"o\">.</span><span class=\"n\">shape</span><span class=\"p\">[</span><span class=\"mf\">0</span><span class=\"p\">]</span>\n",
       "    <span class=\"n\">jj</span> <span class=\"o\">=</span> <span class=\"n\">E</span><span class=\"o\">.</span><span class=\"n\">shape</span><span class=\"p\">[</span><span class=\"mf\">1</span><span class=\"p\">]</span>\n",
       "    <span class=\"k\">for</span> <span class=\"n\">i</span> <span class=\"ow\">in</span> <span class=\"nb\">range</span><span class=\"p\">(</span><span class=\"n\">ii</span><span class=\"p\">):</span>\n",
       "        <span class=\"k\">for</span> <span class=\"n\">j</span> <span class=\"ow\">in</span> <span class=\"nb\">range</span><span class=\"p\">(</span><span class=\"n\">jj</span><span class=\"p\">):</span>\n",
       "            <span class=\"n\">F</span><span class=\"p\">[</span><span class=\"n\">i</span><span class=\"p\">,</span><span class=\"n\">j</span><span class=\"p\">]</span> <span class=\"o\">=</span> <span class=\"o\">-</span><span class=\"mf\">1</span><span class=\"o\">*</span><span class=\"n\">E</span><span class=\"p\">[</span><span class=\"n\">i</span><span class=\"p\">,</span><span class=\"n\">j</span><span class=\"p\">]</span>\n",
       "    <span class=\"c\"># G = C+F</span>\n",
       "    <span class=\"n\">ii</span> <span class=\"o\">=</span> <span class=\"n\">C</span><span class=\"o\">.</span><span class=\"n\">shape</span><span class=\"p\">[</span><span class=\"mf\">0</span><span class=\"p\">]</span>\n",
       "    <span class=\"n\">jj</span> <span class=\"o\">=</span> <span class=\"n\">C</span><span class=\"o\">.</span><span class=\"n\">shape</span><span class=\"p\">[</span><span class=\"mf\">1</span><span class=\"p\">]</span>\n",
       "    <span class=\"k\">for</span> <span class=\"n\">i</span> <span class=\"ow\">in</span> <span class=\"nb\">range</span><span class=\"p\">(</span><span class=\"n\">ii</span><span class=\"p\">):</span>\n",
       "        <span class=\"k\">for</span> <span class=\"n\">j</span> <span class=\"ow\">in</span> <span class=\"nb\">range</span><span class=\"p\">(</span><span class=\"n\">jj</span><span class=\"p\">):</span>\n",
       "            <span class=\"n\">G</span><span class=\"p\">[</span><span class=\"n\">i</span><span class=\"p\">,</span><span class=\"n\">j</span><span class=\"p\">]</span> <span class=\"o\">=</span> <span class=\"n\">C</span><span class=\"p\">[</span><span class=\"n\">i</span><span class=\"p\">,</span><span class=\"n\">j</span><span class=\"p\">]</span><span class=\"o\">+</span><span class=\"n\">F</span><span class=\"p\">[</span><span class=\"n\">i</span><span class=\"p\">,</span><span class=\"n\">j</span><span class=\"p\">]</span>\n",
       "    <span class=\"c\"># H = -1j*G</span>\n",
       "    <span class=\"n\">ii</span> <span class=\"o\">=</span> <span class=\"n\">G</span><span class=\"o\">.</span><span class=\"n\">shape</span><span class=\"p\">[</span><span class=\"mf\">0</span><span class=\"p\">]</span>\n",
       "    <span class=\"n\">jj</span> <span class=\"o\">=</span> <span class=\"n\">G</span><span class=\"o\">.</span><span class=\"n\">shape</span><span class=\"p\">[</span><span class=\"mf\">1</span><span class=\"p\">]</span>\n",
       "    <span class=\"k\">for</span> <span class=\"n\">i</span> <span class=\"ow\">in</span> <span class=\"nb\">range</span><span class=\"p\">(</span><span class=\"n\">ii</span><span class=\"p\">):</span>\n",
       "        <span class=\"k\">for</span> <span class=\"n\">j</span> <span class=\"ow\">in</span> <span class=\"nb\">range</span><span class=\"p\">(</span><span class=\"n\">jj</span><span class=\"p\">):</span>\n",
       "            <span class=\"n\">H</span><span class=\"p\">[</span><span class=\"n\">i</span><span class=\"p\">,</span><span class=\"n\">j</span><span class=\"p\">]</span> <span class=\"o\">=</span> <span class=\"o\">-</span><span class=\"mf\">1</span><span class=\"n\">j</span><span class=\"o\">*</span><span class=\"n\">G</span><span class=\"p\">[</span><span class=\"n\">i</span><span class=\"p\">,</span><span class=\"n\">j</span><span class=\"p\">]</span>\n",
       "\n",
       "<span class=\"c\"># Function to deliver the constants from python to cython</span>\n",
       "<span class=\"k\">cpdef</span> <span class=\"nf\">setup_generated_function</span><span class=\"p\">(</span>\n",
       "    <span class=\"n\">double</span> <span class=\"nb\">complex</span> <span class=\"p\">[:,</span> <span class=\"p\">:]</span> <span class=\"n\">_D</span><span class=\"p\">,</span>\n",
       "    <span class=\"n\">double</span> <span class=\"nb\">complex</span> <span class=\"p\">[:,</span> <span class=\"p\">:]</span> <span class=\"n\">_A</span>\n",
       "    <span class=\"p\">):</span>\n",
       "    <span class=\"k\">global</span> <span class=\"n\">D</span><span class=\"p\">,</span> <span class=\"n\">A</span>\n",
       "    <span class=\"n\">D</span> <span class=\"o\">=</span> <span class=\"n\">_D</span>\n",
       "    <span class=\"n\">A</span> <span class=\"o\">=</span> <span class=\"n\">_A</span>\n",
       "\n",
       "<span class=\"k\">cpdef</span> <span class=\"kt\">np</span>.<span class=\"kt\">ndarray</span>[<span class=\"kt\">np</span>.<span class=\"nf\">complex_t</span><span class=\"p\">,</span> <span class=\"nf\">ndim</span><span class=\"o\">=</span><span class=\"mf\">2</span><span class=\"p\">]</span> <span class=\"n\">pythoncall</span><span class=\"p\">(</span><span class=\"n\">_0</span><span class=\"p\">):</span>\n",
       "    <span class=\"k\">cdef</span> <span class=\"kt\">np</span>.<span class=\"kt\">ndarray</span>[<span class=\"kt\">np</span>.<span class=\"nf\">complex_t</span><span class=\"p\">,</span> <span class=\"nf\">ndim</span><span class=\"o\">=</span><span class=\"mf\">2</span><span class=\"p\">]</span> <span class=\"n\">result</span> <span class=\"o\">=</span> <span class=\"n\">np</span><span class=\"o\">.</span><span class=\"n\">empty</span><span class=\"p\">((</span><span class=\"mf\">2</span><span class=\"p\">,</span> <span class=\"mf\">2</span><span class=\"p\">),</span> <span class=\"nb\">complex</span><span class=\"p\">)</span>\n",
       "    <span class=\"n\">generated_function</span><span class=\"p\">(</span><span class=\"n\">_0</span><span class=\"p\">,</span> <span class=\"n\">result</span><span class=\"p\">)</span>\n",
       "    <span class=\"k\">return</span> <span class=\"n\">result</span>\n",
       "</pre></div>\n",
       "</body>\n",
       "</html>\n"
      ],
      "text/plain": [
       "<IPython.core.display.HTML object>"
      ]
     },
     "metadata": {},
     "output_type": "display_data"
    }
   ],
   "source": [
    "ccf = cf.compiled()"
   ]
  },
  {
   "cell_type": "code",
   "execution_count": 11,
   "metadata": {
    "collapsed": false
   },
   "outputs": [
    {
     "data": {
      "text/plain": [
       "array([[ 2.-0.j,  0.-0.j],\n",
       "       [ 0.-0.j, -2.+0.j]])"
      ]
     },
     "execution_count": 11,
     "metadata": {},
     "output_type": "execute_result"
    }
   ],
   "source": [
    "ccf.pythoncall(numerical(sigmay()))"
   ]
  }
 ],
 "metadata": {
  "kernelspec": {
   "display_name": "Python 3",
   "language": "python",
   "name": "python3"
  },
  "language_info": {
   "codemirror_mode": {
    "name": "ipython",
    "version": 3
   },
   "file_extension": ".py",
   "mimetype": "text/x-python",
   "name": "python",
   "nbconvert_exporter": "python",
   "pygments_lexer": "ipython3",
   "version": "3.4.2"
  }
 },
 "nbformat": 4,
 "nbformat_minor": 0
}
