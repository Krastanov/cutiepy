{
 "cells": [
  {
   "cell_type": "markdown",
   "metadata": {},
   "source": [
    "### Table of Contents\n",
    "\n",
    "1. [Rabi Oscillations](#Rabi-Oscillations)\n",
    "    1. [Simulating the Full Hamiltonian](#Simulating-the-Full-Hamiltonian)\n",
    "    2. [With Rotating Wave Approximation](#With-Rotating-Wave-Approximation)\n",
    "2. [Coherent State in a Harmonic Oscillator](#Coherent-State-in-a-Harmonic-Oscillator)\n",
    "3. [Jaynes-Cummings Revival](#Jaynes-Cummings-Revival)\n",
    "    1. [Definite Photon State](#Definite-Photon-State)\n",
    "    2. [Coherent State](#Coherent-State)\n",
    "    \n",
    "The only addition to this notebook compared to the original is the `DEBUG=True` setting that prints all of the generated Cython code."
   ]
  },
  {
   "cell_type": "code",
   "execution_count": 1,
   "metadata": {
    "collapsed": true
   },
   "outputs": [],
   "source": [
    "from cutiepy import *\n",
    "%matplotlib inline\n",
    "import matplotlib.pyplot as plt\n",
    "import numpy as np\n",
    "cutiepy.codegen.DEBUG = True"
   ]
  },
  {
   "cell_type": "markdown",
   "metadata": {},
   "source": [
    "# Rabi Oscillations\n",
    "\n",
    "## Simulating the Full Hamiltonian\n",
    "\n",
    "$\\hat{H} = \\hat{H}_0 + \\Omega \\sin((\\omega_0+\\Delta)t) \\hat{\\sigma}_x$\n",
    "\n",
    "$\\hat{H}_0 = \\frac{\\omega_0}{2}\\hat{\\sigma}_z$"
   ]
  },
  {
   "cell_type": "code",
   "execution_count": 2,
   "metadata": {
    "collapsed": false
   },
   "outputs": [
    {
     "data": {
      "text/latex": [
       "$$\\text{Ket }{| {{0}}_{{\\tiny N\\normalsize 2}} \\rangle} \\text{ on the space }\\mathbb{C}^{2}\\text{ with numerical content: }$$\n",
       "$$\\begin{equation*}\\left(\\begin{array}{*{11}c}1.0\\\\0.0\\\\\\end{array}\\right)\\end{equation*}$$"
      ],
      "text/plain": [
       "'{0}_{\\\\tiny N\\\\normalsize 2}'"
      ]
     },
     "execution_count": 2,
     "metadata": {},
     "output_type": "execute_result"
    }
   ],
   "source": [
    "initial_state = basis(2, 0)\n",
    "initial_state"
   ]
  },
  {
   "cell_type": "code",
   "execution_count": 3,
   "metadata": {
    "collapsed": false
   },
   "outputs": [
    {
     "data": {
      "text/latex": [
       "$${\\left( {{0.005}\\tiny\\times\\normalsize{\\operatorname{sin}\\left( {{{1.002}\\tiny\\times\\normalsize{t}}} \\right)}\\tiny\\times\\normalsize{\\hat{σ}_{x}}}+{{0.5}\\tiny\\times\\normalsize{\\hat{σ}_{z}}} \\right)}$$"
      ],
      "text/plain": [
       "Add(Mul(0.005, sin(Mul(1.002, 't')), 'σ_x'), Mul(0.5, 'σ_z'))"
      ]
     },
     "execution_count": 3,
     "metadata": {},
     "output_type": "execute_result"
    }
   ],
   "source": [
    "ω0 = 1\n",
    "Δ = 0.002\n",
    "Ω = 0.005\n",
    "ts = 2*np.pi/Ω*np.linspace(0,1,40)\n",
    "H = ω0/2 * sigmaz() + Ω * sigmax() * sin((ω0+Δ)*t)\n",
    "H"
   ]
  },
  {
   "cell_type": "code",
   "execution_count": 4,
   "metadata": {
    "collapsed": false
   },
   "outputs": [
    {
     "data": {
      "text/html": [
       "<!DOCTYPE html PUBLIC \"-//W3C//DTD HTML 4.01//EN\"\n",
       "   \"http://www.w3.org/TR/html4/strict.dtd\">\n",
       "\n",
       "<html>\n",
       "<head>\n",
       "  <title></title>\n",
       "  <meta http-equiv=\"content-type\" content=\"text/html; charset=None\">\n",
       "  <style type=\"text/css\">\n",
       "td.linenos { background-color: #f0f0f0; padding-right: 10px; }\n",
       "span.lineno { background-color: #f0f0f0; padding: 0 5px 0 5px; }\n",
       "pre { line-height: 125%; }\n",
       "body .hll { background-color: #ffffcc }\n",
       "body  { background: #f8f8f8; }\n",
       "body .c { color: #408080; font-style: italic } /* Comment */\n",
       "body .err { border: 1px solid #FF0000 } /* Error */\n",
       "body .k { color: #008000; font-weight: bold } /* Keyword */\n",
       "body .o { color: #666666 } /* Operator */\n",
       "body .cm { color: #408080; font-style: italic } /* Comment.Multiline */\n",
       "body .cp { color: #BC7A00 } /* Comment.Preproc */\n",
       "body .c1 { color: #408080; font-style: italic } /* Comment.Single */\n",
       "body .cs { color: #408080; font-style: italic } /* Comment.Special */\n",
       "body .gd { color: #A00000 } /* Generic.Deleted */\n",
       "body .ge { font-style: italic } /* Generic.Emph */\n",
       "body .gr { color: #FF0000 } /* Generic.Error */\n",
       "body .gh { color: #000080; font-weight: bold } /* Generic.Heading */\n",
       "body .gi { color: #00A000 } /* Generic.Inserted */\n",
       "body .go { color: #888888 } /* Generic.Output */\n",
       "body .gp { color: #000080; font-weight: bold } /* Generic.Prompt */\n",
       "body .gs { font-weight: bold } /* Generic.Strong */\n",
       "body .gu { color: #800080; font-weight: bold } /* Generic.Subheading */\n",
       "body .gt { color: #0044DD } /* Generic.Traceback */\n",
       "body .kc { color: #008000; font-weight: bold } /* Keyword.Constant */\n",
       "body .kd { color: #008000; font-weight: bold } /* Keyword.Declaration */\n",
       "body .kn { color: #008000; font-weight: bold } /* Keyword.Namespace */\n",
       "body .kp { color: #008000 } /* Keyword.Pseudo */\n",
       "body .kr { color: #008000; font-weight: bold } /* Keyword.Reserved */\n",
       "body .kt { color: #B00040 } /* Keyword.Type */\n",
       "body .m { color: #666666 } /* Literal.Number */\n",
       "body .s { color: #BA2121 } /* Literal.String */\n",
       "body .na { color: #7D9029 } /* Name.Attribute */\n",
       "body .nb { color: #008000 } /* Name.Builtin */\n",
       "body .nc { color: #0000FF; font-weight: bold } /* Name.Class */\n",
       "body .no { color: #880000 } /* Name.Constant */\n",
       "body .nd { color: #AA22FF } /* Name.Decorator */\n",
       "body .ni { color: #999999; font-weight: bold } /* Name.Entity */\n",
       "body .ne { color: #D2413A; font-weight: bold } /* Name.Exception */\n",
       "body .nf { color: #0000FF } /* Name.Function */\n",
       "body .nl { color: #A0A000 } /* Name.Label */\n",
       "body .nn { color: #0000FF; font-weight: bold } /* Name.Namespace */\n",
       "body .nt { color: #008000; font-weight: bold } /* Name.Tag */\n",
       "body .nv { color: #19177C } /* Name.Variable */\n",
       "body .ow { color: #AA22FF; font-weight: bold } /* Operator.Word */\n",
       "body .w { color: #bbbbbb } /* Text.Whitespace */\n",
       "body .mb { color: #666666 } /* Literal.Number.Bin */\n",
       "body .mf { color: #666666 } /* Literal.Number.Float */\n",
       "body .mh { color: #666666 } /* Literal.Number.Hex */\n",
       "body .mi { color: #666666 } /* Literal.Number.Integer */\n",
       "body .mo { color: #666666 } /* Literal.Number.Oct */\n",
       "body .sb { color: #BA2121 } /* Literal.String.Backtick */\n",
       "body .sc { color: #BA2121 } /* Literal.String.Char */\n",
       "body .sd { color: #BA2121; font-style: italic } /* Literal.String.Doc */\n",
       "body .s2 { color: #BA2121 } /* Literal.String.Double */\n",
       "body .se { color: #BB6622; font-weight: bold } /* Literal.String.Escape */\n",
       "body .sh { color: #BA2121 } /* Literal.String.Heredoc */\n",
       "body .si { color: #BB6688; font-weight: bold } /* Literal.String.Interpol */\n",
       "body .sx { color: #008000 } /* Literal.String.Other */\n",
       "body .sr { color: #BB6688 } /* Literal.String.Regex */\n",
       "body .s1 { color: #BA2121 } /* Literal.String.Single */\n",
       "body .ss { color: #19177C } /* Literal.String.Symbol */\n",
       "body .bp { color: #008000 } /* Name.Builtin.Pseudo */\n",
       "body .vc { color: #19177C } /* Name.Variable.Class */\n",
       "body .vg { color: #19177C } /* Name.Variable.Global */\n",
       "body .vi { color: #19177C } /* Name.Variable.Instance */\n",
       "body .il { color: #666666 } /* Literal.Number.Integer.Long */\n",
       "\n",
       "  </style>\n",
       "</head>\n",
       "<body>\n",
       "<h2></h2>\n",
       "\n",
       "<div class=\"highlight\"><pre><span class=\"c\">#cython: boundscheck=False, wraparound=False, initializedcheck=False, cdivision=True</span>\n",
       "<span class=\"k\">cimport</span> <span class=\"nn\">numpy</span> <span class=\"k\">as</span> <span class=\"nn\">np</span>\n",
       "<span class=\"k\">import</span> <span class=\"nn\">numpy</span> <span class=\"k\">as</span> <span class=\"nn\">np</span>\n",
       "<span class=\"k\">from</span> <span class=\"nn\">libc.math</span> <span class=\"k\">cimport</span> <span class=\"n\">sin</span><span class=\"p\">,</span> <span class=\"n\">cos</span><span class=\"p\">,</span> <span class=\"n\">exp</span><span class=\"p\">,</span> <span class=\"n\">sinh</span><span class=\"p\">,</span> <span class=\"n\">cosh</span><span class=\"p\">,</span> <span class=\"n\">tan</span><span class=\"p\">,</span> <span class=\"n\">tanh</span><span class=\"p\">,</span> <span class=\"n\">log</span>\n",
       "\n",
       "<span class=\"c\"># Declaration of global variables for</span>\n",
       "<span class=\"c\"># - intermediate results</span>\n",
       "<span class=\"c\"># - predefined constants</span>\n",
       "<span class=\"k\">cdef</span> <span class=\"kt\">double</span> <span class=\"nf\">D</span> <span class=\"o\">=</span> <span class=\"mf\">0</span>\n",
       "<span class=\"k\">cdef</span> <span class=\"kt\">double</span> <span class=\"nf\">B</span> <span class=\"o\">=</span> <span class=\"mf\">0</span>\n",
       "<span class=\"k\">cdef</span> <span class=\"kt\">double</span> <span class=\"kt\">complex</span> [<span class=\"p\">:,</span> <span class=\"p\">:]</span> <span class=\"n\">F</span> <span class=\"o\">=</span> <span class=\"n\">np</span><span class=\"o\">.</span><span class=\"n\">zeros</span><span class=\"p\">((</span><span class=\"mf\">2</span><span class=\"p\">,</span> <span class=\"mf\">2</span><span class=\"p\">),</span> <span class=\"n\">dtype</span><span class=\"o\">=</span><span class=\"n\">np</span><span class=\"o\">.</span><span class=\"n\">complex</span><span class=\"p\">)</span>\n",
       "<span class=\"k\">cdef</span> <span class=\"kt\">double</span> <span class=\"kt\">complex</span> [<span class=\"p\">:,</span> <span class=\"p\">:]</span> <span class=\"n\">G</span> <span class=\"o\">=</span> <span class=\"n\">np</span><span class=\"o\">.</span><span class=\"n\">zeros</span><span class=\"p\">((</span><span class=\"mf\">2</span><span class=\"p\">,</span> <span class=\"mf\">2</span><span class=\"p\">),</span> <span class=\"n\">dtype</span><span class=\"o\">=</span><span class=\"n\">np</span><span class=\"o\">.</span><span class=\"n\">complex</span><span class=\"p\">)</span>\n",
       "<span class=\"k\">cdef</span> <span class=\"kt\">double</span> <span class=\"kt\">complex</span> [<span class=\"p\">:,</span> <span class=\"p\">:]</span> <span class=\"n\">I</span> <span class=\"o\">=</span> <span class=\"n\">np</span><span class=\"o\">.</span><span class=\"n\">zeros</span><span class=\"p\">((</span><span class=\"mf\">2</span><span class=\"p\">,</span> <span class=\"mf\">1</span><span class=\"p\">),</span> <span class=\"n\">dtype</span><span class=\"o\">=</span><span class=\"n\">np</span><span class=\"o\">.</span><span class=\"n\">complex</span><span class=\"p\">)</span>\n",
       "<span class=\"k\">cdef</span> <span class=\"kt\">double</span> <span class=\"kt\">complex</span> [<span class=\"p\">:,</span> <span class=\"p\">:]</span> <span class=\"n\">E</span> <span class=\"o\">=</span> <span class=\"n\">np</span><span class=\"o\">.</span><span class=\"n\">zeros</span><span class=\"p\">((</span><span class=\"mf\">2</span><span class=\"p\">,</span> <span class=\"mf\">2</span><span class=\"p\">),</span> <span class=\"n\">dtype</span><span class=\"o\">=</span><span class=\"n\">np</span><span class=\"o\">.</span><span class=\"n\">complex</span><span class=\"p\">)</span>\n",
       "<span class=\"k\">cdef</span> <span class=\"kt\">double</span> <span class=\"kt\">complex</span> [<span class=\"p\">:,</span> <span class=\"p\">:]</span> <span class=\"n\">A</span> <span class=\"o\">=</span> <span class=\"n\">np</span><span class=\"o\">.</span><span class=\"n\">zeros</span><span class=\"p\">((</span><span class=\"mf\">2</span><span class=\"p\">,</span> <span class=\"mf\">2</span><span class=\"p\">),</span> <span class=\"n\">dtype</span><span class=\"o\">=</span><span class=\"n\">np</span><span class=\"o\">.</span><span class=\"n\">complex</span><span class=\"p\">)</span>\n",
       "\n",
       "<span class=\"c\"># The generated cython code</span>\n",
       "<span class=\"k\">cdef</span> <span class=\"nf\">generated_function</span><span class=\"p\">(</span>\n",
       "    <span class=\"c\"># input arguments</span>\n",
       "    <span class=\"n\">double</span> <span class=\"n\">C</span><span class=\"p\">,</span>\n",
       "    <span class=\"n\">double</span> <span class=\"nb\">complex</span> <span class=\"p\">[:,</span> <span class=\"p\">:]</span> <span class=\"n\">H</span><span class=\"p\">,</span>\n",
       "    <span class=\"c\"># output argument</span>\n",
       "    <span class=\"n\">double</span> <span class=\"nb\">complex</span> <span class=\"p\">[:,</span> <span class=\"p\">:]</span> <span class=\"n\">J</span>\n",
       "    <span class=\"p\">):</span>\n",
       "    <span class=\"c\"># indices and intermediate values for various matrix operations</span>\n",
       "    <span class=\"k\">cdef</span> <span class=\"kt\">int</span> <span class=\"nf\">i</span><span class=\"p\">,</span> <span class=\"nf\">j</span><span class=\"p\">,</span> <span class=\"nf\">k</span><span class=\"p\">,</span> <span class=\"nf\">ii</span><span class=\"p\">,</span> <span class=\"nf\">jj</span><span class=\"p\">,</span> <span class=\"nf\">kk</span>\n",
       "    <span class=\"k\">cdef</span> <span class=\"kt\">double</span> <span class=\"kt\">complex</span> <span class=\"nf\">c</span>\n",
       "    <span class=\"c\"># intermediate results</span>\n",
       "    <span class=\"k\">global</span> <span class=\"n\">D</span><span class=\"p\">,</span> <span class=\"n\">B</span><span class=\"p\">,</span> <span class=\"n\">F</span><span class=\"p\">,</span> <span class=\"n\">G</span><span class=\"p\">,</span> <span class=\"n\">I</span><span class=\"p\">,</span> <span class=\"n\">J</span>\n",
       "    <span class=\"c\"># predefined constants</span>\n",
       "    <span class=\"k\">global</span> <span class=\"n\">E</span><span class=\"p\">,</span> <span class=\"n\">A</span>\n",
       "    <span class=\"c\"># evaluating the function</span>\n",
       "    <span class=\"n\">D</span> <span class=\"o\">=</span> <span class=\"mf\">1.002</span><span class=\"o\">*</span><span class=\"n\">C</span>\n",
       "    <span class=\"n\">B</span> <span class=\"o\">=</span> <span class=\"n\">sin</span><span class=\"p\">(</span><span class=\"n\">D</span><span class=\"p\">)</span>\n",
       "    <span class=\"c\"># F = B*E</span>\n",
       "    <span class=\"n\">ii</span> <span class=\"o\">=</span> <span class=\"n\">E</span><span class=\"o\">.</span><span class=\"n\">shape</span><span class=\"p\">[</span><span class=\"mf\">0</span><span class=\"p\">]</span>\n",
       "    <span class=\"n\">jj</span> <span class=\"o\">=</span> <span class=\"n\">E</span><span class=\"o\">.</span><span class=\"n\">shape</span><span class=\"p\">[</span><span class=\"mf\">1</span><span class=\"p\">]</span>\n",
       "    <span class=\"k\">for</span> <span class=\"n\">i</span> <span class=\"ow\">in</span> <span class=\"nb\">range</span><span class=\"p\">(</span><span class=\"n\">ii</span><span class=\"p\">):</span>\n",
       "        <span class=\"k\">for</span> <span class=\"n\">j</span> <span class=\"ow\">in</span> <span class=\"nb\">range</span><span class=\"p\">(</span><span class=\"n\">jj</span><span class=\"p\">):</span>\n",
       "            <span class=\"n\">F</span><span class=\"p\">[</span><span class=\"n\">i</span><span class=\"p\">,</span><span class=\"n\">j</span><span class=\"p\">]</span> <span class=\"o\">=</span> <span class=\"n\">B</span><span class=\"o\">*</span><span class=\"n\">E</span><span class=\"p\">[</span><span class=\"n\">i</span><span class=\"p\">,</span><span class=\"n\">j</span><span class=\"p\">]</span>\n",
       "    <span class=\"c\"># G = A+F</span>\n",
       "    <span class=\"n\">ii</span> <span class=\"o\">=</span> <span class=\"n\">A</span><span class=\"o\">.</span><span class=\"n\">shape</span><span class=\"p\">[</span><span class=\"mf\">0</span><span class=\"p\">]</span>\n",
       "    <span class=\"n\">jj</span> <span class=\"o\">=</span> <span class=\"n\">A</span><span class=\"o\">.</span><span class=\"n\">shape</span><span class=\"p\">[</span><span class=\"mf\">1</span><span class=\"p\">]</span>\n",
       "    <span class=\"k\">for</span> <span class=\"n\">i</span> <span class=\"ow\">in</span> <span class=\"nb\">range</span><span class=\"p\">(</span><span class=\"n\">ii</span><span class=\"p\">):</span>\n",
       "        <span class=\"k\">for</span> <span class=\"n\">j</span> <span class=\"ow\">in</span> <span class=\"nb\">range</span><span class=\"p\">(</span><span class=\"n\">jj</span><span class=\"p\">):</span>\n",
       "            <span class=\"n\">G</span><span class=\"p\">[</span><span class=\"n\">i</span><span class=\"p\">,</span><span class=\"n\">j</span><span class=\"p\">]</span> <span class=\"o\">=</span> <span class=\"n\">A</span><span class=\"p\">[</span><span class=\"n\">i</span><span class=\"p\">,</span><span class=\"n\">j</span><span class=\"p\">]</span><span class=\"o\">+</span><span class=\"n\">F</span><span class=\"p\">[</span><span class=\"n\">i</span><span class=\"p\">,</span><span class=\"n\">j</span><span class=\"p\">]</span>\n",
       "    <span class=\"c\"># I = G.H</span>\n",
       "    <span class=\"n\">ii</span> <span class=\"o\">=</span> <span class=\"n\">G</span><span class=\"o\">.</span><span class=\"n\">shape</span><span class=\"p\">[</span><span class=\"mf\">0</span><span class=\"p\">]</span>\n",
       "    <span class=\"n\">jj</span> <span class=\"o\">=</span> <span class=\"n\">H</span><span class=\"o\">.</span><span class=\"n\">shape</span><span class=\"p\">[</span><span class=\"mf\">1</span><span class=\"p\">]</span>\n",
       "    <span class=\"n\">kk</span> <span class=\"o\">=</span> <span class=\"n\">H</span><span class=\"o\">.</span><span class=\"n\">shape</span><span class=\"p\">[</span><span class=\"mf\">0</span><span class=\"p\">]</span>\n",
       "    <span class=\"k\">for</span> <span class=\"n\">i</span> <span class=\"ow\">in</span> <span class=\"nb\">range</span><span class=\"p\">(</span><span class=\"n\">ii</span><span class=\"p\">):</span>\n",
       "        <span class=\"k\">for</span> <span class=\"n\">j</span> <span class=\"ow\">in</span> <span class=\"nb\">range</span><span class=\"p\">(</span><span class=\"n\">jj</span><span class=\"p\">):</span>\n",
       "            <span class=\"n\">c</span> <span class=\"o\">=</span> <span class=\"mf\">0</span>\n",
       "            <span class=\"k\">for</span> <span class=\"n\">k</span> <span class=\"ow\">in</span> <span class=\"nb\">range</span><span class=\"p\">(</span><span class=\"n\">kk</span><span class=\"p\">):</span>\n",
       "                <span class=\"n\">c</span> <span class=\"o\">+=</span> <span class=\"n\">G</span><span class=\"p\">[</span><span class=\"n\">i</span><span class=\"p\">,</span><span class=\"n\">k</span><span class=\"p\">]</span><span class=\"o\">*</span><span class=\"n\">H</span><span class=\"p\">[</span><span class=\"n\">k</span><span class=\"p\">,</span><span class=\"n\">j</span><span class=\"p\">]</span>\n",
       "            <span class=\"n\">I</span><span class=\"p\">[</span><span class=\"n\">i</span><span class=\"p\">,</span><span class=\"n\">j</span><span class=\"p\">]</span> <span class=\"o\">=</span> <span class=\"n\">c</span>\n",
       "    <span class=\"c\"># J = -1j*I</span>\n",
       "    <span class=\"n\">ii</span> <span class=\"o\">=</span> <span class=\"n\">I</span><span class=\"o\">.</span><span class=\"n\">shape</span><span class=\"p\">[</span><span class=\"mf\">0</span><span class=\"p\">]</span>\n",
       "    <span class=\"n\">jj</span> <span class=\"o\">=</span> <span class=\"n\">I</span><span class=\"o\">.</span><span class=\"n\">shape</span><span class=\"p\">[</span><span class=\"mf\">1</span><span class=\"p\">]</span>\n",
       "    <span class=\"k\">for</span> <span class=\"n\">i</span> <span class=\"ow\">in</span> <span class=\"nb\">range</span><span class=\"p\">(</span><span class=\"n\">ii</span><span class=\"p\">):</span>\n",
       "        <span class=\"k\">for</span> <span class=\"n\">j</span> <span class=\"ow\">in</span> <span class=\"nb\">range</span><span class=\"p\">(</span><span class=\"n\">jj</span><span class=\"p\">):</span>\n",
       "            <span class=\"n\">J</span><span class=\"p\">[</span><span class=\"n\">i</span><span class=\"p\">,</span><span class=\"n\">j</span><span class=\"p\">]</span> <span class=\"o\">=</span> <span class=\"o\">-</span><span class=\"mf\">1</span><span class=\"n\">j</span><span class=\"o\">*</span><span class=\"n\">I</span><span class=\"p\">[</span><span class=\"n\">i</span><span class=\"p\">,</span><span class=\"n\">j</span><span class=\"p\">]</span>\n",
       "\n",
       "<span class=\"c\"># Function to deliver the constants from python to cython</span>\n",
       "<span class=\"k\">cpdef</span> <span class=\"nf\">setup_generated_function</span><span class=\"p\">(</span>\n",
       "    <span class=\"n\">double</span> <span class=\"nb\">complex</span> <span class=\"p\">[:,</span> <span class=\"p\">:]</span> <span class=\"n\">_E</span><span class=\"p\">,</span>\n",
       "    <span class=\"n\">double</span> <span class=\"nb\">complex</span> <span class=\"p\">[:,</span> <span class=\"p\">:]</span> <span class=\"n\">_A</span>\n",
       "    <span class=\"p\">):</span>\n",
       "    <span class=\"k\">global</span> <span class=\"n\">E</span><span class=\"p\">,</span> <span class=\"n\">A</span>\n",
       "    <span class=\"n\">E</span> <span class=\"o\">=</span> <span class=\"n\">_E</span>\n",
       "    <span class=\"n\">A</span> <span class=\"o\">=</span> <span class=\"n\">_A</span>\n",
       "\n",
       "<span class=\"k\">ctypedef</span> <span class=\"n\">void</span> <span class=\"n\">rhs_t</span><span class=\"p\">(</span><span class=\"n\">double</span> <span class=\"n\">t</span><span class=\"p\">,</span> <span class=\"n\">double</span> <span class=\"o\">*</span><span class=\"n\">y</span><span class=\"p\">,</span> <span class=\"n\">double</span> <span class=\"o\">*</span><span class=\"n\">ydot</span><span class=\"p\">)</span>\n",
       "<span class=\"k\">cdef</span> <span class=\"kr\">extern</span> <span class=\"k\">from</span> <span class=\"s\">&quot;cvode_simple_interface.h&quot;</span><span class=\"p\">:</span>\n",
       "    <span class=\"k\">struct</span> <span class=\"nc\">cvsi_instance</span><span class=\"p\">:</span>\n",
       "        <span class=\"k\">pass</span>\n",
       "    <span class=\"n\">cvsi_instance</span> <span class=\"o\">*</span><span class=\"n\">cvsi_setup</span><span class=\"p\">(</span><span class=\"n\">rhs_t</span> <span class=\"o\">*</span><span class=\"n\">rhs</span><span class=\"p\">,</span>\n",
       "                              <span class=\"n\">double</span> <span class=\"o\">*</span><span class=\"n\">y0</span><span class=\"p\">,</span> <span class=\"nb\">int</span> <span class=\"n\">neq</span><span class=\"p\">,</span>\n",
       "                              <span class=\"n\">double</span> <span class=\"n\">t0</span><span class=\"p\">,</span>\n",
       "                              <span class=\"nb\">long</span> <span class=\"n\">mxsteps</span><span class=\"p\">,</span> <span class=\"n\">double</span> <span class=\"n\">reltol</span><span class=\"p\">,</span> <span class=\"n\">double</span> <span class=\"n\">abstol</span><span class=\"p\">)</span>\n",
       "    <span class=\"nb\">int</span> <span class=\"n\">cvsi_step</span><span class=\"p\">(</span><span class=\"n\">cvsi_instance</span> <span class=\"o\">*</span><span class=\"n\">instance</span><span class=\"p\">,</span> <span class=\"n\">double</span> <span class=\"n\">t</span><span class=\"p\">)</span>\n",
       "    <span class=\"n\">void</span> <span class=\"n\">cvsi_destroy</span><span class=\"p\">(</span><span class=\"n\">cvsi_instance</span> <span class=\"o\">*</span><span class=\"n\">instance</span><span class=\"p\">)</span>\n",
       "\n",
       "<span class=\"k\">cdef</span> <span class=\"kr\">inline</span> <span class=\"kt\">void</span> <span class=\"nf\">RHS</span><span class=\"p\">(</span><span class=\"n\">double</span> <span class=\"n\">t</span><span class=\"p\">,</span> <span class=\"n\">double</span> <span class=\"o\">*</span><span class=\"n\">y</span><span class=\"p\">,</span> <span class=\"n\">double</span> <span class=\"o\">*</span><span class=\"n\">ydot</span><span class=\"p\">):</span>\n",
       "    <span class=\"n\">generated_function</span><span class=\"p\">(</span><span class=\"n\">t</span><span class=\"p\">,</span>\n",
       "                       <span class=\"o\">&lt;</span><span class=\"n\">double</span> <span class=\"nb\">complex</span> <span class=\"p\">[:</span><span class=\"mf\">2</span><span class=\"p\">,</span> <span class=\"p\">:</span><span class=\"mf\">1</span><span class=\"p\">]</span><span class=\"o\">&gt;</span> <span class=\"o\">&lt;</span><span class=\"n\">double</span> <span class=\"nb\">complex</span> <span class=\"o\">*&gt;</span> <span class=\"n\">y</span><span class=\"p\">,</span>\n",
       "                       <span class=\"o\">&lt;</span><span class=\"n\">double</span> <span class=\"nb\">complex</span> <span class=\"p\">[:</span><span class=\"mf\">2</span><span class=\"p\">,</span> <span class=\"p\">:</span><span class=\"mf\">1</span><span class=\"p\">]</span><span class=\"o\">&gt;</span> <span class=\"o\">&lt;</span><span class=\"n\">double</span> <span class=\"nb\">complex</span> <span class=\"o\">*&gt;</span> <span class=\"n\">ydot</span><span class=\"p\">)</span>\n",
       "    <span class=\"c\"># TODO The casts above need to allocate new memview structs each time</span>\n",
       "    <span class=\"c\"># It is noticeable on 2x2 matrices (10%), not noticeable otherwise</span>\n",
       "\n",
       "<span class=\"k\">cpdef</span> <span class=\"kt\">list</span> <span class=\"nf\">pythonsolve</span><span class=\"p\">(</span>\n",
       "        <span class=\"n\">np</span><span class=\"o\">.</span><span class=\"n\">ndarray</span><span class=\"p\">[</span><span class=\"n\">np</span><span class=\"o\">.</span><span class=\"n\">double_t</span><span class=\"p\">,</span> <span class=\"n\">ndim</span><span class=\"o\">=</span><span class=\"mf\">1</span><span class=\"p\">]</span> <span class=\"n\">ts</span><span class=\"p\">,</span>\n",
       "        <span class=\"n\">np</span><span class=\"o\">.</span><span class=\"n\">ndarray</span><span class=\"p\">[</span><span class=\"n\">np</span><span class=\"o\">.</span><span class=\"n\">complex_t</span><span class=\"p\">,</span> <span class=\"n\">ndim</span><span class=\"o\">=</span><span class=\"mf\">2</span><span class=\"p\">]</span> <span class=\"n\">y0</span><span class=\"p\">,</span>\n",
       "        <span class=\"nb\">long</span> <span class=\"n\">mxsteps</span><span class=\"p\">,</span> <span class=\"n\">double</span> <span class=\"n\">rtol</span><span class=\"p\">,</span> <span class=\"n\">double</span> <span class=\"n\">atol</span><span class=\"p\">):</span>\n",
       "    <span class=\"k\">if</span> <span class=\"n\">ts</span><span class=\"p\">[</span><span class=\"mf\">0</span><span class=\"p\">]</span> <span class=\"o\">==</span> <span class=\"mf\">0</span><span class=\"p\">:</span>\n",
       "        <span class=\"n\">ts</span> <span class=\"o\">=</span> <span class=\"n\">ts</span><span class=\"p\">[</span><span class=\"mf\">1</span><span class=\"p\">:]</span>\n",
       "        <span class=\"n\">res</span> <span class=\"o\">=</span> <span class=\"p\">[</span><span class=\"n\">y0</span><span class=\"p\">]</span>\n",
       "    <span class=\"k\">else</span><span class=\"p\">:</span>\n",
       "        <span class=\"n\">res</span> <span class=\"o\">=</span> <span class=\"p\">[]</span>\n",
       "    <span class=\"k\">cdef</span> <span class=\"kt\">np</span>.<span class=\"kt\">ndarray</span>[<span class=\"kt\">np</span>.<span class=\"nf\">complex_t</span><span class=\"p\">,</span> <span class=\"nf\">ndim</span><span class=\"o\">=</span><span class=\"mf\">2</span><span class=\"p\">,</span> <span class=\"n\">mode</span><span class=\"o\">=</span><span class=\"s\">&quot;c&quot;</span><span class=\"p\">]</span> <span class=\"n\">_y0</span> <span class=\"o\">=</span> <span class=\"n\">np</span><span class=\"o\">.</span><span class=\"n\">copy</span><span class=\"p\">(</span><span class=\"n\">y0</span><span class=\"p\">)</span>\n",
       "    <span class=\"k\">cdef</span> <span class=\"kt\">int</span> <span class=\"nf\">neq</span> <span class=\"o\">=</span> <span class=\"n\">np</span><span class=\"o\">.</span><span class=\"n\">size</span><span class=\"p\">(</span><span class=\"n\">_y0</span><span class=\"p\">)</span><span class=\"o\">*</span><span class=\"mf\">2</span>\n",
       "    <span class=\"k\">cdef</span> <span class=\"kt\">cvsi_instance</span> *<span class=\"nf\">instance</span> <span class=\"o\">=</span> <span class=\"n\">cvsi_setup</span><span class=\"p\">(</span><span class=\"n\">RHS</span><span class=\"p\">,</span> <span class=\"o\">&lt;</span><span class=\"n\">double</span> <span class=\"o\">*&gt;</span> <span class=\"o\">&amp;</span><span class=\"n\">_y0</span><span class=\"p\">[</span><span class=\"mf\">0</span><span class=\"p\">,</span><span class=\"mf\">0</span><span class=\"p\">],</span> <span class=\"n\">neq</span><span class=\"p\">,</span>\n",
       "                                              <span class=\"mf\">0</span><span class=\"p\">,</span> <span class=\"n\">mxsteps</span><span class=\"p\">,</span> <span class=\"n\">rtol</span><span class=\"p\">,</span> <span class=\"n\">atol</span><span class=\"p\">)</span>\n",
       "    <span class=\"k\">for</span> <span class=\"n\">t</span> <span class=\"ow\">in</span> <span class=\"n\">ts</span><span class=\"p\">:</span>\n",
       "        <span class=\"n\">cvsi_step</span><span class=\"p\">(</span><span class=\"n\">instance</span><span class=\"p\">,</span> <span class=\"n\">t</span><span class=\"p\">)</span>\n",
       "        <span class=\"n\">res</span><span class=\"o\">.</span><span class=\"n\">append</span><span class=\"p\">(</span><span class=\"n\">np</span><span class=\"o\">.</span><span class=\"n\">copy</span><span class=\"p\">(</span><span class=\"n\">_y0</span><span class=\"p\">))</span>\n",
       "    <span class=\"n\">cvsi_destroy</span><span class=\"p\">(</span><span class=\"n\">instance</span><span class=\"p\">)</span>\n",
       "\n",
       "    <span class=\"k\">return</span> <span class=\"n\">res</span>\n",
       "</pre></div>\n",
       "</body>\n",
       "</html>\n"
      ],
      "text/plain": [
       "<IPython.core.display.HTML object>"
      ]
     },
     "metadata": {},
     "output_type": "display_data"
    }
   ],
   "source": [
    "res = sesolve(H, initial_state, ts)"
   ]
  },
  {
   "cell_type": "code",
   "execution_count": 5,
   "metadata": {
    "collapsed": false
   },
   "outputs": [],
   "source": [
    "σz_expect = expect(sigmaz(), res)"
   ]
  },
  {
   "cell_type": "code",
   "execution_count": 6,
   "metadata": {
    "collapsed": false
   },
   "outputs": [
    {
     "data": {
      "image/png": "[encoded data removed]",
      "text/plain": [
       "<matplotlib.figure.Figure at 0x7fb5f51f1ef0>"
      ]
     },
     "metadata": {},
     "output_type": "display_data"
    }
   ],
   "source": [
    "plt.plot(ts*Ω/np.pi, σz_expect, 'r.', label='numerical result')\n",
    "Ωp = (Ω**2+Δ**2)**0.5\n",
    "plt.plot(ts*Ω/np.pi, 1-(Ω/Ωp)**2*2*np.sin(Ωp*ts/2)**2, 'b-',\n",
    "         label=r'$1-2(\\Omega^\\prime/\\Omega)^2\\sin^2(\\Omega^\\prime t/2)$')\n",
    "plt.title(r'$\\langle\\sigma_z\\rangle$-vs-$t\\Omega/\\pi$ at '\n",
    "          r'$\\Delta/\\Omega=%.2f$, $\\omega_0/\\Omega=%.2f$'%(Δ/Ω, ω0/Ω))\n",
    "plt.ylim(-1,1)\n",
    "plt.legend(loc=3);"
   ]
  },
  {
   "cell_type": "markdown",
   "metadata": {},
   "source": [
    "## With Rotating Wave Approximation\n",
    "\n",
    "$\\hat{H}^\\prime = e^{i\\hat{H}_0 t}\\hat{H} e^{-i\\hat{H}_0 t} \\approx \\frac{\\Delta}{2} \\hat{\\sigma}_z + \\frac{\\Omega}{2} \\hat{\\sigma}_x$"
   ]
  },
  {
   "cell_type": "code",
   "execution_count": 7,
   "metadata": {
    "collapsed": false
   },
   "outputs": [
    {
     "data": {
      "text/latex": [
       "$${\\left( {{0.001}\\tiny\\times\\normalsize{\\hat{σ}_{z}}}+{{0.0025}\\tiny\\times\\normalsize{\\hat{σ}_{x}}} \\right)}$$"
      ],
      "text/plain": [
       "Add(Mul(0.001, 'σ_z'), Mul(0.0025, 'σ_x'))"
      ]
     },
     "execution_count": 7,
     "metadata": {},
     "output_type": "execute_result"
    }
   ],
   "source": [
    "Hp = Δ/2 * sigmaz() + Ω/2 * sigmax()\n",
    "Hp"
   ]
  },
  {
   "cell_type": "code",
   "execution_count": 8,
   "metadata": {
    "collapsed": false
   },
   "outputs": [
    {
     "data": {
      "text/html": [
       "<!DOCTYPE html PUBLIC \"-//W3C//DTD HTML 4.01//EN\"\n",
       "   \"http://www.w3.org/TR/html4/strict.dtd\">\n",
       "\n",
       "<html>\n",
       "<head>\n",
       "  <title></title>\n",
       "  <meta http-equiv=\"content-type\" content=\"text/html; charset=None\">\n",
       "  <style type=\"text/css\">\n",
       "td.linenos { background-color: #f0f0f0; padding-right: 10px; }\n",
       "span.lineno { background-color: #f0f0f0; padding: 0 5px 0 5px; }\n",
       "pre { line-height: 125%; }\n",
       "body .hll { background-color: #ffffcc }\n",
       "body  { background: #f8f8f8; }\n",
       "body .c { color: #408080; font-style: italic } /* Comment */\n",
       "body .err { border: 1px solid #FF0000 } /* Error */\n",
       "body .k { color: #008000; font-weight: bold } /* Keyword */\n",
       "body .o { color: #666666 } /* Operator */\n",
       "body .cm { color: #408080; font-style: italic } /* Comment.Multiline */\n",
       "body .cp { color: #BC7A00 } /* Comment.Preproc */\n",
       "body .c1 { color: #408080; font-style: italic } /* Comment.Single */\n",
       "body .cs { color: #408080; font-style: italic } /* Comment.Special */\n",
       "body .gd { color: #A00000 } /* Generic.Deleted */\n",
       "body .ge { font-style: italic } /* Generic.Emph */\n",
       "body .gr { color: #FF0000 } /* Generic.Error */\n",
       "body .gh { color: #000080; font-weight: bold } /* Generic.Heading */\n",
       "body .gi { color: #00A000 } /* Generic.Inserted */\n",
       "body .go { color: #888888 } /* Generic.Output */\n",
       "body .gp { color: #000080; font-weight: bold } /* Generic.Prompt */\n",
       "body .gs { font-weight: bold } /* Generic.Strong */\n",
       "body .gu { color: #800080; font-weight: bold } /* Generic.Subheading */\n",
       "body .gt { color: #0044DD } /* Generic.Traceback */\n",
       "body .kc { color: #008000; font-weight: bold } /* Keyword.Constant */\n",
       "body .kd { color: #008000; font-weight: bold } /* Keyword.Declaration */\n",
       "body .kn { color: #008000; font-weight: bold } /* Keyword.Namespace */\n",
       "body .kp { color: #008000 } /* Keyword.Pseudo */\n",
       "body .kr { color: #008000; font-weight: bold } /* Keyword.Reserved */\n",
       "body .kt { color: #B00040 } /* Keyword.Type */\n",
       "body .m { color: #666666 } /* Literal.Number */\n",
       "body .s { color: #BA2121 } /* Literal.String */\n",
       "body .na { color: #7D9029 } /* Name.Attribute */\n",
       "body .nb { color: #008000 } /* Name.Builtin */\n",
       "body .nc { color: #0000FF; font-weight: bold } /* Name.Class */\n",
       "body .no { color: #880000 } /* Name.Constant */\n",
       "body .nd { color: #AA22FF } /* Name.Decorator */\n",
       "body .ni { color: #999999; font-weight: bold } /* Name.Entity */\n",
       "body .ne { color: #D2413A; font-weight: bold } /* Name.Exception */\n",
       "body .nf { color: #0000FF } /* Name.Function */\n",
       "body .nl { color: #A0A000 } /* Name.Label */\n",
       "body .nn { color: #0000FF; font-weight: bold } /* Name.Namespace */\n",
       "body .nt { color: #008000; font-weight: bold } /* Name.Tag */\n",
       "body .nv { color: #19177C } /* Name.Variable */\n",
       "body .ow { color: #AA22FF; font-weight: bold } /* Operator.Word */\n",
       "body .w { color: #bbbbbb } /* Text.Whitespace */\n",
       "body .mb { color: #666666 } /* Literal.Number.Bin */\n",
       "body .mf { color: #666666 } /* Literal.Number.Float */\n",
       "body .mh { color: #666666 } /* Literal.Number.Hex */\n",
       "body .mi { color: #666666 } /* Literal.Number.Integer */\n",
       "body .mo { color: #666666 } /* Literal.Number.Oct */\n",
       "body .sb { color: #BA2121 } /* Literal.String.Backtick */\n",
       "body .sc { color: #BA2121 } /* Literal.String.Char */\n",
       "body .sd { color: #BA2121; font-style: italic } /* Literal.String.Doc */\n",
       "body .s2 { color: #BA2121 } /* Literal.String.Double */\n",
       "body .se { color: #BB6622; font-weight: bold } /* Literal.String.Escape */\n",
       "body .sh { color: #BA2121 } /* Literal.String.Heredoc */\n",
       "body .si { color: #BB6688; font-weight: bold } /* Literal.String.Interpol */\n",
       "body .sx { color: #008000 } /* Literal.String.Other */\n",
       "body .sr { color: #BB6688 } /* Literal.String.Regex */\n",
       "body .s1 { color: #BA2121 } /* Literal.String.Single */\n",
       "body .ss { color: #19177C } /* Literal.String.Symbol */\n",
       "body .bp { color: #008000 } /* Name.Builtin.Pseudo */\n",
       "body .vc { color: #19177C } /* Name.Variable.Class */\n",
       "body .vg { color: #19177C } /* Name.Variable.Global */\n",
       "body .vi { color: #19177C } /* Name.Variable.Instance */\n",
       "body .il { color: #666666 } /* Literal.Number.Integer.Long */\n",
       "\n",
       "  </style>\n",
       "</head>\n",
       "<body>\n",
       "<h2></h2>\n",
       "\n",
       "<div class=\"highlight\"><pre><span class=\"c\">#cython: boundscheck=False, wraparound=False, initializedcheck=False, cdivision=True</span>\n",
       "<span class=\"k\">cimport</span> <span class=\"nn\">numpy</span> <span class=\"k\">as</span> <span class=\"nn\">np</span>\n",
       "<span class=\"k\">import</span> <span class=\"nn\">numpy</span> <span class=\"k\">as</span> <span class=\"nn\">np</span>\n",
       "<span class=\"k\">from</span> <span class=\"nn\">libc.math</span> <span class=\"k\">cimport</span> <span class=\"n\">sin</span><span class=\"p\">,</span> <span class=\"n\">cos</span><span class=\"p\">,</span> <span class=\"n\">exp</span><span class=\"p\">,</span> <span class=\"n\">sinh</span><span class=\"p\">,</span> <span class=\"n\">cosh</span><span class=\"p\">,</span> <span class=\"n\">tan</span><span class=\"p\">,</span> <span class=\"n\">tanh</span><span class=\"p\">,</span> <span class=\"n\">log</span>\n",
       "\n",
       "<span class=\"c\"># Declaration of global variables for</span>\n",
       "<span class=\"c\"># - intermediate results</span>\n",
       "<span class=\"c\"># - predefined constants</span>\n",
       "<span class=\"k\">cdef</span> <span class=\"kt\">double</span> <span class=\"kt\">complex</span> [<span class=\"p\">:,</span> <span class=\"p\">:]</span> <span class=\"n\">C</span> <span class=\"o\">=</span> <span class=\"n\">np</span><span class=\"o\">.</span><span class=\"n\">zeros</span><span class=\"p\">((</span><span class=\"mf\">2</span><span class=\"p\">,</span> <span class=\"mf\">1</span><span class=\"p\">),</span> <span class=\"n\">dtype</span><span class=\"o\">=</span><span class=\"n\">np</span><span class=\"o\">.</span><span class=\"n\">complex</span><span class=\"p\">)</span>\n",
       "<span class=\"k\">cdef</span> <span class=\"kt\">double</span> <span class=\"kt\">complex</span> [<span class=\"p\">:,</span> <span class=\"p\">:]</span> <span class=\"n\">A</span> <span class=\"o\">=</span> <span class=\"n\">np</span><span class=\"o\">.</span><span class=\"n\">zeros</span><span class=\"p\">((</span><span class=\"mf\">2</span><span class=\"p\">,</span> <span class=\"mf\">2</span><span class=\"p\">),</span> <span class=\"n\">dtype</span><span class=\"o\">=</span><span class=\"n\">np</span><span class=\"o\">.</span><span class=\"n\">complex</span><span class=\"p\">)</span>\n",
       "\n",
       "<span class=\"c\"># The generated cython code</span>\n",
       "<span class=\"k\">cdef</span> <span class=\"nf\">generated_function</span><span class=\"p\">(</span>\n",
       "    <span class=\"c\"># input arguments</span>\n",
       "    <span class=\"n\">double</span> <span class=\"n\">E</span><span class=\"p\">,</span>\n",
       "    <span class=\"n\">double</span> <span class=\"nb\">complex</span> <span class=\"p\">[:,</span> <span class=\"p\">:]</span> <span class=\"n\">B</span><span class=\"p\">,</span>\n",
       "    <span class=\"c\"># output argument</span>\n",
       "    <span class=\"n\">double</span> <span class=\"nb\">complex</span> <span class=\"p\">[:,</span> <span class=\"p\">:]</span> <span class=\"n\">D</span>\n",
       "    <span class=\"p\">):</span>\n",
       "    <span class=\"c\"># indices and intermediate values for various matrix operations</span>\n",
       "    <span class=\"k\">cdef</span> <span class=\"kt\">int</span> <span class=\"nf\">i</span><span class=\"p\">,</span> <span class=\"nf\">j</span><span class=\"p\">,</span> <span class=\"nf\">k</span><span class=\"p\">,</span> <span class=\"nf\">ii</span><span class=\"p\">,</span> <span class=\"nf\">jj</span><span class=\"p\">,</span> <span class=\"nf\">kk</span>\n",
       "    <span class=\"k\">cdef</span> <span class=\"kt\">double</span> <span class=\"kt\">complex</span> <span class=\"nf\">c</span>\n",
       "    <span class=\"c\"># intermediate results</span>\n",
       "    <span class=\"k\">global</span> <span class=\"n\">C</span><span class=\"p\">,</span> <span class=\"n\">D</span>\n",
       "    <span class=\"c\"># predefined constants</span>\n",
       "    <span class=\"k\">global</span> <span class=\"n\">A</span>\n",
       "    <span class=\"c\"># evaluating the function</span>\n",
       "    <span class=\"c\"># C = A.B</span>\n",
       "    <span class=\"n\">ii</span> <span class=\"o\">=</span> <span class=\"n\">A</span><span class=\"o\">.</span><span class=\"n\">shape</span><span class=\"p\">[</span><span class=\"mf\">0</span><span class=\"p\">]</span>\n",
       "    <span class=\"n\">jj</span> <span class=\"o\">=</span> <span class=\"n\">B</span><span class=\"o\">.</span><span class=\"n\">shape</span><span class=\"p\">[</span><span class=\"mf\">1</span><span class=\"p\">]</span>\n",
       "    <span class=\"n\">kk</span> <span class=\"o\">=</span> <span class=\"n\">B</span><span class=\"o\">.</span><span class=\"n\">shape</span><span class=\"p\">[</span><span class=\"mf\">0</span><span class=\"p\">]</span>\n",
       "    <span class=\"k\">for</span> <span class=\"n\">i</span> <span class=\"ow\">in</span> <span class=\"nb\">range</span><span class=\"p\">(</span><span class=\"n\">ii</span><span class=\"p\">):</span>\n",
       "        <span class=\"k\">for</span> <span class=\"n\">j</span> <span class=\"ow\">in</span> <span class=\"nb\">range</span><span class=\"p\">(</span><span class=\"n\">jj</span><span class=\"p\">):</span>\n",
       "            <span class=\"n\">c</span> <span class=\"o\">=</span> <span class=\"mf\">0</span>\n",
       "            <span class=\"k\">for</span> <span class=\"n\">k</span> <span class=\"ow\">in</span> <span class=\"nb\">range</span><span class=\"p\">(</span><span class=\"n\">kk</span><span class=\"p\">):</span>\n",
       "                <span class=\"n\">c</span> <span class=\"o\">+=</span> <span class=\"n\">A</span><span class=\"p\">[</span><span class=\"n\">i</span><span class=\"p\">,</span><span class=\"n\">k</span><span class=\"p\">]</span><span class=\"o\">*</span><span class=\"n\">B</span><span class=\"p\">[</span><span class=\"n\">k</span><span class=\"p\">,</span><span class=\"n\">j</span><span class=\"p\">]</span>\n",
       "            <span class=\"n\">C</span><span class=\"p\">[</span><span class=\"n\">i</span><span class=\"p\">,</span><span class=\"n\">j</span><span class=\"p\">]</span> <span class=\"o\">=</span> <span class=\"n\">c</span>\n",
       "    <span class=\"c\"># D = -1j*C</span>\n",
       "    <span class=\"n\">ii</span> <span class=\"o\">=</span> <span class=\"n\">C</span><span class=\"o\">.</span><span class=\"n\">shape</span><span class=\"p\">[</span><span class=\"mf\">0</span><span class=\"p\">]</span>\n",
       "    <span class=\"n\">jj</span> <span class=\"o\">=</span> <span class=\"n\">C</span><span class=\"o\">.</span><span class=\"n\">shape</span><span class=\"p\">[</span><span class=\"mf\">1</span><span class=\"p\">]</span>\n",
       "    <span class=\"k\">for</span> <span class=\"n\">i</span> <span class=\"ow\">in</span> <span class=\"nb\">range</span><span class=\"p\">(</span><span class=\"n\">ii</span><span class=\"p\">):</span>\n",
       "        <span class=\"k\">for</span> <span class=\"n\">j</span> <span class=\"ow\">in</span> <span class=\"nb\">range</span><span class=\"p\">(</span><span class=\"n\">jj</span><span class=\"p\">):</span>\n",
       "            <span class=\"n\">D</span><span class=\"p\">[</span><span class=\"n\">i</span><span class=\"p\">,</span><span class=\"n\">j</span><span class=\"p\">]</span> <span class=\"o\">=</span> <span class=\"o\">-</span><span class=\"mf\">1</span><span class=\"n\">j</span><span class=\"o\">*</span><span class=\"n\">C</span><span class=\"p\">[</span><span class=\"n\">i</span><span class=\"p\">,</span><span class=\"n\">j</span><span class=\"p\">]</span>\n",
       "\n",
       "<span class=\"c\"># Function to deliver the constants from python to cython</span>\n",
       "<span class=\"k\">cpdef</span> <span class=\"nf\">setup_generated_function</span><span class=\"p\">(</span>\n",
       "    <span class=\"n\">double</span> <span class=\"nb\">complex</span> <span class=\"p\">[:,</span> <span class=\"p\">:]</span> <span class=\"n\">_A</span>\n",
       "    <span class=\"p\">):</span>\n",
       "    <span class=\"k\">global</span> <span class=\"n\">A</span>\n",
       "    <span class=\"n\">A</span> <span class=\"o\">=</span> <span class=\"n\">_A</span>\n",
       "\n",
       "<span class=\"k\">ctypedef</span> <span class=\"n\">void</span> <span class=\"n\">rhs_t</span><span class=\"p\">(</span><span class=\"n\">double</span> <span class=\"n\">t</span><span class=\"p\">,</span> <span class=\"n\">double</span> <span class=\"o\">*</span><span class=\"n\">y</span><span class=\"p\">,</span> <span class=\"n\">double</span> <span class=\"o\">*</span><span class=\"n\">ydot</span><span class=\"p\">)</span>\n",
       "<span class=\"k\">cdef</span> <span class=\"kr\">extern</span> <span class=\"k\">from</span> <span class=\"s\">&quot;cvode_simple_interface.h&quot;</span><span class=\"p\">:</span>\n",
       "    <span class=\"k\">struct</span> <span class=\"nc\">cvsi_instance</span><span class=\"p\">:</span>\n",
       "        <span class=\"k\">pass</span>\n",
       "    <span class=\"n\">cvsi_instance</span> <span class=\"o\">*</span><span class=\"n\">cvsi_setup</span><span class=\"p\">(</span><span class=\"n\">rhs_t</span> <span class=\"o\">*</span><span class=\"n\">rhs</span><span class=\"p\">,</span>\n",
       "                              <span class=\"n\">double</span> <span class=\"o\">*</span><span class=\"n\">y0</span><span class=\"p\">,</span> <span class=\"nb\">int</span> <span class=\"n\">neq</span><span class=\"p\">,</span>\n",
       "                              <span class=\"n\">double</span> <span class=\"n\">t0</span><span class=\"p\">,</span>\n",
       "                              <span class=\"nb\">long</span> <span class=\"n\">mxsteps</span><span class=\"p\">,</span> <span class=\"n\">double</span> <span class=\"n\">reltol</span><span class=\"p\">,</span> <span class=\"n\">double</span> <span class=\"n\">abstol</span><span class=\"p\">)</span>\n",
       "    <span class=\"nb\">int</span> <span class=\"n\">cvsi_step</span><span class=\"p\">(</span><span class=\"n\">cvsi_instance</span> <span class=\"o\">*</span><span class=\"n\">instance</span><span class=\"p\">,</span> <span class=\"n\">double</span> <span class=\"n\">t</span><span class=\"p\">)</span>\n",
       "    <span class=\"n\">void</span> <span class=\"n\">cvsi_destroy</span><span class=\"p\">(</span><span class=\"n\">cvsi_instance</span> <span class=\"o\">*</span><span class=\"n\">instance</span><span class=\"p\">)</span>\n",
       "\n",
       "<span class=\"k\">cdef</span> <span class=\"kr\">inline</span> <span class=\"kt\">void</span> <span class=\"nf\">RHS</span><span class=\"p\">(</span><span class=\"n\">double</span> <span class=\"n\">t</span><span class=\"p\">,</span> <span class=\"n\">double</span> <span class=\"o\">*</span><span class=\"n\">y</span><span class=\"p\">,</span> <span class=\"n\">double</span> <span class=\"o\">*</span><span class=\"n\">ydot</span><span class=\"p\">):</span>\n",
       "    <span class=\"n\">generated_function</span><span class=\"p\">(</span><span class=\"n\">t</span><span class=\"p\">,</span>\n",
       "                       <span class=\"o\">&lt;</span><span class=\"n\">double</span> <span class=\"nb\">complex</span> <span class=\"p\">[:</span><span class=\"mf\">2</span><span class=\"p\">,</span> <span class=\"p\">:</span><span class=\"mf\">1</span><span class=\"p\">]</span><span class=\"o\">&gt;</span> <span class=\"o\">&lt;</span><span class=\"n\">double</span> <span class=\"nb\">complex</span> <span class=\"o\">*&gt;</span> <span class=\"n\">y</span><span class=\"p\">,</span>\n",
       "                       <span class=\"o\">&lt;</span><span class=\"n\">double</span> <span class=\"nb\">complex</span> <span class=\"p\">[:</span><span class=\"mf\">2</span><span class=\"p\">,</span> <span class=\"p\">:</span><span class=\"mf\">1</span><span class=\"p\">]</span><span class=\"o\">&gt;</span> <span class=\"o\">&lt;</span><span class=\"n\">double</span> <span class=\"nb\">complex</span> <span class=\"o\">*&gt;</span> <span class=\"n\">ydot</span><span class=\"p\">)</span>\n",
       "    <span class=\"c\"># TODO The casts above need to allocate new memview structs each time</span>\n",
       "    <span class=\"c\"># It is noticeable on 2x2 matrices (10%), not noticeable otherwise</span>\n",
       "\n",
       "<span class=\"k\">cpdef</span> <span class=\"kt\">list</span> <span class=\"nf\">pythonsolve</span><span class=\"p\">(</span>\n",
       "        <span class=\"n\">np</span><span class=\"o\">.</span><span class=\"n\">ndarray</span><span class=\"p\">[</span><span class=\"n\">np</span><span class=\"o\">.</span><span class=\"n\">double_t</span><span class=\"p\">,</span> <span class=\"n\">ndim</span><span class=\"o\">=</span><span class=\"mf\">1</span><span class=\"p\">]</span> <span class=\"n\">ts</span><span class=\"p\">,</span>\n",
       "        <span class=\"n\">np</span><span class=\"o\">.</span><span class=\"n\">ndarray</span><span class=\"p\">[</span><span class=\"n\">np</span><span class=\"o\">.</span><span class=\"n\">complex_t</span><span class=\"p\">,</span> <span class=\"n\">ndim</span><span class=\"o\">=</span><span class=\"mf\">2</span><span class=\"p\">]</span> <span class=\"n\">y0</span><span class=\"p\">,</span>\n",
       "        <span class=\"nb\">long</span> <span class=\"n\">mxsteps</span><span class=\"p\">,</span> <span class=\"n\">double</span> <span class=\"n\">rtol</span><span class=\"p\">,</span> <span class=\"n\">double</span> <span class=\"n\">atol</span><span class=\"p\">):</span>\n",
       "    <span class=\"k\">if</span> <span class=\"n\">ts</span><span class=\"p\">[</span><span class=\"mf\">0</span><span class=\"p\">]</span> <span class=\"o\">==</span> <span class=\"mf\">0</span><span class=\"p\">:</span>\n",
       "        <span class=\"n\">ts</span> <span class=\"o\">=</span> <span class=\"n\">ts</span><span class=\"p\">[</span><span class=\"mf\">1</span><span class=\"p\">:]</span>\n",
       "        <span class=\"n\">res</span> <span class=\"o\">=</span> <span class=\"p\">[</span><span class=\"n\">y0</span><span class=\"p\">]</span>\n",
       "    <span class=\"k\">else</span><span class=\"p\">:</span>\n",
       "        <span class=\"n\">res</span> <span class=\"o\">=</span> <span class=\"p\">[]</span>\n",
       "    <span class=\"k\">cdef</span> <span class=\"kt\">np</span>.<span class=\"kt\">ndarray</span>[<span class=\"kt\">np</span>.<span class=\"nf\">complex_t</span><span class=\"p\">,</span> <span class=\"nf\">ndim</span><span class=\"o\">=</span><span class=\"mf\">2</span><span class=\"p\">,</span> <span class=\"n\">mode</span><span class=\"o\">=</span><span class=\"s\">&quot;c&quot;</span><span class=\"p\">]</span> <span class=\"n\">_y0</span> <span class=\"o\">=</span> <span class=\"n\">np</span><span class=\"o\">.</span><span class=\"n\">copy</span><span class=\"p\">(</span><span class=\"n\">y0</span><span class=\"p\">)</span>\n",
       "    <span class=\"k\">cdef</span> <span class=\"kt\">int</span> <span class=\"nf\">neq</span> <span class=\"o\">=</span> <span class=\"n\">np</span><span class=\"o\">.</span><span class=\"n\">size</span><span class=\"p\">(</span><span class=\"n\">_y0</span><span class=\"p\">)</span><span class=\"o\">*</span><span class=\"mf\">2</span>\n",
       "    <span class=\"k\">cdef</span> <span class=\"kt\">cvsi_instance</span> *<span class=\"nf\">instance</span> <span class=\"o\">=</span> <span class=\"n\">cvsi_setup</span><span class=\"p\">(</span><span class=\"n\">RHS</span><span class=\"p\">,</span> <span class=\"o\">&lt;</span><span class=\"n\">double</span> <span class=\"o\">*&gt;</span> <span class=\"o\">&amp;</span><span class=\"n\">_y0</span><span class=\"p\">[</span><span class=\"mf\">0</span><span class=\"p\">,</span><span class=\"mf\">0</span><span class=\"p\">],</span> <span class=\"n\">neq</span><span class=\"p\">,</span>\n",
       "                                              <span class=\"mf\">0</span><span class=\"p\">,</span> <span class=\"n\">mxsteps</span><span class=\"p\">,</span> <span class=\"n\">rtol</span><span class=\"p\">,</span> <span class=\"n\">atol</span><span class=\"p\">)</span>\n",
       "    <span class=\"k\">for</span> <span class=\"n\">t</span> <span class=\"ow\">in</span> <span class=\"n\">ts</span><span class=\"p\">:</span>\n",
       "        <span class=\"n\">cvsi_step</span><span class=\"p\">(</span><span class=\"n\">instance</span><span class=\"p\">,</span> <span class=\"n\">t</span><span class=\"p\">)</span>\n",
       "        <span class=\"n\">res</span><span class=\"o\">.</span><span class=\"n\">append</span><span class=\"p\">(</span><span class=\"n\">np</span><span class=\"o\">.</span><span class=\"n\">copy</span><span class=\"p\">(</span><span class=\"n\">_y0</span><span class=\"p\">))</span>\n",
       "    <span class=\"n\">cvsi_destroy</span><span class=\"p\">(</span><span class=\"n\">instance</span><span class=\"p\">)</span>\n",
       "\n",
       "    <span class=\"k\">return</span> <span class=\"n\">res</span>\n",
       "</pre></div>\n",
       "</body>\n",
       "</html>\n"
      ],
      "text/plain": [
       "<IPython.core.display.HTML object>"
      ]
     },
     "metadata": {},
     "output_type": "display_data"
    }
   ],
   "source": [
    "res = sesolve(Hp, initial_state, ts)"
   ]
  },
  {
   "cell_type": "code",
   "execution_count": 9,
   "metadata": {
    "collapsed": true
   },
   "outputs": [],
   "source": [
    "σz_expect = expect(sigmaz(), res)"
   ]
  },
  {
   "cell_type": "code",
   "execution_count": 10,
   "metadata": {
    "collapsed": false
   },
   "outputs": [
    {
     "data": {
      "image/png": "[encoded data removed]",
      "text/plain": [
       "<matplotlib.figure.Figure at 0x7fb5f5420198>"
      ]
     },
     "metadata": {},
     "output_type": "display_data"
    }
   ],
   "source": [
    "plt.plot(ts*Ω/np.pi, σz_expect, 'r.', label='numerical result')\n",
    "Ωp = (Ω**2+Δ**2)**0.5\n",
    "plt.plot(ts*Ω/np.pi, 1-(Ω/Ωp)**2*2*np.sin(Ωp*ts/2)**2, 'b-',\n",
    "         label=r'$1-2(\\Omega^\\prime/\\Omega)^2\\sin^2(\\Omega^\\prime t/2)$')\n",
    "plt.title(r'$\\langle\\sigma_z\\rangle$-vs-$t\\Omega/\\pi$ at '\n",
    "          r'$\\Delta/\\Omega=%.2f$ in RWA'%(Δ/Ω))\n",
    "plt.ylim(-1,1)\n",
    "plt.legend(loc=3);"
   ]
  },
  {
   "cell_type": "markdown",
   "metadata": {},
   "source": [
    "# Coherent State in a Harmonic Oscillator\n",
    "\n",
    "$|\\alpha\\rangle$ evolving under $\\hat{H} = \\hat{n}$"
   ]
  },
  {
   "cell_type": "code",
   "execution_count": 11,
   "metadata": {
    "collapsed": false
   },
   "outputs": [
    {
     "data": {
      "text/latex": [
       "$$\\text{Ket }{| {{\\tiny\\alpha\\normalsize 2.50}}_{{\\tiny N\\normalsize 40}} \\rangle} \\text{ on the space }\\mathbb{C}^{40}\\text{ with numerical content: }$$\n",
       "$$\\begin{equation*}\\left(\\begin{array}{*{11}c}0.044\\\\0.110\\\\0.194\\\\0.280\\\\0.350\\\\\\vdots\\\\3.661\\times10^{-08}\\\\1.525\\times10^{-08}\\\\6.270\\times10^{-09}\\\\2.543\\times10^{-09}\\\\1.018\\times10^{-09}\\\\\\end{array}\\right)\\end{equation*}$$"
      ],
      "text/plain": [
       "'{\\\\tiny\\\\alpha\\\\normalsize 2.50}_{\\\\tiny N\\\\normalsize 40}'"
      ]
     },
     "execution_count": 11,
     "metadata": {},
     "output_type": "execute_result"
    }
   ],
   "source": [
    "N_cutoff = 40\n",
    "α = 2.5\n",
    "initial_state = coherent(N_cutoff, α)\n",
    "initial_state"
   ]
  },
  {
   "cell_type": "code",
   "execution_count": 12,
   "metadata": {
    "collapsed": false
   },
   "outputs": [
    {
     "data": {
      "text/latex": [
       "$$\\text{Operator }{\\hat{{n}}_{{40}}} \\text{ on the space }\\mathbb{C}^{40}\\text{ with numerical content: }$$\n",
       "$$\\begin{equation*}\\left(\\begin{array}{*{11}c}0.0 & 0.0 & 0.0 & 0.0 & 0.0 & \\cdots & 0.0 & 0.0 & 0.0 & 0.0 & 0.0\\\\0.0 & 1.0 & 0.0 & 0.0 & 0.0 & \\cdots & 0.0 & 0.0 & 0.0 & 0.0 & 0.0\\\\0.0 & 0.0 & 2.0 & 0.0 & 0.0 & \\cdots & 0.0 & 0.0 & 0.0 & 0.0 & 0.0\\\\0.0 & 0.0 & 0.0 & 3.0 & 0.0 & \\cdots & 0.0 & 0.0 & 0.0 & 0.0 & 0.0\\\\0.0 & 0.0 & 0.0 & 0.0 & 4.0 & \\cdots & 0.0 & 0.0 & 0.0 & 0.0 & 0.0\\\\\\vdots & \\vdots & \\vdots & \\vdots & \\vdots & \\ddots & \\vdots & \\vdots & \\vdots & \\vdots & \\vdots\\\\0.0 & 0.0 & 0.0 & 0.0 & 0.0 & \\cdots & 35.0 & 0.0 & 0.0 & 0.0 & 0.0\\\\0.0 & 0.0 & 0.0 & 0.0 & 0.0 & \\cdots & 0.0 & 36.0 & 0.0 & 0.0 & 0.0\\\\0.0 & 0.0 & 0.0 & 0.0 & 0.0 & \\cdots & 0.0 & 0.0 & 37.0 & 0.0 & 0.0\\\\0.0 & 0.0 & 0.0 & 0.0 & 0.0 & \\cdots & 0.0 & 0.0 & 0.0 & 38.0 & 0.0\\\\0.0 & 0.0 & 0.0 & 0.0 & 0.0 & \\cdots & 0.0 & 0.0 & 0.0 & 0.0 & 39.0\\\\\\end{array}\\right)\\end{equation*}$$"
      ],
      "text/plain": [
       "'{n}_{40}'"
      ]
     },
     "execution_count": 12,
     "metadata": {},
     "output_type": "execute_result"
    }
   ],
   "source": [
    "H = num(N_cutoff)\n",
    "H"
   ]
  },
  {
   "cell_type": "code",
   "execution_count": 13,
   "metadata": {
    "collapsed": false
   },
   "outputs": [
    {
     "data": {
      "text/html": [
       "<!DOCTYPE html PUBLIC \"-//W3C//DTD HTML 4.01//EN\"\n",
       "   \"http://www.w3.org/TR/html4/strict.dtd\">\n",
       "\n",
       "<html>\n",
       "<head>\n",
       "  <title></title>\n",
       "  <meta http-equiv=\"content-type\" content=\"text/html; charset=None\">\n",
       "  <style type=\"text/css\">\n",
       "td.linenos { background-color: #f0f0f0; padding-right: 10px; }\n",
       "span.lineno { background-color: #f0f0f0; padding: 0 5px 0 5px; }\n",
       "pre { line-height: 125%; }\n",
       "body .hll { background-color: #ffffcc }\n",
       "body  { background: #f8f8f8; }\n",
       "body .c { color: #408080; font-style: italic } /* Comment */\n",
       "body .err { border: 1px solid #FF0000 } /* Error */\n",
       "body .k { color: #008000; font-weight: bold } /* Keyword */\n",
       "body .o { color: #666666 } /* Operator */\n",
       "body .cm { color: #408080; font-style: italic } /* Comment.Multiline */\n",
       "body .cp { color: #BC7A00 } /* Comment.Preproc */\n",
       "body .c1 { color: #408080; font-style: italic } /* Comment.Single */\n",
       "body .cs { color: #408080; font-style: italic } /* Comment.Special */\n",
       "body .gd { color: #A00000 } /* Generic.Deleted */\n",
       "body .ge { font-style: italic } /* Generic.Emph */\n",
       "body .gr { color: #FF0000 } /* Generic.Error */\n",
       "body .gh { color: #000080; font-weight: bold } /* Generic.Heading */\n",
       "body .gi { color: #00A000 } /* Generic.Inserted */\n",
       "body .go { color: #888888 } /* Generic.Output */\n",
       "body .gp { color: #000080; font-weight: bold } /* Generic.Prompt */\n",
       "body .gs { font-weight: bold } /* Generic.Strong */\n",
       "body .gu { color: #800080; font-weight: bold } /* Generic.Subheading */\n",
       "body .gt { color: #0044DD } /* Generic.Traceback */\n",
       "body .kc { color: #008000; font-weight: bold } /* Keyword.Constant */\n",
       "body .kd { color: #008000; font-weight: bold } /* Keyword.Declaration */\n",
       "body .kn { color: #008000; font-weight: bold } /* Keyword.Namespace */\n",
       "body .kp { color: #008000 } /* Keyword.Pseudo */\n",
       "body .kr { color: #008000; font-weight: bold } /* Keyword.Reserved */\n",
       "body .kt { color: #B00040 } /* Keyword.Type */\n",
       "body .m { color: #666666 } /* Literal.Number */\n",
       "body .s { color: #BA2121 } /* Literal.String */\n",
       "body .na { color: #7D9029 } /* Name.Attribute */\n",
       "body .nb { color: #008000 } /* Name.Builtin */\n",
       "body .nc { color: #0000FF; font-weight: bold } /* Name.Class */\n",
       "body .no { color: #880000 } /* Name.Constant */\n",
       "body .nd { color: #AA22FF } /* Name.Decorator */\n",
       "body .ni { color: #999999; font-weight: bold } /* Name.Entity */\n",
       "body .ne { color: #D2413A; font-weight: bold } /* Name.Exception */\n",
       "body .nf { color: #0000FF } /* Name.Function */\n",
       "body .nl { color: #A0A000 } /* Name.Label */\n",
       "body .nn { color: #0000FF; font-weight: bold } /* Name.Namespace */\n",
       "body .nt { color: #008000; font-weight: bold } /* Name.Tag */\n",
       "body .nv { color: #19177C } /* Name.Variable */\n",
       "body .ow { color: #AA22FF; font-weight: bold } /* Operator.Word */\n",
       "body .w { color: #bbbbbb } /* Text.Whitespace */\n",
       "body .mb { color: #666666 } /* Literal.Number.Bin */\n",
       "body .mf { color: #666666 } /* Literal.Number.Float */\n",
       "body .mh { color: #666666 } /* Literal.Number.Hex */\n",
       "body .mi { color: #666666 } /* Literal.Number.Integer */\n",
       "body .mo { color: #666666 } /* Literal.Number.Oct */\n",
       "body .sb { color: #BA2121 } /* Literal.String.Backtick */\n",
       "body .sc { color: #BA2121 } /* Literal.String.Char */\n",
       "body .sd { color: #BA2121; font-style: italic } /* Literal.String.Doc */\n",
       "body .s2 { color: #BA2121 } /* Literal.String.Double */\n",
       "body .se { color: #BB6622; font-weight: bold } /* Literal.String.Escape */\n",
       "body .sh { color: #BA2121 } /* Literal.String.Heredoc */\n",
       "body .si { color: #BB6688; font-weight: bold } /* Literal.String.Interpol */\n",
       "body .sx { color: #008000 } /* Literal.String.Other */\n",
       "body .sr { color: #BB6688 } /* Literal.String.Regex */\n",
       "body .s1 { color: #BA2121 } /* Literal.String.Single */\n",
       "body .ss { color: #19177C } /* Literal.String.Symbol */\n",
       "body .bp { color: #008000 } /* Name.Builtin.Pseudo */\n",
       "body .vc { color: #19177C } /* Name.Variable.Class */\n",
       "body .vg { color: #19177C } /* Name.Variable.Global */\n",
       "body .vi { color: #19177C } /* Name.Variable.Instance */\n",
       "body .il { color: #666666 } /* Literal.Number.Integer.Long */\n",
       "\n",
       "  </style>\n",
       "</head>\n",
       "<body>\n",
       "<h2></h2>\n",
       "\n",
       "<div class=\"highlight\"><pre><span class=\"c\">#cython: boundscheck=False, wraparound=False, initializedcheck=False, cdivision=True</span>\n",
       "<span class=\"k\">cimport</span> <span class=\"nn\">numpy</span> <span class=\"k\">as</span> <span class=\"nn\">np</span>\n",
       "<span class=\"k\">import</span> <span class=\"nn\">numpy</span> <span class=\"k\">as</span> <span class=\"nn\">np</span>\n",
       "<span class=\"k\">from</span> <span class=\"nn\">libc.math</span> <span class=\"k\">cimport</span> <span class=\"n\">sin</span><span class=\"p\">,</span> <span class=\"n\">cos</span><span class=\"p\">,</span> <span class=\"n\">exp</span><span class=\"p\">,</span> <span class=\"n\">sinh</span><span class=\"p\">,</span> <span class=\"n\">cosh</span><span class=\"p\">,</span> <span class=\"n\">tan</span><span class=\"p\">,</span> <span class=\"n\">tanh</span><span class=\"p\">,</span> <span class=\"n\">log</span>\n",
       "\n",
       "<span class=\"c\"># Declaration of global variables for</span>\n",
       "<span class=\"c\"># - intermediate results</span>\n",
       "<span class=\"c\"># - predefined constants</span>\n",
       "<span class=\"k\">cdef</span> <span class=\"kt\">double</span> <span class=\"kt\">complex</span> [<span class=\"p\">:,</span> <span class=\"p\">:]</span> <span class=\"n\">C</span> <span class=\"o\">=</span> <span class=\"n\">np</span><span class=\"o\">.</span><span class=\"n\">zeros</span><span class=\"p\">((</span><span class=\"mf\">40</span><span class=\"p\">,</span> <span class=\"mf\">1</span><span class=\"p\">),</span> <span class=\"n\">dtype</span><span class=\"o\">=</span><span class=\"n\">np</span><span class=\"o\">.</span><span class=\"n\">complex</span><span class=\"p\">)</span>\n",
       "<span class=\"k\">cdef</span> <span class=\"kt\">double</span> <span class=\"kt\">complex</span> [<span class=\"p\">:,</span> <span class=\"p\">:]</span> <span class=\"n\">A</span> <span class=\"o\">=</span> <span class=\"n\">np</span><span class=\"o\">.</span><span class=\"n\">zeros</span><span class=\"p\">((</span><span class=\"mf\">40</span><span class=\"p\">,</span> <span class=\"mf\">40</span><span class=\"p\">),</span> <span class=\"n\">dtype</span><span class=\"o\">=</span><span class=\"n\">np</span><span class=\"o\">.</span><span class=\"n\">complex</span><span class=\"p\">)</span>\n",
       "\n",
       "<span class=\"c\"># The generated cython code</span>\n",
       "<span class=\"k\">cdef</span> <span class=\"nf\">generated_function</span><span class=\"p\">(</span>\n",
       "    <span class=\"c\"># input arguments</span>\n",
       "    <span class=\"n\">double</span> <span class=\"n\">E</span><span class=\"p\">,</span>\n",
       "    <span class=\"n\">double</span> <span class=\"nb\">complex</span> <span class=\"p\">[:,</span> <span class=\"p\">:]</span> <span class=\"n\">B</span><span class=\"p\">,</span>\n",
       "    <span class=\"c\"># output argument</span>\n",
       "    <span class=\"n\">double</span> <span class=\"nb\">complex</span> <span class=\"p\">[:,</span> <span class=\"p\">:]</span> <span class=\"n\">D</span>\n",
       "    <span class=\"p\">):</span>\n",
       "    <span class=\"c\"># indices and intermediate values for various matrix operations</span>\n",
       "    <span class=\"k\">cdef</span> <span class=\"kt\">int</span> <span class=\"nf\">i</span><span class=\"p\">,</span> <span class=\"nf\">j</span><span class=\"p\">,</span> <span class=\"nf\">k</span><span class=\"p\">,</span> <span class=\"nf\">ii</span><span class=\"p\">,</span> <span class=\"nf\">jj</span><span class=\"p\">,</span> <span class=\"nf\">kk</span>\n",
       "    <span class=\"k\">cdef</span> <span class=\"kt\">double</span> <span class=\"kt\">complex</span> <span class=\"nf\">c</span>\n",
       "    <span class=\"c\"># intermediate results</span>\n",
       "    <span class=\"k\">global</span> <span class=\"n\">C</span><span class=\"p\">,</span> <span class=\"n\">D</span>\n",
       "    <span class=\"c\"># predefined constants</span>\n",
       "    <span class=\"k\">global</span> <span class=\"n\">A</span>\n",
       "    <span class=\"c\"># evaluating the function</span>\n",
       "    <span class=\"c\"># C = A.B</span>\n",
       "    <span class=\"n\">ii</span> <span class=\"o\">=</span> <span class=\"n\">A</span><span class=\"o\">.</span><span class=\"n\">shape</span><span class=\"p\">[</span><span class=\"mf\">0</span><span class=\"p\">]</span>\n",
       "    <span class=\"n\">jj</span> <span class=\"o\">=</span> <span class=\"n\">B</span><span class=\"o\">.</span><span class=\"n\">shape</span><span class=\"p\">[</span><span class=\"mf\">1</span><span class=\"p\">]</span>\n",
       "    <span class=\"n\">kk</span> <span class=\"o\">=</span> <span class=\"n\">B</span><span class=\"o\">.</span><span class=\"n\">shape</span><span class=\"p\">[</span><span class=\"mf\">0</span><span class=\"p\">]</span>\n",
       "    <span class=\"k\">for</span> <span class=\"n\">i</span> <span class=\"ow\">in</span> <span class=\"nb\">range</span><span class=\"p\">(</span><span class=\"n\">ii</span><span class=\"p\">):</span>\n",
       "        <span class=\"k\">for</span> <span class=\"n\">j</span> <span class=\"ow\">in</span> <span class=\"nb\">range</span><span class=\"p\">(</span><span class=\"n\">jj</span><span class=\"p\">):</span>\n",
       "            <span class=\"n\">c</span> <span class=\"o\">=</span> <span class=\"mf\">0</span>\n",
       "            <span class=\"k\">for</span> <span class=\"n\">k</span> <span class=\"ow\">in</span> <span class=\"nb\">range</span><span class=\"p\">(</span><span class=\"n\">kk</span><span class=\"p\">):</span>\n",
       "                <span class=\"n\">c</span> <span class=\"o\">+=</span> <span class=\"n\">A</span><span class=\"p\">[</span><span class=\"n\">i</span><span class=\"p\">,</span><span class=\"n\">k</span><span class=\"p\">]</span><span class=\"o\">*</span><span class=\"n\">B</span><span class=\"p\">[</span><span class=\"n\">k</span><span class=\"p\">,</span><span class=\"n\">j</span><span class=\"p\">]</span>\n",
       "            <span class=\"n\">C</span><span class=\"p\">[</span><span class=\"n\">i</span><span class=\"p\">,</span><span class=\"n\">j</span><span class=\"p\">]</span> <span class=\"o\">=</span> <span class=\"n\">c</span>\n",
       "    <span class=\"c\"># D = -1j*C</span>\n",
       "    <span class=\"n\">ii</span> <span class=\"o\">=</span> <span class=\"n\">C</span><span class=\"o\">.</span><span class=\"n\">shape</span><span class=\"p\">[</span><span class=\"mf\">0</span><span class=\"p\">]</span>\n",
       "    <span class=\"n\">jj</span> <span class=\"o\">=</span> <span class=\"n\">C</span><span class=\"o\">.</span><span class=\"n\">shape</span><span class=\"p\">[</span><span class=\"mf\">1</span><span class=\"p\">]</span>\n",
       "    <span class=\"k\">for</span> <span class=\"n\">i</span> <span class=\"ow\">in</span> <span class=\"nb\">range</span><span class=\"p\">(</span><span class=\"n\">ii</span><span class=\"p\">):</span>\n",
       "        <span class=\"k\">for</span> <span class=\"n\">j</span> <span class=\"ow\">in</span> <span class=\"nb\">range</span><span class=\"p\">(</span><span class=\"n\">jj</span><span class=\"p\">):</span>\n",
       "            <span class=\"n\">D</span><span class=\"p\">[</span><span class=\"n\">i</span><span class=\"p\">,</span><span class=\"n\">j</span><span class=\"p\">]</span> <span class=\"o\">=</span> <span class=\"o\">-</span><span class=\"mf\">1</span><span class=\"n\">j</span><span class=\"o\">*</span><span class=\"n\">C</span><span class=\"p\">[</span><span class=\"n\">i</span><span class=\"p\">,</span><span class=\"n\">j</span><span class=\"p\">]</span>\n",
       "\n",
       "<span class=\"c\"># Function to deliver the constants from python to cython</span>\n",
       "<span class=\"k\">cpdef</span> <span class=\"nf\">setup_generated_function</span><span class=\"p\">(</span>\n",
       "    <span class=\"n\">double</span> <span class=\"nb\">complex</span> <span class=\"p\">[:,</span> <span class=\"p\">:]</span> <span class=\"n\">_A</span>\n",
       "    <span class=\"p\">):</span>\n",
       "    <span class=\"k\">global</span> <span class=\"n\">A</span>\n",
       "    <span class=\"n\">A</span> <span class=\"o\">=</span> <span class=\"n\">_A</span>\n",
       "\n",
       "<span class=\"k\">ctypedef</span> <span class=\"n\">void</span> <span class=\"n\">rhs_t</span><span class=\"p\">(</span><span class=\"n\">double</span> <span class=\"n\">t</span><span class=\"p\">,</span> <span class=\"n\">double</span> <span class=\"o\">*</span><span class=\"n\">y</span><span class=\"p\">,</span> <span class=\"n\">double</span> <span class=\"o\">*</span><span class=\"n\">ydot</span><span class=\"p\">)</span>\n",
       "<span class=\"k\">cdef</span> <span class=\"kr\">extern</span> <span class=\"k\">from</span> <span class=\"s\">&quot;cvode_simple_interface.h&quot;</span><span class=\"p\">:</span>\n",
       "    <span class=\"k\">struct</span> <span class=\"nc\">cvsi_instance</span><span class=\"p\">:</span>\n",
       "        <span class=\"k\">pass</span>\n",
       "    <span class=\"n\">cvsi_instance</span> <span class=\"o\">*</span><span class=\"n\">cvsi_setup</span><span class=\"p\">(</span><span class=\"n\">rhs_t</span> <span class=\"o\">*</span><span class=\"n\">rhs</span><span class=\"p\">,</span>\n",
       "                              <span class=\"n\">double</span> <span class=\"o\">*</span><span class=\"n\">y0</span><span class=\"p\">,</span> <span class=\"nb\">int</span> <span class=\"n\">neq</span><span class=\"p\">,</span>\n",
       "                              <span class=\"n\">double</span> <span class=\"n\">t0</span><span class=\"p\">,</span>\n",
       "                              <span class=\"nb\">long</span> <span class=\"n\">mxsteps</span><span class=\"p\">,</span> <span class=\"n\">double</span> <span class=\"n\">reltol</span><span class=\"p\">,</span> <span class=\"n\">double</span> <span class=\"n\">abstol</span><span class=\"p\">)</span>\n",
       "    <span class=\"nb\">int</span> <span class=\"n\">cvsi_step</span><span class=\"p\">(</span><span class=\"n\">cvsi_instance</span> <span class=\"o\">*</span><span class=\"n\">instance</span><span class=\"p\">,</span> <span class=\"n\">double</span> <span class=\"n\">t</span><span class=\"p\">)</span>\n",
       "    <span class=\"n\">void</span> <span class=\"n\">cvsi_destroy</span><span class=\"p\">(</span><span class=\"n\">cvsi_instance</span> <span class=\"o\">*</span><span class=\"n\">instance</span><span class=\"p\">)</span>\n",
       "\n",
       "<span class=\"k\">cdef</span> <span class=\"kr\">inline</span> <span class=\"kt\">void</span> <span class=\"nf\">RHS</span><span class=\"p\">(</span><span class=\"n\">double</span> <span class=\"n\">t</span><span class=\"p\">,</span> <span class=\"n\">double</span> <span class=\"o\">*</span><span class=\"n\">y</span><span class=\"p\">,</span> <span class=\"n\">double</span> <span class=\"o\">*</span><span class=\"n\">ydot</span><span class=\"p\">):</span>\n",
       "    <span class=\"n\">generated_function</span><span class=\"p\">(</span><span class=\"n\">t</span><span class=\"p\">,</span>\n",
       "                       <span class=\"o\">&lt;</span><span class=\"n\">double</span> <span class=\"nb\">complex</span> <span class=\"p\">[:</span><span class=\"mf\">40</span><span class=\"p\">,</span> <span class=\"p\">:</span><span class=\"mf\">1</span><span class=\"p\">]</span><span class=\"o\">&gt;</span> <span class=\"o\">&lt;</span><span class=\"n\">double</span> <span class=\"nb\">complex</span> <span class=\"o\">*&gt;</span> <span class=\"n\">y</span><span class=\"p\">,</span>\n",
       "                       <span class=\"o\">&lt;</span><span class=\"n\">double</span> <span class=\"nb\">complex</span> <span class=\"p\">[:</span><span class=\"mf\">40</span><span class=\"p\">,</span> <span class=\"p\">:</span><span class=\"mf\">1</span><span class=\"p\">]</span><span class=\"o\">&gt;</span> <span class=\"o\">&lt;</span><span class=\"n\">double</span> <span class=\"nb\">complex</span> <span class=\"o\">*&gt;</span> <span class=\"n\">ydot</span><span class=\"p\">)</span>\n",
       "    <span class=\"c\"># TODO The casts above need to allocate new memview structs each time</span>\n",
       "    <span class=\"c\"># It is noticeable on 2x2 matrices (10%), not noticeable otherwise</span>\n",
       "\n",
       "<span class=\"k\">cpdef</span> <span class=\"kt\">list</span> <span class=\"nf\">pythonsolve</span><span class=\"p\">(</span>\n",
       "        <span class=\"n\">np</span><span class=\"o\">.</span><span class=\"n\">ndarray</span><span class=\"p\">[</span><span class=\"n\">np</span><span class=\"o\">.</span><span class=\"n\">double_t</span><span class=\"p\">,</span> <span class=\"n\">ndim</span><span class=\"o\">=</span><span class=\"mf\">1</span><span class=\"p\">]</span> <span class=\"n\">ts</span><span class=\"p\">,</span>\n",
       "        <span class=\"n\">np</span><span class=\"o\">.</span><span class=\"n\">ndarray</span><span class=\"p\">[</span><span class=\"n\">np</span><span class=\"o\">.</span><span class=\"n\">complex_t</span><span class=\"p\">,</span> <span class=\"n\">ndim</span><span class=\"o\">=</span><span class=\"mf\">2</span><span class=\"p\">]</span> <span class=\"n\">y0</span><span class=\"p\">,</span>\n",
       "        <span class=\"nb\">long</span> <span class=\"n\">mxsteps</span><span class=\"p\">,</span> <span class=\"n\">double</span> <span class=\"n\">rtol</span><span class=\"p\">,</span> <span class=\"n\">double</span> <span class=\"n\">atol</span><span class=\"p\">):</span>\n",
       "    <span class=\"k\">if</span> <span class=\"n\">ts</span><span class=\"p\">[</span><span class=\"mf\">0</span><span class=\"p\">]</span> <span class=\"o\">==</span> <span class=\"mf\">0</span><span class=\"p\">:</span>\n",
       "        <span class=\"n\">ts</span> <span class=\"o\">=</span> <span class=\"n\">ts</span><span class=\"p\">[</span><span class=\"mf\">1</span><span class=\"p\">:]</span>\n",
       "        <span class=\"n\">res</span> <span class=\"o\">=</span> <span class=\"p\">[</span><span class=\"n\">y0</span><span class=\"p\">]</span>\n",
       "    <span class=\"k\">else</span><span class=\"p\">:</span>\n",
       "        <span class=\"n\">res</span> <span class=\"o\">=</span> <span class=\"p\">[]</span>\n",
       "    <span class=\"k\">cdef</span> <span class=\"kt\">np</span>.<span class=\"kt\">ndarray</span>[<span class=\"kt\">np</span>.<span class=\"nf\">complex_t</span><span class=\"p\">,</span> <span class=\"nf\">ndim</span><span class=\"o\">=</span><span class=\"mf\">2</span><span class=\"p\">,</span> <span class=\"n\">mode</span><span class=\"o\">=</span><span class=\"s\">&quot;c&quot;</span><span class=\"p\">]</span> <span class=\"n\">_y0</span> <span class=\"o\">=</span> <span class=\"n\">np</span><span class=\"o\">.</span><span class=\"n\">copy</span><span class=\"p\">(</span><span class=\"n\">y0</span><span class=\"p\">)</span>\n",
       "    <span class=\"k\">cdef</span> <span class=\"kt\">int</span> <span class=\"nf\">neq</span> <span class=\"o\">=</span> <span class=\"n\">np</span><span class=\"o\">.</span><span class=\"n\">size</span><span class=\"p\">(</span><span class=\"n\">_y0</span><span class=\"p\">)</span><span class=\"o\">*</span><span class=\"mf\">2</span>\n",
       "    <span class=\"k\">cdef</span> <span class=\"kt\">cvsi_instance</span> *<span class=\"nf\">instance</span> <span class=\"o\">=</span> <span class=\"n\">cvsi_setup</span><span class=\"p\">(</span><span class=\"n\">RHS</span><span class=\"p\">,</span> <span class=\"o\">&lt;</span><span class=\"n\">double</span> <span class=\"o\">*&gt;</span> <span class=\"o\">&amp;</span><span class=\"n\">_y0</span><span class=\"p\">[</span><span class=\"mf\">0</span><span class=\"p\">,</span><span class=\"mf\">0</span><span class=\"p\">],</span> <span class=\"n\">neq</span><span class=\"p\">,</span>\n",
       "                                              <span class=\"mf\">0</span><span class=\"p\">,</span> <span class=\"n\">mxsteps</span><span class=\"p\">,</span> <span class=\"n\">rtol</span><span class=\"p\">,</span> <span class=\"n\">atol</span><span class=\"p\">)</span>\n",
       "    <span class=\"k\">for</span> <span class=\"n\">t</span> <span class=\"ow\">in</span> <span class=\"n\">ts</span><span class=\"p\">:</span>\n",
       "        <span class=\"n\">cvsi_step</span><span class=\"p\">(</span><span class=\"n\">instance</span><span class=\"p\">,</span> <span class=\"n\">t</span><span class=\"p\">)</span>\n",
       "        <span class=\"n\">res</span><span class=\"o\">.</span><span class=\"n\">append</span><span class=\"p\">(</span><span class=\"n\">np</span><span class=\"o\">.</span><span class=\"n\">copy</span><span class=\"p\">(</span><span class=\"n\">_y0</span><span class=\"p\">))</span>\n",
       "    <span class=\"n\">cvsi_destroy</span><span class=\"p\">(</span><span class=\"n\">instance</span><span class=\"p\">)</span>\n",
       "\n",
       "    <span class=\"k\">return</span> <span class=\"n\">res</span>\n",
       "</pre></div>\n",
       "</body>\n",
       "</html>\n"
      ],
      "text/plain": [
       "<IPython.core.display.HTML object>"
      ]
     },
     "metadata": {},
     "output_type": "display_data"
    }
   ],
   "source": [
    "ts = 2*np.pi*np.linspace(0,1,41)\n",
    "res = sesolve(H, initial_state, ts)\n",
    "a = destroy(N_cutoff)\n",
    "a_expect = expect(a, res, keep_complex=True)"
   ]
  },
  {
   "cell_type": "code",
   "execution_count": 14,
   "metadata": {
    "collapsed": false
   },
   "outputs": [
    {
     "data": {
      "image/png": "[encoded data removed]",
      "text/plain": [
       "<matplotlib.figure.Figure at 0x7fb5f5971ef0>"
      ]
     },
     "metadata": {},
     "output_type": "display_data"
    }
   ],
   "source": [
    "plt.figure(figsize=(4,4))\n",
    "plt.plot(np.real(a_expect), np.imag(a_expect), 'b-')\n",
    "for t, alpha in list(zip(ts,a_expect))[:40:4]:\n",
    "    plt.plot(np.real(alpha), np.imag(alpha), 'r.')\n",
    "    plt.text(np.real(alpha), np.imag(alpha), r'$t=%.1f\\pi$'%(t/np.pi), fontsize=14)\n",
    "plt.title(r'$\\langle\\hat{a}\\rangle$-vs-$t$')\n",
    "plt.ylabel(r'$\\mathcal{I}(\\alpha)$')\n",
    "plt.xlabel(r'$\\mathcal{R}(\\alpha)$');"
   ]
  },
  {
   "cell_type": "markdown",
   "metadata": {},
   "source": [
    "# Jaynes-Cummings Revival\n",
    "\n",
    "$\\hat{H} = \\hat{H}_0 + \\hat{H}^\\prime$\n",
    "\n",
    "$\\hat{H}_0 = \\omega \\hat{n} + \\omega \\frac{1}{2} \\hat{\\sigma}_z$\n",
    "\n",
    "$\\hat{H}^\\prime = g (\\hat{\\sigma}_+\\hat{a} + \\hat{\\sigma}_-\\hat{a}^\\dagger)$"
   ]
  },
  {
   "cell_type": "code",
   "execution_count": 15,
   "metadata": {
    "collapsed": false
   },
   "outputs": [
    {
     "data": {
      "text/latex": [
       "$${\\left( {{0.5}\\tiny\\times\\normalsize{{\\hat{{I}}_{{40}}}\\tiny\\otimes\\normalsize{\\hat{σ}_{z}}}}+{{0.1}\\tiny\\times\\normalsize{\\left( {{\\hat{{a^\\dagger}}_{{40}}}\\tiny\\otimes\\normalsize{\\hat{σ}_{-}}}+{{\\hat{{a}}_{{40}}}\\tiny\\otimes\\normalsize{\\hat{σ}_{+}}} \\right)}}+{{\\hat{{n}}_{{40}}}\\tiny\\otimes\\normalsize{\\hat{{I}}_{{2}}}} \\right)}$$"
      ],
      "text/plain": [
       "Add(Mul(0.5, TensorProd('{I}_{40}', 'σ_z')), Mul(0.1, Add(TensorProd('{a^\\\\dagger}_{40}', 'σ_-'), TensorProd('{a}_{40}', 'σ_+'))), TensorProd('{n}_{40}', '{I}_{2}'))"
      ]
     },
     "execution_count": 15,
     "metadata": {},
     "output_type": "execute_result"
    }
   ],
   "source": [
    "ω = 1\n",
    "g = 0.1\n",
    "ts = np.pi/g*np.linspace(0,1,150)\n",
    "N_cutoff = 40\n",
    "H0 = ω*(tensor(num(N_cutoff), identity(2)) + 0.5 * tensor(identity(N_cutoff), sigmaz()))\n",
    "Hp = g*(tensor(destroy(N_cutoff),sigmap()) + tensor(create(N_cutoff), sigmam()))\n",
    "H0 + Hp"
   ]
  },
  {
   "cell_type": "markdown",
   "metadata": {},
   "source": [
    "## Definite Photon State"
   ]
  },
  {
   "cell_type": "code",
   "execution_count": 16,
   "metadata": {
    "collapsed": false
   },
   "outputs": [
    {
     "data": {
      "text/latex": [
       "$${|{3}_{\\tiny N\\normalsize 40},{0}_{\\tiny N\\normalsize 2}\\rangle}$$"
      ],
      "text/plain": [
       "TensorProd('{3}_{\\\\tiny N\\\\normalsize 40}', '{0}_{\\\\tiny N\\\\normalsize 2}')"
      ]
     },
     "execution_count": 16,
     "metadata": {},
     "output_type": "execute_result"
    }
   ],
   "source": [
    "n = 3\n",
    "n_p = tensor(basis(N_cutoff,n), basis(2,0))\n",
    "np1_m = tensor(basis(N_cutoff,n+1), basis(2,1))\n",
    "n_p"
   ]
  },
  {
   "cell_type": "code",
   "execution_count": 17,
   "metadata": {
    "collapsed": false
   },
   "outputs": [
    {
     "data": {
      "text/html": [
       "<!DOCTYPE html PUBLIC \"-//W3C//DTD HTML 4.01//EN\"\n",
       "   \"http://www.w3.org/TR/html4/strict.dtd\">\n",
       "\n",
       "<html>\n",
       "<head>\n",
       "  <title></title>\n",
       "  <meta http-equiv=\"content-type\" content=\"text/html; charset=None\">\n",
       "  <style type=\"text/css\">\n",
       "td.linenos { background-color: #f0f0f0; padding-right: 10px; }\n",
       "span.lineno { background-color: #f0f0f0; padding: 0 5px 0 5px; }\n",
       "pre { line-height: 125%; }\n",
       "body .hll { background-color: #ffffcc }\n",
       "body  { background: #f8f8f8; }\n",
       "body .c { color: #408080; font-style: italic } /* Comment */\n",
       "body .err { border: 1px solid #FF0000 } /* Error */\n",
       "body .k { color: #008000; font-weight: bold } /* Keyword */\n",
       "body .o { color: #666666 } /* Operator */\n",
       "body .cm { color: #408080; font-style: italic } /* Comment.Multiline */\n",
       "body .cp { color: #BC7A00 } /* Comment.Preproc */\n",
       "body .c1 { color: #408080; font-style: italic } /* Comment.Single */\n",
       "body .cs { color: #408080; font-style: italic } /* Comment.Special */\n",
       "body .gd { color: #A00000 } /* Generic.Deleted */\n",
       "body .ge { font-style: italic } /* Generic.Emph */\n",
       "body .gr { color: #FF0000 } /* Generic.Error */\n",
       "body .gh { color: #000080; font-weight: bold } /* Generic.Heading */\n",
       "body .gi { color: #00A000 } /* Generic.Inserted */\n",
       "body .go { color: #888888 } /* Generic.Output */\n",
       "body .gp { color: #000080; font-weight: bold } /* Generic.Prompt */\n",
       "body .gs { font-weight: bold } /* Generic.Strong */\n",
       "body .gu { color: #800080; font-weight: bold } /* Generic.Subheading */\n",
       "body .gt { color: #0044DD } /* Generic.Traceback */\n",
       "body .kc { color: #008000; font-weight: bold } /* Keyword.Constant */\n",
       "body .kd { color: #008000; font-weight: bold } /* Keyword.Declaration */\n",
       "body .kn { color: #008000; font-weight: bold } /* Keyword.Namespace */\n",
       "body .kp { color: #008000 } /* Keyword.Pseudo */\n",
       "body .kr { color: #008000; font-weight: bold } /* Keyword.Reserved */\n",
       "body .kt { color: #B00040 } /* Keyword.Type */\n",
       "body .m { color: #666666 } /* Literal.Number */\n",
       "body .s { color: #BA2121 } /* Literal.String */\n",
       "body .na { color: #7D9029 } /* Name.Attribute */\n",
       "body .nb { color: #008000 } /* Name.Builtin */\n",
       "body .nc { color: #0000FF; font-weight: bold } /* Name.Class */\n",
       "body .no { color: #880000 } /* Name.Constant */\n",
       "body .nd { color: #AA22FF } /* Name.Decorator */\n",
       "body .ni { color: #999999; font-weight: bold } /* Name.Entity */\n",
       "body .ne { color: #D2413A; font-weight: bold } /* Name.Exception */\n",
       "body .nf { color: #0000FF } /* Name.Function */\n",
       "body .nl { color: #A0A000 } /* Name.Label */\n",
       "body .nn { color: #0000FF; font-weight: bold } /* Name.Namespace */\n",
       "body .nt { color: #008000; font-weight: bold } /* Name.Tag */\n",
       "body .nv { color: #19177C } /* Name.Variable */\n",
       "body .ow { color: #AA22FF; font-weight: bold } /* Operator.Word */\n",
       "body .w { color: #bbbbbb } /* Text.Whitespace */\n",
       "body .mb { color: #666666 } /* Literal.Number.Bin */\n",
       "body .mf { color: #666666 } /* Literal.Number.Float */\n",
       "body .mh { color: #666666 } /* Literal.Number.Hex */\n",
       "body .mi { color: #666666 } /* Literal.Number.Integer */\n",
       "body .mo { color: #666666 } /* Literal.Number.Oct */\n",
       "body .sb { color: #BA2121 } /* Literal.String.Backtick */\n",
       "body .sc { color: #BA2121 } /* Literal.String.Char */\n",
       "body .sd { color: #BA2121; font-style: italic } /* Literal.String.Doc */\n",
       "body .s2 { color: #BA2121 } /* Literal.String.Double */\n",
       "body .se { color: #BB6622; font-weight: bold } /* Literal.String.Escape */\n",
       "body .sh { color: #BA2121 } /* Literal.String.Heredoc */\n",
       "body .si { color: #BB6688; font-weight: bold } /* Literal.String.Interpol */\n",
       "body .sx { color: #008000 } /* Literal.String.Other */\n",
       "body .sr { color: #BB6688 } /* Literal.String.Regex */\n",
       "body .s1 { color: #BA2121 } /* Literal.String.Single */\n",
       "body .ss { color: #19177C } /* Literal.String.Symbol */\n",
       "body .bp { color: #008000 } /* Name.Builtin.Pseudo */\n",
       "body .vc { color: #19177C } /* Name.Variable.Class */\n",
       "body .vg { color: #19177C } /* Name.Variable.Global */\n",
       "body .vi { color: #19177C } /* Name.Variable.Instance */\n",
       "body .il { color: #666666 } /* Literal.Number.Integer.Long */\n",
       "\n",
       "  </style>\n",
       "</head>\n",
       "<body>\n",
       "<h2></h2>\n",
       "\n",
       "<div class=\"highlight\"><pre><span class=\"c\">#cython: boundscheck=False, wraparound=False, initializedcheck=False, cdivision=True</span>\n",
       "<span class=\"k\">cimport</span> <span class=\"nn\">numpy</span> <span class=\"k\">as</span> <span class=\"nn\">np</span>\n",
       "<span class=\"k\">import</span> <span class=\"nn\">numpy</span> <span class=\"k\">as</span> <span class=\"nn\">np</span>\n",
       "<span class=\"k\">from</span> <span class=\"nn\">libc.math</span> <span class=\"k\">cimport</span> <span class=\"n\">sin</span><span class=\"p\">,</span> <span class=\"n\">cos</span><span class=\"p\">,</span> <span class=\"n\">exp</span><span class=\"p\">,</span> <span class=\"n\">sinh</span><span class=\"p\">,</span> <span class=\"n\">cosh</span><span class=\"p\">,</span> <span class=\"n\">tan</span><span class=\"p\">,</span> <span class=\"n\">tanh</span><span class=\"p\">,</span> <span class=\"n\">log</span>\n",
       "\n",
       "<span class=\"c\"># Declaration of global variables for</span>\n",
       "<span class=\"c\"># - intermediate results</span>\n",
       "<span class=\"c\"># - predefined constants</span>\n",
       "<span class=\"k\">cdef</span> <span class=\"kt\">double</span> <span class=\"kt\">complex</span> [<span class=\"p\">:,</span> <span class=\"p\">:]</span> <span class=\"n\">C</span> <span class=\"o\">=</span> <span class=\"n\">np</span><span class=\"o\">.</span><span class=\"n\">zeros</span><span class=\"p\">((</span><span class=\"mf\">80</span><span class=\"p\">,</span> <span class=\"mf\">1</span><span class=\"p\">),</span> <span class=\"n\">dtype</span><span class=\"o\">=</span><span class=\"n\">np</span><span class=\"o\">.</span><span class=\"n\">complex</span><span class=\"p\">)</span>\n",
       "<span class=\"k\">cdef</span> <span class=\"kt\">double</span> <span class=\"kt\">complex</span> [<span class=\"p\">:,</span> <span class=\"p\">:]</span> <span class=\"n\">A</span> <span class=\"o\">=</span> <span class=\"n\">np</span><span class=\"o\">.</span><span class=\"n\">zeros</span><span class=\"p\">((</span><span class=\"mf\">80</span><span class=\"p\">,</span> <span class=\"mf\">80</span><span class=\"p\">),</span> <span class=\"n\">dtype</span><span class=\"o\">=</span><span class=\"n\">np</span><span class=\"o\">.</span><span class=\"n\">complex</span><span class=\"p\">)</span>\n",
       "\n",
       "<span class=\"c\"># The generated cython code</span>\n",
       "<span class=\"k\">cdef</span> <span class=\"nf\">generated_function</span><span class=\"p\">(</span>\n",
       "    <span class=\"c\"># input arguments</span>\n",
       "    <span class=\"n\">double</span> <span class=\"n\">E</span><span class=\"p\">,</span>\n",
       "    <span class=\"n\">double</span> <span class=\"nb\">complex</span> <span class=\"p\">[:,</span> <span class=\"p\">:]</span> <span class=\"n\">B</span><span class=\"p\">,</span>\n",
       "    <span class=\"c\"># output argument</span>\n",
       "    <span class=\"n\">double</span> <span class=\"nb\">complex</span> <span class=\"p\">[:,</span> <span class=\"p\">:]</span> <span class=\"n\">D</span>\n",
       "    <span class=\"p\">):</span>\n",
       "    <span class=\"c\"># indices and intermediate values for various matrix operations</span>\n",
       "    <span class=\"k\">cdef</span> <span class=\"kt\">int</span> <span class=\"nf\">i</span><span class=\"p\">,</span> <span class=\"nf\">j</span><span class=\"p\">,</span> <span class=\"nf\">k</span><span class=\"p\">,</span> <span class=\"nf\">ii</span><span class=\"p\">,</span> <span class=\"nf\">jj</span><span class=\"p\">,</span> <span class=\"nf\">kk</span>\n",
       "    <span class=\"k\">cdef</span> <span class=\"kt\">double</span> <span class=\"kt\">complex</span> <span class=\"nf\">c</span>\n",
       "    <span class=\"c\"># intermediate results</span>\n",
       "    <span class=\"k\">global</span> <span class=\"n\">C</span><span class=\"p\">,</span> <span class=\"n\">D</span>\n",
       "    <span class=\"c\"># predefined constants</span>\n",
       "    <span class=\"k\">global</span> <span class=\"n\">A</span>\n",
       "    <span class=\"c\"># evaluating the function</span>\n",
       "    <span class=\"c\"># C = A.B</span>\n",
       "    <span class=\"n\">ii</span> <span class=\"o\">=</span> <span class=\"n\">A</span><span class=\"o\">.</span><span class=\"n\">shape</span><span class=\"p\">[</span><span class=\"mf\">0</span><span class=\"p\">]</span>\n",
       "    <span class=\"n\">jj</span> <span class=\"o\">=</span> <span class=\"n\">B</span><span class=\"o\">.</span><span class=\"n\">shape</span><span class=\"p\">[</span><span class=\"mf\">1</span><span class=\"p\">]</span>\n",
       "    <span class=\"n\">kk</span> <span class=\"o\">=</span> <span class=\"n\">B</span><span class=\"o\">.</span><span class=\"n\">shape</span><span class=\"p\">[</span><span class=\"mf\">0</span><span class=\"p\">]</span>\n",
       "    <span class=\"k\">for</span> <span class=\"n\">i</span> <span class=\"ow\">in</span> <span class=\"nb\">range</span><span class=\"p\">(</span><span class=\"n\">ii</span><span class=\"p\">):</span>\n",
       "        <span class=\"k\">for</span> <span class=\"n\">j</span> <span class=\"ow\">in</span> <span class=\"nb\">range</span><span class=\"p\">(</span><span class=\"n\">jj</span><span class=\"p\">):</span>\n",
       "            <span class=\"n\">c</span> <span class=\"o\">=</span> <span class=\"mf\">0</span>\n",
       "            <span class=\"k\">for</span> <span class=\"n\">k</span> <span class=\"ow\">in</span> <span class=\"nb\">range</span><span class=\"p\">(</span><span class=\"n\">kk</span><span class=\"p\">):</span>\n",
       "                <span class=\"n\">c</span> <span class=\"o\">+=</span> <span class=\"n\">A</span><span class=\"p\">[</span><span class=\"n\">i</span><span class=\"p\">,</span><span class=\"n\">k</span><span class=\"p\">]</span><span class=\"o\">*</span><span class=\"n\">B</span><span class=\"p\">[</span><span class=\"n\">k</span><span class=\"p\">,</span><span class=\"n\">j</span><span class=\"p\">]</span>\n",
       "            <span class=\"n\">C</span><span class=\"p\">[</span><span class=\"n\">i</span><span class=\"p\">,</span><span class=\"n\">j</span><span class=\"p\">]</span> <span class=\"o\">=</span> <span class=\"n\">c</span>\n",
       "    <span class=\"c\"># D = -1j*C</span>\n",
       "    <span class=\"n\">ii</span> <span class=\"o\">=</span> <span class=\"n\">C</span><span class=\"o\">.</span><span class=\"n\">shape</span><span class=\"p\">[</span><span class=\"mf\">0</span><span class=\"p\">]</span>\n",
       "    <span class=\"n\">jj</span> <span class=\"o\">=</span> <span class=\"n\">C</span><span class=\"o\">.</span><span class=\"n\">shape</span><span class=\"p\">[</span><span class=\"mf\">1</span><span class=\"p\">]</span>\n",
       "    <span class=\"k\">for</span> <span class=\"n\">i</span> <span class=\"ow\">in</span> <span class=\"nb\">range</span><span class=\"p\">(</span><span class=\"n\">ii</span><span class=\"p\">):</span>\n",
       "        <span class=\"k\">for</span> <span class=\"n\">j</span> <span class=\"ow\">in</span> <span class=\"nb\">range</span><span class=\"p\">(</span><span class=\"n\">jj</span><span class=\"p\">):</span>\n",
       "            <span class=\"n\">D</span><span class=\"p\">[</span><span class=\"n\">i</span><span class=\"p\">,</span><span class=\"n\">j</span><span class=\"p\">]</span> <span class=\"o\">=</span> <span class=\"o\">-</span><span class=\"mf\">1</span><span class=\"n\">j</span><span class=\"o\">*</span><span class=\"n\">C</span><span class=\"p\">[</span><span class=\"n\">i</span><span class=\"p\">,</span><span class=\"n\">j</span><span class=\"p\">]</span>\n",
       "\n",
       "<span class=\"c\"># Function to deliver the constants from python to cython</span>\n",
       "<span class=\"k\">cpdef</span> <span class=\"nf\">setup_generated_function</span><span class=\"p\">(</span>\n",
       "    <span class=\"n\">double</span> <span class=\"nb\">complex</span> <span class=\"p\">[:,</span> <span class=\"p\">:]</span> <span class=\"n\">_A</span>\n",
       "    <span class=\"p\">):</span>\n",
       "    <span class=\"k\">global</span> <span class=\"n\">A</span>\n",
       "    <span class=\"n\">A</span> <span class=\"o\">=</span> <span class=\"n\">_A</span>\n",
       "\n",
       "<span class=\"k\">ctypedef</span> <span class=\"n\">void</span> <span class=\"n\">rhs_t</span><span class=\"p\">(</span><span class=\"n\">double</span> <span class=\"n\">t</span><span class=\"p\">,</span> <span class=\"n\">double</span> <span class=\"o\">*</span><span class=\"n\">y</span><span class=\"p\">,</span> <span class=\"n\">double</span> <span class=\"o\">*</span><span class=\"n\">ydot</span><span class=\"p\">)</span>\n",
       "<span class=\"k\">cdef</span> <span class=\"kr\">extern</span> <span class=\"k\">from</span> <span class=\"s\">&quot;cvode_simple_interface.h&quot;</span><span class=\"p\">:</span>\n",
       "    <span class=\"k\">struct</span> <span class=\"nc\">cvsi_instance</span><span class=\"p\">:</span>\n",
       "        <span class=\"k\">pass</span>\n",
       "    <span class=\"n\">cvsi_instance</span> <span class=\"o\">*</span><span class=\"n\">cvsi_setup</span><span class=\"p\">(</span><span class=\"n\">rhs_t</span> <span class=\"o\">*</span><span class=\"n\">rhs</span><span class=\"p\">,</span>\n",
       "                              <span class=\"n\">double</span> <span class=\"o\">*</span><span class=\"n\">y0</span><span class=\"p\">,</span> <span class=\"nb\">int</span> <span class=\"n\">neq</span><span class=\"p\">,</span>\n",
       "                              <span class=\"n\">double</span> <span class=\"n\">t0</span><span class=\"p\">,</span>\n",
       "                              <span class=\"nb\">long</span> <span class=\"n\">mxsteps</span><span class=\"p\">,</span> <span class=\"n\">double</span> <span class=\"n\">reltol</span><span class=\"p\">,</span> <span class=\"n\">double</span> <span class=\"n\">abstol</span><span class=\"p\">)</span>\n",
       "    <span class=\"nb\">int</span> <span class=\"n\">cvsi_step</span><span class=\"p\">(</span><span class=\"n\">cvsi_instance</span> <span class=\"o\">*</span><span class=\"n\">instance</span><span class=\"p\">,</span> <span class=\"n\">double</span> <span class=\"n\">t</span><span class=\"p\">)</span>\n",
       "    <span class=\"n\">void</span> <span class=\"n\">cvsi_destroy</span><span class=\"p\">(</span><span class=\"n\">cvsi_instance</span> <span class=\"o\">*</span><span class=\"n\">instance</span><span class=\"p\">)</span>\n",
       "\n",
       "<span class=\"k\">cdef</span> <span class=\"kr\">inline</span> <span class=\"kt\">void</span> <span class=\"nf\">RHS</span><span class=\"p\">(</span><span class=\"n\">double</span> <span class=\"n\">t</span><span class=\"p\">,</span> <span class=\"n\">double</span> <span class=\"o\">*</span><span class=\"n\">y</span><span class=\"p\">,</span> <span class=\"n\">double</span> <span class=\"o\">*</span><span class=\"n\">ydot</span><span class=\"p\">):</span>\n",
       "    <span class=\"n\">generated_function</span><span class=\"p\">(</span><span class=\"n\">t</span><span class=\"p\">,</span>\n",
       "                       <span class=\"o\">&lt;</span><span class=\"n\">double</span> <span class=\"nb\">complex</span> <span class=\"p\">[:</span><span class=\"mf\">80</span><span class=\"p\">,</span> <span class=\"p\">:</span><span class=\"mf\">1</span><span class=\"p\">]</span><span class=\"o\">&gt;</span> <span class=\"o\">&lt;</span><span class=\"n\">double</span> <span class=\"nb\">complex</span> <span class=\"o\">*&gt;</span> <span class=\"n\">y</span><span class=\"p\">,</span>\n",
       "                       <span class=\"o\">&lt;</span><span class=\"n\">double</span> <span class=\"nb\">complex</span> <span class=\"p\">[:</span><span class=\"mf\">80</span><span class=\"p\">,</span> <span class=\"p\">:</span><span class=\"mf\">1</span><span class=\"p\">]</span><span class=\"o\">&gt;</span> <span class=\"o\">&lt;</span><span class=\"n\">double</span> <span class=\"nb\">complex</span> <span class=\"o\">*&gt;</span> <span class=\"n\">ydot</span><span class=\"p\">)</span>\n",
       "    <span class=\"c\"># TODO The casts above need to allocate new memview structs each time</span>\n",
       "    <span class=\"c\"># It is noticeable on 2x2 matrices (10%), not noticeable otherwise</span>\n",
       "\n",
       "<span class=\"k\">cpdef</span> <span class=\"kt\">list</span> <span class=\"nf\">pythonsolve</span><span class=\"p\">(</span>\n",
       "        <span class=\"n\">np</span><span class=\"o\">.</span><span class=\"n\">ndarray</span><span class=\"p\">[</span><span class=\"n\">np</span><span class=\"o\">.</span><span class=\"n\">double_t</span><span class=\"p\">,</span> <span class=\"n\">ndim</span><span class=\"o\">=</span><span class=\"mf\">1</span><span class=\"p\">]</span> <span class=\"n\">ts</span><span class=\"p\">,</span>\n",
       "        <span class=\"n\">np</span><span class=\"o\">.</span><span class=\"n\">ndarray</span><span class=\"p\">[</span><span class=\"n\">np</span><span class=\"o\">.</span><span class=\"n\">complex_t</span><span class=\"p\">,</span> <span class=\"n\">ndim</span><span class=\"o\">=</span><span class=\"mf\">2</span><span class=\"p\">]</span> <span class=\"n\">y0</span><span class=\"p\">,</span>\n",
       "        <span class=\"nb\">long</span> <span class=\"n\">mxsteps</span><span class=\"p\">,</span> <span class=\"n\">double</span> <span class=\"n\">rtol</span><span class=\"p\">,</span> <span class=\"n\">double</span> <span class=\"n\">atol</span><span class=\"p\">):</span>\n",
       "    <span class=\"k\">if</span> <span class=\"n\">ts</span><span class=\"p\">[</span><span class=\"mf\">0</span><span class=\"p\">]</span> <span class=\"o\">==</span> <span class=\"mf\">0</span><span class=\"p\">:</span>\n",
       "        <span class=\"n\">ts</span> <span class=\"o\">=</span> <span class=\"n\">ts</span><span class=\"p\">[</span><span class=\"mf\">1</span><span class=\"p\">:]</span>\n",
       "        <span class=\"n\">res</span> <span class=\"o\">=</span> <span class=\"p\">[</span><span class=\"n\">y0</span><span class=\"p\">]</span>\n",
       "    <span class=\"k\">else</span><span class=\"p\">:</span>\n",
       "        <span class=\"n\">res</span> <span class=\"o\">=</span> <span class=\"p\">[]</span>\n",
       "    <span class=\"k\">cdef</span> <span class=\"kt\">np</span>.<span class=\"kt\">ndarray</span>[<span class=\"kt\">np</span>.<span class=\"nf\">complex_t</span><span class=\"p\">,</span> <span class=\"nf\">ndim</span><span class=\"o\">=</span><span class=\"mf\">2</span><span class=\"p\">,</span> <span class=\"n\">mode</span><span class=\"o\">=</span><span class=\"s\">&quot;c&quot;</span><span class=\"p\">]</span> <span class=\"n\">_y0</span> <span class=\"o\">=</span> <span class=\"n\">np</span><span class=\"o\">.</span><span class=\"n\">copy</span><span class=\"p\">(</span><span class=\"n\">y0</span><span class=\"p\">)</span>\n",
       "    <span class=\"k\">cdef</span> <span class=\"kt\">int</span> <span class=\"nf\">neq</span> <span class=\"o\">=</span> <span class=\"n\">np</span><span class=\"o\">.</span><span class=\"n\">size</span><span class=\"p\">(</span><span class=\"n\">_y0</span><span class=\"p\">)</span><span class=\"o\">*</span><span class=\"mf\">2</span>\n",
       "    <span class=\"k\">cdef</span> <span class=\"kt\">cvsi_instance</span> *<span class=\"nf\">instance</span> <span class=\"o\">=</span> <span class=\"n\">cvsi_setup</span><span class=\"p\">(</span><span class=\"n\">RHS</span><span class=\"p\">,</span> <span class=\"o\">&lt;</span><span class=\"n\">double</span> <span class=\"o\">*&gt;</span> <span class=\"o\">&amp;</span><span class=\"n\">_y0</span><span class=\"p\">[</span><span class=\"mf\">0</span><span class=\"p\">,</span><span class=\"mf\">0</span><span class=\"p\">],</span> <span class=\"n\">neq</span><span class=\"p\">,</span>\n",
       "                                              <span class=\"mf\">0</span><span class=\"p\">,</span> <span class=\"n\">mxsteps</span><span class=\"p\">,</span> <span class=\"n\">rtol</span><span class=\"p\">,</span> <span class=\"n\">atol</span><span class=\"p\">)</span>\n",
       "    <span class=\"k\">for</span> <span class=\"n\">t</span> <span class=\"ow\">in</span> <span class=\"n\">ts</span><span class=\"p\">:</span>\n",
       "        <span class=\"n\">cvsi_step</span><span class=\"p\">(</span><span class=\"n\">instance</span><span class=\"p\">,</span> <span class=\"n\">t</span><span class=\"p\">)</span>\n",
       "        <span class=\"n\">res</span><span class=\"o\">.</span><span class=\"n\">append</span><span class=\"p\">(</span><span class=\"n\">np</span><span class=\"o\">.</span><span class=\"n\">copy</span><span class=\"p\">(</span><span class=\"n\">_y0</span><span class=\"p\">))</span>\n",
       "    <span class=\"n\">cvsi_destroy</span><span class=\"p\">(</span><span class=\"n\">instance</span><span class=\"p\">)</span>\n",
       "\n",
       "    <span class=\"k\">return</span> <span class=\"n\">res</span>\n",
       "</pre></div>\n",
       "</body>\n",
       "</html>\n"
      ],
      "text/plain": [
       "<IPython.core.display.HTML object>"
      ]
     },
     "metadata": {},
     "output_type": "display_data"
    }
   ],
   "source": [
    "res = sesolve(H0 + Hp, n_p, ts)"
   ]
  },
  {
   "cell_type": "code",
   "execution_count": 18,
   "metadata": {
    "collapsed": false
   },
   "outputs": [
    {
     "data": {
      "image/png": "[encoded data removed]",
      "text/plain": [
       "<matplotlib.figure.Figure at 0x7fb5f197f5f8>"
      ]
     },
     "metadata": {},
     "output_type": "display_data"
    }
   ],
   "source": [
    "ovlps = overlap([n_p, np1_m], res)\n",
    "plt.plot(ts*g/np.pi, np.abs(ovlps)**2)\n",
    "plt.legend([r'$|%d,+\\rangle$'%n, r'$|%d,-\\rangle$'%(n+1)])\n",
    "plt.title(r'Population-vs-$gt/\\pi$');"
   ]
  },
  {
   "cell_type": "code",
   "execution_count": 19,
   "metadata": {
    "collapsed": false
   },
   "outputs": [
    {
     "data": {
      "text/html": [
       "<!DOCTYPE html PUBLIC \"-//W3C//DTD HTML 4.01//EN\"\n",
       "   \"http://www.w3.org/TR/html4/strict.dtd\">\n",
       "\n",
       "<html>\n",
       "<head>\n",
       "  <title></title>\n",
       "  <meta http-equiv=\"content-type\" content=\"text/html; charset=None\">\n",
       "  <style type=\"text/css\">\n",
       "td.linenos { background-color: #f0f0f0; padding-right: 10px; }\n",
       "span.lineno { background-color: #f0f0f0; padding: 0 5px 0 5px; }\n",
       "pre { line-height: 125%; }\n",
       "body .hll { background-color: #ffffcc }\n",
       "body  { background: #f8f8f8; }\n",
       "body .c { color: #408080; font-style: italic } /* Comment */\n",
       "body .err { border: 1px solid #FF0000 } /* Error */\n",
       "body .k { color: #008000; font-weight: bold } /* Keyword */\n",
       "body .o { color: #666666 } /* Operator */\n",
       "body .cm { color: #408080; font-style: italic } /* Comment.Multiline */\n",
       "body .cp { color: #BC7A00 } /* Comment.Preproc */\n",
       "body .c1 { color: #408080; font-style: italic } /* Comment.Single */\n",
       "body .cs { color: #408080; font-style: italic } /* Comment.Special */\n",
       "body .gd { color: #A00000 } /* Generic.Deleted */\n",
       "body .ge { font-style: italic } /* Generic.Emph */\n",
       "body .gr { color: #FF0000 } /* Generic.Error */\n",
       "body .gh { color: #000080; font-weight: bold } /* Generic.Heading */\n",
       "body .gi { color: #00A000 } /* Generic.Inserted */\n",
       "body .go { color: #888888 } /* Generic.Output */\n",
       "body .gp { color: #000080; font-weight: bold } /* Generic.Prompt */\n",
       "body .gs { font-weight: bold } /* Generic.Strong */\n",
       "body .gu { color: #800080; font-weight: bold } /* Generic.Subheading */\n",
       "body .gt { color: #0044DD } /* Generic.Traceback */\n",
       "body .kc { color: #008000; font-weight: bold } /* Keyword.Constant */\n",
       "body .kd { color: #008000; font-weight: bold } /* Keyword.Declaration */\n",
       "body .kn { color: #008000; font-weight: bold } /* Keyword.Namespace */\n",
       "body .kp { color: #008000 } /* Keyword.Pseudo */\n",
       "body .kr { color: #008000; font-weight: bold } /* Keyword.Reserved */\n",
       "body .kt { color: #B00040 } /* Keyword.Type */\n",
       "body .m { color: #666666 } /* Literal.Number */\n",
       "body .s { color: #BA2121 } /* Literal.String */\n",
       "body .na { color: #7D9029 } /* Name.Attribute */\n",
       "body .nb { color: #008000 } /* Name.Builtin */\n",
       "body .nc { color: #0000FF; font-weight: bold } /* Name.Class */\n",
       "body .no { color: #880000 } /* Name.Constant */\n",
       "body .nd { color: #AA22FF } /* Name.Decorator */\n",
       "body .ni { color: #999999; font-weight: bold } /* Name.Entity */\n",
       "body .ne { color: #D2413A; font-weight: bold } /* Name.Exception */\n",
       "body .nf { color: #0000FF } /* Name.Function */\n",
       "body .nl { color: #A0A000 } /* Name.Label */\n",
       "body .nn { color: #0000FF; font-weight: bold } /* Name.Namespace */\n",
       "body .nt { color: #008000; font-weight: bold } /* Name.Tag */\n",
       "body .nv { color: #19177C } /* Name.Variable */\n",
       "body .ow { color: #AA22FF; font-weight: bold } /* Operator.Word */\n",
       "body .w { color: #bbbbbb } /* Text.Whitespace */\n",
       "body .mb { color: #666666 } /* Literal.Number.Bin */\n",
       "body .mf { color: #666666 } /* Literal.Number.Float */\n",
       "body .mh { color: #666666 } /* Literal.Number.Hex */\n",
       "body .mi { color: #666666 } /* Literal.Number.Integer */\n",
       "body .mo { color: #666666 } /* Literal.Number.Oct */\n",
       "body .sb { color: #BA2121 } /* Literal.String.Backtick */\n",
       "body .sc { color: #BA2121 } /* Literal.String.Char */\n",
       "body .sd { color: #BA2121; font-style: italic } /* Literal.String.Doc */\n",
       "body .s2 { color: #BA2121 } /* Literal.String.Double */\n",
       "body .se { color: #BB6622; font-weight: bold } /* Literal.String.Escape */\n",
       "body .sh { color: #BA2121 } /* Literal.String.Heredoc */\n",
       "body .si { color: #BB6688; font-weight: bold } /* Literal.String.Interpol */\n",
       "body .sx { color: #008000 } /* Literal.String.Other */\n",
       "body .sr { color: #BB6688 } /* Literal.String.Regex */\n",
       "body .s1 { color: #BA2121 } /* Literal.String.Single */\n",
       "body .ss { color: #19177C } /* Literal.String.Symbol */\n",
       "body .bp { color: #008000 } /* Name.Builtin.Pseudo */\n",
       "body .vc { color: #19177C } /* Name.Variable.Class */\n",
       "body .vg { color: #19177C } /* Name.Variable.Global */\n",
       "body .vi { color: #19177C } /* Name.Variable.Instance */\n",
       "body .il { color: #666666 } /* Literal.Number.Integer.Long */\n",
       "\n",
       "  </style>\n",
       "</head>\n",
       "<body>\n",
       "<h2></h2>\n",
       "\n",
       "<div class=\"highlight\"><pre><span class=\"c\">#cython: boundscheck=False, wraparound=False, initializedcheck=False, cdivision=True</span>\n",
       "<span class=\"k\">cimport</span> <span class=\"nn\">numpy</span> <span class=\"k\">as</span> <span class=\"nn\">np</span>\n",
       "<span class=\"k\">import</span> <span class=\"nn\">numpy</span> <span class=\"k\">as</span> <span class=\"nn\">np</span>\n",
       "<span class=\"k\">from</span> <span class=\"nn\">libc.math</span> <span class=\"k\">cimport</span> <span class=\"n\">sin</span><span class=\"p\">,</span> <span class=\"n\">cos</span><span class=\"p\">,</span> <span class=\"n\">exp</span><span class=\"p\">,</span> <span class=\"n\">sinh</span><span class=\"p\">,</span> <span class=\"n\">cosh</span><span class=\"p\">,</span> <span class=\"n\">tan</span><span class=\"p\">,</span> <span class=\"n\">tanh</span><span class=\"p\">,</span> <span class=\"n\">log</span>\n",
       "\n",
       "<span class=\"c\"># Declaration of global variables for</span>\n",
       "<span class=\"c\"># - intermediate results</span>\n",
       "<span class=\"c\"># - predefined constants</span>\n",
       "<span class=\"k\">cdef</span> <span class=\"kt\">double</span> <span class=\"kt\">complex</span> [<span class=\"p\">:,</span> <span class=\"p\">:]</span> <span class=\"n\">C</span> <span class=\"o\">=</span> <span class=\"n\">np</span><span class=\"o\">.</span><span class=\"n\">zeros</span><span class=\"p\">((</span><span class=\"mf\">80</span><span class=\"p\">,</span> <span class=\"mf\">1</span><span class=\"p\">),</span> <span class=\"n\">dtype</span><span class=\"o\">=</span><span class=\"n\">np</span><span class=\"o\">.</span><span class=\"n\">complex</span><span class=\"p\">)</span>\n",
       "<span class=\"k\">cdef</span> <span class=\"kt\">double</span> <span class=\"kt\">complex</span> [<span class=\"p\">:,</span> <span class=\"p\">:]</span> <span class=\"n\">A</span> <span class=\"o\">=</span> <span class=\"n\">np</span><span class=\"o\">.</span><span class=\"n\">zeros</span><span class=\"p\">((</span><span class=\"mf\">80</span><span class=\"p\">,</span> <span class=\"mf\">80</span><span class=\"p\">),</span> <span class=\"n\">dtype</span><span class=\"o\">=</span><span class=\"n\">np</span><span class=\"o\">.</span><span class=\"n\">complex</span><span class=\"p\">)</span>\n",
       "\n",
       "<span class=\"c\"># The generated cython code</span>\n",
       "<span class=\"k\">cdef</span> <span class=\"nf\">generated_function</span><span class=\"p\">(</span>\n",
       "    <span class=\"c\"># input arguments</span>\n",
       "    <span class=\"n\">double</span> <span class=\"n\">E</span><span class=\"p\">,</span>\n",
       "    <span class=\"n\">double</span> <span class=\"nb\">complex</span> <span class=\"p\">[:,</span> <span class=\"p\">:]</span> <span class=\"n\">B</span><span class=\"p\">,</span>\n",
       "    <span class=\"c\"># output argument</span>\n",
       "    <span class=\"n\">double</span> <span class=\"nb\">complex</span> <span class=\"p\">[:,</span> <span class=\"p\">:]</span> <span class=\"n\">D</span>\n",
       "    <span class=\"p\">):</span>\n",
       "    <span class=\"c\"># indices and intermediate values for various matrix operations</span>\n",
       "    <span class=\"k\">cdef</span> <span class=\"kt\">int</span> <span class=\"nf\">i</span><span class=\"p\">,</span> <span class=\"nf\">j</span><span class=\"p\">,</span> <span class=\"nf\">k</span><span class=\"p\">,</span> <span class=\"nf\">ii</span><span class=\"p\">,</span> <span class=\"nf\">jj</span><span class=\"p\">,</span> <span class=\"nf\">kk</span>\n",
       "    <span class=\"k\">cdef</span> <span class=\"kt\">double</span> <span class=\"kt\">complex</span> <span class=\"nf\">c</span>\n",
       "    <span class=\"c\"># intermediate results</span>\n",
       "    <span class=\"k\">global</span> <span class=\"n\">C</span><span class=\"p\">,</span> <span class=\"n\">D</span>\n",
       "    <span class=\"c\"># predefined constants</span>\n",
       "    <span class=\"k\">global</span> <span class=\"n\">A</span>\n",
       "    <span class=\"c\"># evaluating the function</span>\n",
       "    <span class=\"c\"># C = A.B</span>\n",
       "    <span class=\"n\">ii</span> <span class=\"o\">=</span> <span class=\"n\">A</span><span class=\"o\">.</span><span class=\"n\">shape</span><span class=\"p\">[</span><span class=\"mf\">0</span><span class=\"p\">]</span>\n",
       "    <span class=\"n\">jj</span> <span class=\"o\">=</span> <span class=\"n\">B</span><span class=\"o\">.</span><span class=\"n\">shape</span><span class=\"p\">[</span><span class=\"mf\">1</span><span class=\"p\">]</span>\n",
       "    <span class=\"n\">kk</span> <span class=\"o\">=</span> <span class=\"n\">B</span><span class=\"o\">.</span><span class=\"n\">shape</span><span class=\"p\">[</span><span class=\"mf\">0</span><span class=\"p\">]</span>\n",
       "    <span class=\"k\">for</span> <span class=\"n\">i</span> <span class=\"ow\">in</span> <span class=\"nb\">range</span><span class=\"p\">(</span><span class=\"n\">ii</span><span class=\"p\">):</span>\n",
       "        <span class=\"k\">for</span> <span class=\"n\">j</span> <span class=\"ow\">in</span> <span class=\"nb\">range</span><span class=\"p\">(</span><span class=\"n\">jj</span><span class=\"p\">):</span>\n",
       "            <span class=\"n\">c</span> <span class=\"o\">=</span> <span class=\"mf\">0</span>\n",
       "            <span class=\"k\">for</span> <span class=\"n\">k</span> <span class=\"ow\">in</span> <span class=\"nb\">range</span><span class=\"p\">(</span><span class=\"n\">kk</span><span class=\"p\">):</span>\n",
       "                <span class=\"n\">c</span> <span class=\"o\">+=</span> <span class=\"n\">A</span><span class=\"p\">[</span><span class=\"n\">i</span><span class=\"p\">,</span><span class=\"n\">k</span><span class=\"p\">]</span><span class=\"o\">*</span><span class=\"n\">B</span><span class=\"p\">[</span><span class=\"n\">k</span><span class=\"p\">,</span><span class=\"n\">j</span><span class=\"p\">]</span>\n",
       "            <span class=\"n\">C</span><span class=\"p\">[</span><span class=\"n\">i</span><span class=\"p\">,</span><span class=\"n\">j</span><span class=\"p\">]</span> <span class=\"o\">=</span> <span class=\"n\">c</span>\n",
       "    <span class=\"c\"># D = -1j*C</span>\n",
       "    <span class=\"n\">ii</span> <span class=\"o\">=</span> <span class=\"n\">C</span><span class=\"o\">.</span><span class=\"n\">shape</span><span class=\"p\">[</span><span class=\"mf\">0</span><span class=\"p\">]</span>\n",
       "    <span class=\"n\">jj</span> <span class=\"o\">=</span> <span class=\"n\">C</span><span class=\"o\">.</span><span class=\"n\">shape</span><span class=\"p\">[</span><span class=\"mf\">1</span><span class=\"p\">]</span>\n",
       "    <span class=\"k\">for</span> <span class=\"n\">i</span> <span class=\"ow\">in</span> <span class=\"nb\">range</span><span class=\"p\">(</span><span class=\"n\">ii</span><span class=\"p\">):</span>\n",
       "        <span class=\"k\">for</span> <span class=\"n\">j</span> <span class=\"ow\">in</span> <span class=\"nb\">range</span><span class=\"p\">(</span><span class=\"n\">jj</span><span class=\"p\">):</span>\n",
       "            <span class=\"n\">D</span><span class=\"p\">[</span><span class=\"n\">i</span><span class=\"p\">,</span><span class=\"n\">j</span><span class=\"p\">]</span> <span class=\"o\">=</span> <span class=\"o\">-</span><span class=\"mf\">1</span><span class=\"n\">j</span><span class=\"o\">*</span><span class=\"n\">C</span><span class=\"p\">[</span><span class=\"n\">i</span><span class=\"p\">,</span><span class=\"n\">j</span><span class=\"p\">]</span>\n",
       "\n",
       "<span class=\"c\"># Function to deliver the constants from python to cython</span>\n",
       "<span class=\"k\">cpdef</span> <span class=\"nf\">setup_generated_function</span><span class=\"p\">(</span>\n",
       "    <span class=\"n\">double</span> <span class=\"nb\">complex</span> <span class=\"p\">[:,</span> <span class=\"p\">:]</span> <span class=\"n\">_A</span>\n",
       "    <span class=\"p\">):</span>\n",
       "    <span class=\"k\">global</span> <span class=\"n\">A</span>\n",
       "    <span class=\"n\">A</span> <span class=\"o\">=</span> <span class=\"n\">_A</span>\n",
       "\n",
       "<span class=\"k\">ctypedef</span> <span class=\"n\">void</span> <span class=\"n\">rhs_t</span><span class=\"p\">(</span><span class=\"n\">double</span> <span class=\"n\">t</span><span class=\"p\">,</span> <span class=\"n\">double</span> <span class=\"o\">*</span><span class=\"n\">y</span><span class=\"p\">,</span> <span class=\"n\">double</span> <span class=\"o\">*</span><span class=\"n\">ydot</span><span class=\"p\">)</span>\n",
       "<span class=\"k\">cdef</span> <span class=\"kr\">extern</span> <span class=\"k\">from</span> <span class=\"s\">&quot;cvode_simple_interface.h&quot;</span><span class=\"p\">:</span>\n",
       "    <span class=\"k\">struct</span> <span class=\"nc\">cvsi_instance</span><span class=\"p\">:</span>\n",
       "        <span class=\"k\">pass</span>\n",
       "    <span class=\"n\">cvsi_instance</span> <span class=\"o\">*</span><span class=\"n\">cvsi_setup</span><span class=\"p\">(</span><span class=\"n\">rhs_t</span> <span class=\"o\">*</span><span class=\"n\">rhs</span><span class=\"p\">,</span>\n",
       "                              <span class=\"n\">double</span> <span class=\"o\">*</span><span class=\"n\">y0</span><span class=\"p\">,</span> <span class=\"nb\">int</span> <span class=\"n\">neq</span><span class=\"p\">,</span>\n",
       "                              <span class=\"n\">double</span> <span class=\"n\">t0</span><span class=\"p\">,</span>\n",
       "                              <span class=\"nb\">long</span> <span class=\"n\">mxsteps</span><span class=\"p\">,</span> <span class=\"n\">double</span> <span class=\"n\">reltol</span><span class=\"p\">,</span> <span class=\"n\">double</span> <span class=\"n\">abstol</span><span class=\"p\">)</span>\n",
       "    <span class=\"nb\">int</span> <span class=\"n\">cvsi_step</span><span class=\"p\">(</span><span class=\"n\">cvsi_instance</span> <span class=\"o\">*</span><span class=\"n\">instance</span><span class=\"p\">,</span> <span class=\"n\">double</span> <span class=\"n\">t</span><span class=\"p\">)</span>\n",
       "    <span class=\"n\">void</span> <span class=\"n\">cvsi_destroy</span><span class=\"p\">(</span><span class=\"n\">cvsi_instance</span> <span class=\"o\">*</span><span class=\"n\">instance</span><span class=\"p\">)</span>\n",
       "\n",
       "<span class=\"k\">cdef</span> <span class=\"kr\">inline</span> <span class=\"kt\">void</span> <span class=\"nf\">RHS</span><span class=\"p\">(</span><span class=\"n\">double</span> <span class=\"n\">t</span><span class=\"p\">,</span> <span class=\"n\">double</span> <span class=\"o\">*</span><span class=\"n\">y</span><span class=\"p\">,</span> <span class=\"n\">double</span> <span class=\"o\">*</span><span class=\"n\">ydot</span><span class=\"p\">):</span>\n",
       "    <span class=\"n\">generated_function</span><span class=\"p\">(</span><span class=\"n\">t</span><span class=\"p\">,</span>\n",
       "                       <span class=\"o\">&lt;</span><span class=\"n\">double</span> <span class=\"nb\">complex</span> <span class=\"p\">[:</span><span class=\"mf\">80</span><span class=\"p\">,</span> <span class=\"p\">:</span><span class=\"mf\">1</span><span class=\"p\">]</span><span class=\"o\">&gt;</span> <span class=\"o\">&lt;</span><span class=\"n\">double</span> <span class=\"nb\">complex</span> <span class=\"o\">*&gt;</span> <span class=\"n\">y</span><span class=\"p\">,</span>\n",
       "                       <span class=\"o\">&lt;</span><span class=\"n\">double</span> <span class=\"nb\">complex</span> <span class=\"p\">[:</span><span class=\"mf\">80</span><span class=\"p\">,</span> <span class=\"p\">:</span><span class=\"mf\">1</span><span class=\"p\">]</span><span class=\"o\">&gt;</span> <span class=\"o\">&lt;</span><span class=\"n\">double</span> <span class=\"nb\">complex</span> <span class=\"o\">*&gt;</span> <span class=\"n\">ydot</span><span class=\"p\">)</span>\n",
       "    <span class=\"c\"># TODO The casts above need to allocate new memview structs each time</span>\n",
       "    <span class=\"c\"># It is noticeable on 2x2 matrices (10%), not noticeable otherwise</span>\n",
       "\n",
       "<span class=\"k\">cpdef</span> <span class=\"kt\">list</span> <span class=\"nf\">pythonsolve</span><span class=\"p\">(</span>\n",
       "        <span class=\"n\">np</span><span class=\"o\">.</span><span class=\"n\">ndarray</span><span class=\"p\">[</span><span class=\"n\">np</span><span class=\"o\">.</span><span class=\"n\">double_t</span><span class=\"p\">,</span> <span class=\"n\">ndim</span><span class=\"o\">=</span><span class=\"mf\">1</span><span class=\"p\">]</span> <span class=\"n\">ts</span><span class=\"p\">,</span>\n",
       "        <span class=\"n\">np</span><span class=\"o\">.</span><span class=\"n\">ndarray</span><span class=\"p\">[</span><span class=\"n\">np</span><span class=\"o\">.</span><span class=\"n\">complex_t</span><span class=\"p\">,</span> <span class=\"n\">ndim</span><span class=\"o\">=</span><span class=\"mf\">2</span><span class=\"p\">]</span> <span class=\"n\">y0</span><span class=\"p\">,</span>\n",
       "        <span class=\"nb\">long</span> <span class=\"n\">mxsteps</span><span class=\"p\">,</span> <span class=\"n\">double</span> <span class=\"n\">rtol</span><span class=\"p\">,</span> <span class=\"n\">double</span> <span class=\"n\">atol</span><span class=\"p\">):</span>\n",
       "    <span class=\"k\">if</span> <span class=\"n\">ts</span><span class=\"p\">[</span><span class=\"mf\">0</span><span class=\"p\">]</span> <span class=\"o\">==</span> <span class=\"mf\">0</span><span class=\"p\">:</span>\n",
       "        <span class=\"n\">ts</span> <span class=\"o\">=</span> <span class=\"n\">ts</span><span class=\"p\">[</span><span class=\"mf\">1</span><span class=\"p\">:]</span>\n",
       "        <span class=\"n\">res</span> <span class=\"o\">=</span> <span class=\"p\">[</span><span class=\"n\">y0</span><span class=\"p\">]</span>\n",
       "    <span class=\"k\">else</span><span class=\"p\">:</span>\n",
       "        <span class=\"n\">res</span> <span class=\"o\">=</span> <span class=\"p\">[]</span>\n",
       "    <span class=\"k\">cdef</span> <span class=\"kt\">np</span>.<span class=\"kt\">ndarray</span>[<span class=\"kt\">np</span>.<span class=\"nf\">complex_t</span><span class=\"p\">,</span> <span class=\"nf\">ndim</span><span class=\"o\">=</span><span class=\"mf\">2</span><span class=\"p\">,</span> <span class=\"n\">mode</span><span class=\"o\">=</span><span class=\"s\">&quot;c&quot;</span><span class=\"p\">]</span> <span class=\"n\">_y0</span> <span class=\"o\">=</span> <span class=\"n\">np</span><span class=\"o\">.</span><span class=\"n\">copy</span><span class=\"p\">(</span><span class=\"n\">y0</span><span class=\"p\">)</span>\n",
       "    <span class=\"k\">cdef</span> <span class=\"kt\">int</span> <span class=\"nf\">neq</span> <span class=\"o\">=</span> <span class=\"n\">np</span><span class=\"o\">.</span><span class=\"n\">size</span><span class=\"p\">(</span><span class=\"n\">_y0</span><span class=\"p\">)</span><span class=\"o\">*</span><span class=\"mf\">2</span>\n",
       "    <span class=\"k\">cdef</span> <span class=\"kt\">cvsi_instance</span> *<span class=\"nf\">instance</span> <span class=\"o\">=</span> <span class=\"n\">cvsi_setup</span><span class=\"p\">(</span><span class=\"n\">RHS</span><span class=\"p\">,</span> <span class=\"o\">&lt;</span><span class=\"n\">double</span> <span class=\"o\">*&gt;</span> <span class=\"o\">&amp;</span><span class=\"n\">_y0</span><span class=\"p\">[</span><span class=\"mf\">0</span><span class=\"p\">,</span><span class=\"mf\">0</span><span class=\"p\">],</span> <span class=\"n\">neq</span><span class=\"p\">,</span>\n",
       "                                              <span class=\"mf\">0</span><span class=\"p\">,</span> <span class=\"n\">mxsteps</span><span class=\"p\">,</span> <span class=\"n\">rtol</span><span class=\"p\">,</span> <span class=\"n\">atol</span><span class=\"p\">)</span>\n",
       "    <span class=\"k\">for</span> <span class=\"n\">t</span> <span class=\"ow\">in</span> <span class=\"n\">ts</span><span class=\"p\">:</span>\n",
       "        <span class=\"n\">cvsi_step</span><span class=\"p\">(</span><span class=\"n\">instance</span><span class=\"p\">,</span> <span class=\"n\">t</span><span class=\"p\">)</span>\n",
       "        <span class=\"n\">res</span><span class=\"o\">.</span><span class=\"n\">append</span><span class=\"p\">(</span><span class=\"n\">np</span><span class=\"o\">.</span><span class=\"n\">copy</span><span class=\"p\">(</span><span class=\"n\">_y0</span><span class=\"p\">))</span>\n",
       "    <span class=\"n\">cvsi_destroy</span><span class=\"p\">(</span><span class=\"n\">instance</span><span class=\"p\">)</span>\n",
       "\n",
       "    <span class=\"k\">return</span> <span class=\"n\">res</span>\n",
       "</pre></div>\n",
       "</body>\n",
       "</html>\n"
      ],
      "text/plain": [
       "<IPython.core.display.HTML object>"
      ]
     },
     "metadata": {},
     "output_type": "display_data"
    },
    {
     "data": {
      "image/png": "[encoded data removed]",
      "text/plain": [
       "<matplotlib.figure.Figure at 0x7fb5f5971668>"
      ]
     },
     "metadata": {},
     "output_type": "display_data"
    }
   ],
   "source": [
    "n = 8\n",
    "n_p = tensor(basis(N_cutoff,n), basis(2,0))\n",
    "np1_m = tensor(basis(N_cutoff,n+1), basis(2,1))\n",
    "res = sesolve(H0 + Hp, n_p, ts)\n",
    "ovlps = overlap([n_p, np1_m], res)\n",
    "plt.plot(ts*g/np.pi, np.abs(ovlps)**2)\n",
    "plt.legend([r'$|%d,+\\rangle$'%n, r'$|%d,-\\rangle$'%(n+1)])\n",
    "plt.title(r'Population-vs-$gt/\\pi$');"
   ]
  },
  {
   "cell_type": "markdown",
   "metadata": {},
   "source": [
    "## Coherent State"
   ]
  },
  {
   "cell_type": "code",
   "execution_count": 20,
   "metadata": {
    "collapsed": false
   },
   "outputs": [
    {
     "data": {
      "text/latex": [
       "$${|{\\tiny\\alpha\\normalsize 5.00}_{\\tiny N\\normalsize 40},{0}_{\\tiny N\\normalsize 2}\\rangle}$$"
      ],
      "text/plain": [
       "TensorProd('{\\\\tiny\\\\alpha\\\\normalsize 5.00}_{\\\\tiny N\\\\normalsize 40}', '{0}_{\\\\tiny N\\\\normalsize 2}')"
      ]
     },
     "execution_count": 20,
     "metadata": {},
     "output_type": "execute_result"
    }
   ],
   "source": [
    "alpha = 5\n",
    "coh = tensor(coherent(N_cutoff, alpha), basis(2,0))\n",
    "coh"
   ]
  },
  {
   "cell_type": "code",
   "execution_count": 21,
   "metadata": {
    "collapsed": false
   },
   "outputs": [
    {
     "data": {
      "text/html": [
       "<!DOCTYPE html PUBLIC \"-//W3C//DTD HTML 4.01//EN\"\n",
       "   \"http://www.w3.org/TR/html4/strict.dtd\">\n",
       "\n",
       "<html>\n",
       "<head>\n",
       "  <title></title>\n",
       "  <meta http-equiv=\"content-type\" content=\"text/html; charset=None\">\n",
       "  <style type=\"text/css\">\n",
       "td.linenos { background-color: #f0f0f0; padding-right: 10px; }\n",
       "span.lineno { background-color: #f0f0f0; padding: 0 5px 0 5px; }\n",
       "pre { line-height: 125%; }\n",
       "body .hll { background-color: #ffffcc }\n",
       "body  { background: #f8f8f8; }\n",
       "body .c { color: #408080; font-style: italic } /* Comment */\n",
       "body .err { border: 1px solid #FF0000 } /* Error */\n",
       "body .k { color: #008000; font-weight: bold } /* Keyword */\n",
       "body .o { color: #666666 } /* Operator */\n",
       "body .cm { color: #408080; font-style: italic } /* Comment.Multiline */\n",
       "body .cp { color: #BC7A00 } /* Comment.Preproc */\n",
       "body .c1 { color: #408080; font-style: italic } /* Comment.Single */\n",
       "body .cs { color: #408080; font-style: italic } /* Comment.Special */\n",
       "body .gd { color: #A00000 } /* Generic.Deleted */\n",
       "body .ge { font-style: italic } /* Generic.Emph */\n",
       "body .gr { color: #FF0000 } /* Generic.Error */\n",
       "body .gh { color: #000080; font-weight: bold } /* Generic.Heading */\n",
       "body .gi { color: #00A000 } /* Generic.Inserted */\n",
       "body .go { color: #888888 } /* Generic.Output */\n",
       "body .gp { color: #000080; font-weight: bold } /* Generic.Prompt */\n",
       "body .gs { font-weight: bold } /* Generic.Strong */\n",
       "body .gu { color: #800080; font-weight: bold } /* Generic.Subheading */\n",
       "body .gt { color: #0044DD } /* Generic.Traceback */\n",
       "body .kc { color: #008000; font-weight: bold } /* Keyword.Constant */\n",
       "body .kd { color: #008000; font-weight: bold } /* Keyword.Declaration */\n",
       "body .kn { color: #008000; font-weight: bold } /* Keyword.Namespace */\n",
       "body .kp { color: #008000 } /* Keyword.Pseudo */\n",
       "body .kr { color: #008000; font-weight: bold } /* Keyword.Reserved */\n",
       "body .kt { color: #B00040 } /* Keyword.Type */\n",
       "body .m { color: #666666 } /* Literal.Number */\n",
       "body .s { color: #BA2121 } /* Literal.String */\n",
       "body .na { color: #7D9029 } /* Name.Attribute */\n",
       "body .nb { color: #008000 } /* Name.Builtin */\n",
       "body .nc { color: #0000FF; font-weight: bold } /* Name.Class */\n",
       "body .no { color: #880000 } /* Name.Constant */\n",
       "body .nd { color: #AA22FF } /* Name.Decorator */\n",
       "body .ni { color: #999999; font-weight: bold } /* Name.Entity */\n",
       "body .ne { color: #D2413A; font-weight: bold } /* Name.Exception */\n",
       "body .nf { color: #0000FF } /* Name.Function */\n",
       "body .nl { color: #A0A000 } /* Name.Label */\n",
       "body .nn { color: #0000FF; font-weight: bold } /* Name.Namespace */\n",
       "body .nt { color: #008000; font-weight: bold } /* Name.Tag */\n",
       "body .nv { color: #19177C } /* Name.Variable */\n",
       "body .ow { color: #AA22FF; font-weight: bold } /* Operator.Word */\n",
       "body .w { color: #bbbbbb } /* Text.Whitespace */\n",
       "body .mb { color: #666666 } /* Literal.Number.Bin */\n",
       "body .mf { color: #666666 } /* Literal.Number.Float */\n",
       "body .mh { color: #666666 } /* Literal.Number.Hex */\n",
       "body .mi { color: #666666 } /* Literal.Number.Integer */\n",
       "body .mo { color: #666666 } /* Literal.Number.Oct */\n",
       "body .sb { color: #BA2121 } /* Literal.String.Backtick */\n",
       "body .sc { color: #BA2121 } /* Literal.String.Char */\n",
       "body .sd { color: #BA2121; font-style: italic } /* Literal.String.Doc */\n",
       "body .s2 { color: #BA2121 } /* Literal.String.Double */\n",
       "body .se { color: #BB6622; font-weight: bold } /* Literal.String.Escape */\n",
       "body .sh { color: #BA2121 } /* Literal.String.Heredoc */\n",
       "body .si { color: #BB6688; font-weight: bold } /* Literal.String.Interpol */\n",
       "body .sx { color: #008000 } /* Literal.String.Other */\n",
       "body .sr { color: #BB6688 } /* Literal.String.Regex */\n",
       "body .s1 { color: #BA2121 } /* Literal.String.Single */\n",
       "body .ss { color: #19177C } /* Literal.String.Symbol */\n",
       "body .bp { color: #008000 } /* Name.Builtin.Pseudo */\n",
       "body .vc { color: #19177C } /* Name.Variable.Class */\n",
       "body .vg { color: #19177C } /* Name.Variable.Global */\n",
       "body .vi { color: #19177C } /* Name.Variable.Instance */\n",
       "body .il { color: #666666 } /* Literal.Number.Integer.Long */\n",
       "\n",
       "  </style>\n",
       "</head>\n",
       "<body>\n",
       "<h2></h2>\n",
       "\n",
       "<div class=\"highlight\"><pre><span class=\"c\">#cython: boundscheck=False, wraparound=False, initializedcheck=False, cdivision=True</span>\n",
       "<span class=\"k\">cimport</span> <span class=\"nn\">numpy</span> <span class=\"k\">as</span> <span class=\"nn\">np</span>\n",
       "<span class=\"k\">import</span> <span class=\"nn\">numpy</span> <span class=\"k\">as</span> <span class=\"nn\">np</span>\n",
       "<span class=\"k\">from</span> <span class=\"nn\">libc.math</span> <span class=\"k\">cimport</span> <span class=\"n\">sin</span><span class=\"p\">,</span> <span class=\"n\">cos</span><span class=\"p\">,</span> <span class=\"n\">exp</span><span class=\"p\">,</span> <span class=\"n\">sinh</span><span class=\"p\">,</span> <span class=\"n\">cosh</span><span class=\"p\">,</span> <span class=\"n\">tan</span><span class=\"p\">,</span> <span class=\"n\">tanh</span><span class=\"p\">,</span> <span class=\"n\">log</span>\n",
       "\n",
       "<span class=\"c\"># Declaration of global variables for</span>\n",
       "<span class=\"c\"># - intermediate results</span>\n",
       "<span class=\"c\"># - predefined constants</span>\n",
       "<span class=\"k\">cdef</span> <span class=\"kt\">double</span> <span class=\"kt\">complex</span> [<span class=\"p\">:,</span> <span class=\"p\">:]</span> <span class=\"n\">C</span> <span class=\"o\">=</span> <span class=\"n\">np</span><span class=\"o\">.</span><span class=\"n\">zeros</span><span class=\"p\">((</span><span class=\"mf\">80</span><span class=\"p\">,</span> <span class=\"mf\">1</span><span class=\"p\">),</span> <span class=\"n\">dtype</span><span class=\"o\">=</span><span class=\"n\">np</span><span class=\"o\">.</span><span class=\"n\">complex</span><span class=\"p\">)</span>\n",
       "<span class=\"k\">cdef</span> <span class=\"kt\">double</span> <span class=\"kt\">complex</span> [<span class=\"p\">:,</span> <span class=\"p\">:]</span> <span class=\"n\">A</span> <span class=\"o\">=</span> <span class=\"n\">np</span><span class=\"o\">.</span><span class=\"n\">zeros</span><span class=\"p\">((</span><span class=\"mf\">80</span><span class=\"p\">,</span> <span class=\"mf\">80</span><span class=\"p\">),</span> <span class=\"n\">dtype</span><span class=\"o\">=</span><span class=\"n\">np</span><span class=\"o\">.</span><span class=\"n\">complex</span><span class=\"p\">)</span>\n",
       "\n",
       "<span class=\"c\"># The generated cython code</span>\n",
       "<span class=\"k\">cdef</span> <span class=\"nf\">generated_function</span><span class=\"p\">(</span>\n",
       "    <span class=\"c\"># input arguments</span>\n",
       "    <span class=\"n\">double</span> <span class=\"n\">E</span><span class=\"p\">,</span>\n",
       "    <span class=\"n\">double</span> <span class=\"nb\">complex</span> <span class=\"p\">[:,</span> <span class=\"p\">:]</span> <span class=\"n\">B</span><span class=\"p\">,</span>\n",
       "    <span class=\"c\"># output argument</span>\n",
       "    <span class=\"n\">double</span> <span class=\"nb\">complex</span> <span class=\"p\">[:,</span> <span class=\"p\">:]</span> <span class=\"n\">D</span>\n",
       "    <span class=\"p\">):</span>\n",
       "    <span class=\"c\"># indices and intermediate values for various matrix operations</span>\n",
       "    <span class=\"k\">cdef</span> <span class=\"kt\">int</span> <span class=\"nf\">i</span><span class=\"p\">,</span> <span class=\"nf\">j</span><span class=\"p\">,</span> <span class=\"nf\">k</span><span class=\"p\">,</span> <span class=\"nf\">ii</span><span class=\"p\">,</span> <span class=\"nf\">jj</span><span class=\"p\">,</span> <span class=\"nf\">kk</span>\n",
       "    <span class=\"k\">cdef</span> <span class=\"kt\">double</span> <span class=\"kt\">complex</span> <span class=\"nf\">c</span>\n",
       "    <span class=\"c\"># intermediate results</span>\n",
       "    <span class=\"k\">global</span> <span class=\"n\">C</span><span class=\"p\">,</span> <span class=\"n\">D</span>\n",
       "    <span class=\"c\"># predefined constants</span>\n",
       "    <span class=\"k\">global</span> <span class=\"n\">A</span>\n",
       "    <span class=\"c\"># evaluating the function</span>\n",
       "    <span class=\"c\"># C = A.B</span>\n",
       "    <span class=\"n\">ii</span> <span class=\"o\">=</span> <span class=\"n\">A</span><span class=\"o\">.</span><span class=\"n\">shape</span><span class=\"p\">[</span><span class=\"mf\">0</span><span class=\"p\">]</span>\n",
       "    <span class=\"n\">jj</span> <span class=\"o\">=</span> <span class=\"n\">B</span><span class=\"o\">.</span><span class=\"n\">shape</span><span class=\"p\">[</span><span class=\"mf\">1</span><span class=\"p\">]</span>\n",
       "    <span class=\"n\">kk</span> <span class=\"o\">=</span> <span class=\"n\">B</span><span class=\"o\">.</span><span class=\"n\">shape</span><span class=\"p\">[</span><span class=\"mf\">0</span><span class=\"p\">]</span>\n",
       "    <span class=\"k\">for</span> <span class=\"n\">i</span> <span class=\"ow\">in</span> <span class=\"nb\">range</span><span class=\"p\">(</span><span class=\"n\">ii</span><span class=\"p\">):</span>\n",
       "        <span class=\"k\">for</span> <span class=\"n\">j</span> <span class=\"ow\">in</span> <span class=\"nb\">range</span><span class=\"p\">(</span><span class=\"n\">jj</span><span class=\"p\">):</span>\n",
       "            <span class=\"n\">c</span> <span class=\"o\">=</span> <span class=\"mf\">0</span>\n",
       "            <span class=\"k\">for</span> <span class=\"n\">k</span> <span class=\"ow\">in</span> <span class=\"nb\">range</span><span class=\"p\">(</span><span class=\"n\">kk</span><span class=\"p\">):</span>\n",
       "                <span class=\"n\">c</span> <span class=\"o\">+=</span> <span class=\"n\">A</span><span class=\"p\">[</span><span class=\"n\">i</span><span class=\"p\">,</span><span class=\"n\">k</span><span class=\"p\">]</span><span class=\"o\">*</span><span class=\"n\">B</span><span class=\"p\">[</span><span class=\"n\">k</span><span class=\"p\">,</span><span class=\"n\">j</span><span class=\"p\">]</span>\n",
       "            <span class=\"n\">C</span><span class=\"p\">[</span><span class=\"n\">i</span><span class=\"p\">,</span><span class=\"n\">j</span><span class=\"p\">]</span> <span class=\"o\">=</span> <span class=\"n\">c</span>\n",
       "    <span class=\"c\"># D = -1j*C</span>\n",
       "    <span class=\"n\">ii</span> <span class=\"o\">=</span> <span class=\"n\">C</span><span class=\"o\">.</span><span class=\"n\">shape</span><span class=\"p\">[</span><span class=\"mf\">0</span><span class=\"p\">]</span>\n",
       "    <span class=\"n\">jj</span> <span class=\"o\">=</span> <span class=\"n\">C</span><span class=\"o\">.</span><span class=\"n\">shape</span><span class=\"p\">[</span><span class=\"mf\">1</span><span class=\"p\">]</span>\n",
       "    <span class=\"k\">for</span> <span class=\"n\">i</span> <span class=\"ow\">in</span> <span class=\"nb\">range</span><span class=\"p\">(</span><span class=\"n\">ii</span><span class=\"p\">):</span>\n",
       "        <span class=\"k\">for</span> <span class=\"n\">j</span> <span class=\"ow\">in</span> <span class=\"nb\">range</span><span class=\"p\">(</span><span class=\"n\">jj</span><span class=\"p\">):</span>\n",
       "            <span class=\"n\">D</span><span class=\"p\">[</span><span class=\"n\">i</span><span class=\"p\">,</span><span class=\"n\">j</span><span class=\"p\">]</span> <span class=\"o\">=</span> <span class=\"o\">-</span><span class=\"mf\">1</span><span class=\"n\">j</span><span class=\"o\">*</span><span class=\"n\">C</span><span class=\"p\">[</span><span class=\"n\">i</span><span class=\"p\">,</span><span class=\"n\">j</span><span class=\"p\">]</span>\n",
       "\n",
       "<span class=\"c\"># Function to deliver the constants from python to cython</span>\n",
       "<span class=\"k\">cpdef</span> <span class=\"nf\">setup_generated_function</span><span class=\"p\">(</span>\n",
       "    <span class=\"n\">double</span> <span class=\"nb\">complex</span> <span class=\"p\">[:,</span> <span class=\"p\">:]</span> <span class=\"n\">_A</span>\n",
       "    <span class=\"p\">):</span>\n",
       "    <span class=\"k\">global</span> <span class=\"n\">A</span>\n",
       "    <span class=\"n\">A</span> <span class=\"o\">=</span> <span class=\"n\">_A</span>\n",
       "\n",
       "<span class=\"k\">ctypedef</span> <span class=\"n\">void</span> <span class=\"n\">rhs_t</span><span class=\"p\">(</span><span class=\"n\">double</span> <span class=\"n\">t</span><span class=\"p\">,</span> <span class=\"n\">double</span> <span class=\"o\">*</span><span class=\"n\">y</span><span class=\"p\">,</span> <span class=\"n\">double</span> <span class=\"o\">*</span><span class=\"n\">ydot</span><span class=\"p\">)</span>\n",
       "<span class=\"k\">cdef</span> <span class=\"kr\">extern</span> <span class=\"k\">from</span> <span class=\"s\">&quot;cvode_simple_interface.h&quot;</span><span class=\"p\">:</span>\n",
       "    <span class=\"k\">struct</span> <span class=\"nc\">cvsi_instance</span><span class=\"p\">:</span>\n",
       "        <span class=\"k\">pass</span>\n",
       "    <span class=\"n\">cvsi_instance</span> <span class=\"o\">*</span><span class=\"n\">cvsi_setup</span><span class=\"p\">(</span><span class=\"n\">rhs_t</span> <span class=\"o\">*</span><span class=\"n\">rhs</span><span class=\"p\">,</span>\n",
       "                              <span class=\"n\">double</span> <span class=\"o\">*</span><span class=\"n\">y0</span><span class=\"p\">,</span> <span class=\"nb\">int</span> <span class=\"n\">neq</span><span class=\"p\">,</span>\n",
       "                              <span class=\"n\">double</span> <span class=\"n\">t0</span><span class=\"p\">,</span>\n",
       "                              <span class=\"nb\">long</span> <span class=\"n\">mxsteps</span><span class=\"p\">,</span> <span class=\"n\">double</span> <span class=\"n\">reltol</span><span class=\"p\">,</span> <span class=\"n\">double</span> <span class=\"n\">abstol</span><span class=\"p\">)</span>\n",
       "    <span class=\"nb\">int</span> <span class=\"n\">cvsi_step</span><span class=\"p\">(</span><span class=\"n\">cvsi_instance</span> <span class=\"o\">*</span><span class=\"n\">instance</span><span class=\"p\">,</span> <span class=\"n\">double</span> <span class=\"n\">t</span><span class=\"p\">)</span>\n",
       "    <span class=\"n\">void</span> <span class=\"n\">cvsi_destroy</span><span class=\"p\">(</span><span class=\"n\">cvsi_instance</span> <span class=\"o\">*</span><span class=\"n\">instance</span><span class=\"p\">)</span>\n",
       "\n",
       "<span class=\"k\">cdef</span> <span class=\"kr\">inline</span> <span class=\"kt\">void</span> <span class=\"nf\">RHS</span><span class=\"p\">(</span><span class=\"n\">double</span> <span class=\"n\">t</span><span class=\"p\">,</span> <span class=\"n\">double</span> <span class=\"o\">*</span><span class=\"n\">y</span><span class=\"p\">,</span> <span class=\"n\">double</span> <span class=\"o\">*</span><span class=\"n\">ydot</span><span class=\"p\">):</span>\n",
       "    <span class=\"n\">generated_function</span><span class=\"p\">(</span><span class=\"n\">t</span><span class=\"p\">,</span>\n",
       "                       <span class=\"o\">&lt;</span><span class=\"n\">double</span> <span class=\"nb\">complex</span> <span class=\"p\">[:</span><span class=\"mf\">80</span><span class=\"p\">,</span> <span class=\"p\">:</span><span class=\"mf\">1</span><span class=\"p\">]</span><span class=\"o\">&gt;</span> <span class=\"o\">&lt;</span><span class=\"n\">double</span> <span class=\"nb\">complex</span> <span class=\"o\">*&gt;</span> <span class=\"n\">y</span><span class=\"p\">,</span>\n",
       "                       <span class=\"o\">&lt;</span><span class=\"n\">double</span> <span class=\"nb\">complex</span> <span class=\"p\">[:</span><span class=\"mf\">80</span><span class=\"p\">,</span> <span class=\"p\">:</span><span class=\"mf\">1</span><span class=\"p\">]</span><span class=\"o\">&gt;</span> <span class=\"o\">&lt;</span><span class=\"n\">double</span> <span class=\"nb\">complex</span> <span class=\"o\">*&gt;</span> <span class=\"n\">ydot</span><span class=\"p\">)</span>\n",
       "    <span class=\"c\"># TODO The casts above need to allocate new memview structs each time</span>\n",
       "    <span class=\"c\"># It is noticeable on 2x2 matrices (10%), not noticeable otherwise</span>\n",
       "\n",
       "<span class=\"k\">cpdef</span> <span class=\"kt\">list</span> <span class=\"nf\">pythonsolve</span><span class=\"p\">(</span>\n",
       "        <span class=\"n\">np</span><span class=\"o\">.</span><span class=\"n\">ndarray</span><span class=\"p\">[</span><span class=\"n\">np</span><span class=\"o\">.</span><span class=\"n\">double_t</span><span class=\"p\">,</span> <span class=\"n\">ndim</span><span class=\"o\">=</span><span class=\"mf\">1</span><span class=\"p\">]</span> <span class=\"n\">ts</span><span class=\"p\">,</span>\n",
       "        <span class=\"n\">np</span><span class=\"o\">.</span><span class=\"n\">ndarray</span><span class=\"p\">[</span><span class=\"n\">np</span><span class=\"o\">.</span><span class=\"n\">complex_t</span><span class=\"p\">,</span> <span class=\"n\">ndim</span><span class=\"o\">=</span><span class=\"mf\">2</span><span class=\"p\">]</span> <span class=\"n\">y0</span><span class=\"p\">,</span>\n",
       "        <span class=\"nb\">long</span> <span class=\"n\">mxsteps</span><span class=\"p\">,</span> <span class=\"n\">double</span> <span class=\"n\">rtol</span><span class=\"p\">,</span> <span class=\"n\">double</span> <span class=\"n\">atol</span><span class=\"p\">):</span>\n",
       "    <span class=\"k\">if</span> <span class=\"n\">ts</span><span class=\"p\">[</span><span class=\"mf\">0</span><span class=\"p\">]</span> <span class=\"o\">==</span> <span class=\"mf\">0</span><span class=\"p\">:</span>\n",
       "        <span class=\"n\">ts</span> <span class=\"o\">=</span> <span class=\"n\">ts</span><span class=\"p\">[</span><span class=\"mf\">1</span><span class=\"p\">:]</span>\n",
       "        <span class=\"n\">res</span> <span class=\"o\">=</span> <span class=\"p\">[</span><span class=\"n\">y0</span><span class=\"p\">]</span>\n",
       "    <span class=\"k\">else</span><span class=\"p\">:</span>\n",
       "        <span class=\"n\">res</span> <span class=\"o\">=</span> <span class=\"p\">[]</span>\n",
       "    <span class=\"k\">cdef</span> <span class=\"kt\">np</span>.<span class=\"kt\">ndarray</span>[<span class=\"kt\">np</span>.<span class=\"nf\">complex_t</span><span class=\"p\">,</span> <span class=\"nf\">ndim</span><span class=\"o\">=</span><span class=\"mf\">2</span><span class=\"p\">,</span> <span class=\"n\">mode</span><span class=\"o\">=</span><span class=\"s\">&quot;c&quot;</span><span class=\"p\">]</span> <span class=\"n\">_y0</span> <span class=\"o\">=</span> <span class=\"n\">np</span><span class=\"o\">.</span><span class=\"n\">copy</span><span class=\"p\">(</span><span class=\"n\">y0</span><span class=\"p\">)</span>\n",
       "    <span class=\"k\">cdef</span> <span class=\"kt\">int</span> <span class=\"nf\">neq</span> <span class=\"o\">=</span> <span class=\"n\">np</span><span class=\"o\">.</span><span class=\"n\">size</span><span class=\"p\">(</span><span class=\"n\">_y0</span><span class=\"p\">)</span><span class=\"o\">*</span><span class=\"mf\">2</span>\n",
       "    <span class=\"k\">cdef</span> <span class=\"kt\">cvsi_instance</span> *<span class=\"nf\">instance</span> <span class=\"o\">=</span> <span class=\"n\">cvsi_setup</span><span class=\"p\">(</span><span class=\"n\">RHS</span><span class=\"p\">,</span> <span class=\"o\">&lt;</span><span class=\"n\">double</span> <span class=\"o\">*&gt;</span> <span class=\"o\">&amp;</span><span class=\"n\">_y0</span><span class=\"p\">[</span><span class=\"mf\">0</span><span class=\"p\">,</span><span class=\"mf\">0</span><span class=\"p\">],</span> <span class=\"n\">neq</span><span class=\"p\">,</span>\n",
       "                                              <span class=\"mf\">0</span><span class=\"p\">,</span> <span class=\"n\">mxsteps</span><span class=\"p\">,</span> <span class=\"n\">rtol</span><span class=\"p\">,</span> <span class=\"n\">atol</span><span class=\"p\">)</span>\n",
       "    <span class=\"k\">for</span> <span class=\"n\">t</span> <span class=\"ow\">in</span> <span class=\"n\">ts</span><span class=\"p\">:</span>\n",
       "        <span class=\"n\">cvsi_step</span><span class=\"p\">(</span><span class=\"n\">instance</span><span class=\"p\">,</span> <span class=\"n\">t</span><span class=\"p\">)</span>\n",
       "        <span class=\"n\">res</span><span class=\"o\">.</span><span class=\"n\">append</span><span class=\"p\">(</span><span class=\"n\">np</span><span class=\"o\">.</span><span class=\"n\">copy</span><span class=\"p\">(</span><span class=\"n\">_y0</span><span class=\"p\">))</span>\n",
       "    <span class=\"n\">cvsi_destroy</span><span class=\"p\">(</span><span class=\"n\">instance</span><span class=\"p\">)</span>\n",
       "\n",
       "    <span class=\"k\">return</span> <span class=\"n\">res</span>\n",
       "</pre></div>\n",
       "</body>\n",
       "</html>\n"
      ],
      "text/plain": [
       "<IPython.core.display.HTML object>"
      ]
     },
     "metadata": {},
     "output_type": "display_data"
    }
   ],
   "source": [
    "ts = 80/g*np.linspace(0,1,4000)\n",
    "res = sesolve(H0 + Hp, coh, ts)\n",
    "inversion = expect(tensor(identity(N_cutoff), sigmaz()), res)"
   ]
  },
  {
   "cell_type": "code",
   "execution_count": 22,
   "metadata": {
    "collapsed": false
   },
   "outputs": [
    {
     "data": {
      "image/png": "[encoded data removed]",
      "text/plain": [
       "<matplotlib.figure.Figure at 0x7fb5f59c5908>"
      ]
     },
     "metadata": {},
     "output_type": "display_data"
    }
   ],
   "source": [
    "plt.plot(ts*g, inversion)\n",
    "plt.title(r'$\\langle \\hat{\\sigma}_z \\rangle$-vs-$gt$');"
   ]
  }
 ],
 "metadata": {
  "kernelspec": {
   "display_name": "Python 3",
   "language": "python",
   "name": "python3"
  },
  "language_info": {
   "codemirror_mode": {
    "name": "ipython",
    "version": 3
   },
   "file_extension": ".py",
   "mimetype": "text/x-python",
   "name": "python",
   "nbconvert_exporter": "python",
   "pygments_lexer": "ipython3",
   "version": "3.4.2"
  }
 },
 "nbformat": 4,
 "nbformat_minor": 0
}
