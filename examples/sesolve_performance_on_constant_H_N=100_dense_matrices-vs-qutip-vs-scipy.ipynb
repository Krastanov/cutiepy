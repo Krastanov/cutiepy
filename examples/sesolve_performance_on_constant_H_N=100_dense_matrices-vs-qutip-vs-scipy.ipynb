{
 "cells": [
  {
   "cell_type": "code",
   "execution_count": 1,
   "metadata": {
    "collapsed": false
   },
   "outputs": [],
   "source": [
    "import cutiepy\n",
    "import qutip\n",
    "import numpy as np\n",
    "import scipy\n",
    "N = 100\n",
    "ts = np.linspace(0,1000,100)"
   ]
  },
  {
   "cell_type": "markdown",
   "metadata": {},
   "source": [
    "#qutip"
   ]
  },
  {
   "cell_type": "code",
   "execution_count": 2,
   "metadata": {
    "collapsed": false
   },
   "outputs": [
    {
     "name": "stdout",
     "output_type": "stream",
     "text": [
      "CPU times: user 2.04 s, sys: 240 ms, total: 2.28 s\n",
      "Wall time: 2 s\n",
      "CPU times: user 1.96 s, sys: 4 ms, total: 1.97 s\n",
      "Wall time: 1.96 s\n",
      "[[ 0.13538037+0.j        ]\n",
      " [ 0.15226989-0.22388607j]\n",
      " [-0.14070393-0.35612185j]\n",
      " [-0.43138871-0.09691328j]] 1.0\n"
     ]
    }
   ],
   "source": [
    "init = qutip.coherent(N,2)\n",
    "H = qutip.num(N)\n",
    "opt = qutip.Options(rhs_reuse=True)\n",
    "%time res = qutip.sesolve(H,init,ts,[], options=opt)\n",
    "%time res = qutip.sesolve(H,init,ts,[], options=opt)\n",
    "print(res.states[-1].data.A[:4], res.states[-1].norm())"
   ]
  },
  {
   "cell_type": "markdown",
   "metadata": {},
   "source": [
    "#cutiepy"
   ]
  },
  {
   "cell_type": "code",
   "execution_count": 3,
   "metadata": {
    "collapsed": false
   },
   "outputs": [
    {
     "name": "stdout",
     "output_type": "stream",
     "text": [
      "CPU times: user 5.44 s, sys: 40 ms, total: 5.48 s\n",
      "Wall time: 9.32 s\n",
      "CPU times: user 4.05 s, sys: 12 ms, total: 4.06 s\n",
      "Wall time: 4.06 s\n",
      "[[ 0.13533528+0.j        ]\n",
      " [ 0.20064000+0.18167593j]\n",
      " [ 0.03788156+0.38090694j]\n",
      " [-0.26279469+0.35539523j]] 0.999999596058\n"
     ]
    }
   ],
   "source": [
    "init = cutiepy.coherent(N,2)\n",
    "H = cutiepy.num(N)\n",
    "%time res = cutiepy.sesolve(H, init, np.linspace(0,1000,100))\n",
    "%time res = cutiepy.sesolve(H, init, np.linspace(0,1000,100))\n",
    "print(res[-1].numerical[:4], np.linalg.norm(res[-1].numerical))"
   ]
  },
  {
   "cell_type": "markdown",
   "metadata": {},
   "source": [
    "#scipy (dense)"
   ]
  },
  {
   "cell_type": "code",
   "execution_count": 4,
   "metadata": {
    "collapsed": false
   },
   "outputs": [
    {
     "name": "stdout",
     "output_type": "stream",
     "text": [
      "[[ 0.13533528+0.j        ]\n",
      " [ 0.07067765-0.26127943j]\n",
      " [-0.33058338-0.19296997j]\n",
      " [-0.31476474+0.31029364j]] 0.999782165209\n",
      "CPU times: user 3.56 s, sys: 3.88 s, total: 7.45 s\n",
      "Wall time: 1.95 s\n"
     ]
    },
    {
     "name": "stderr",
     "output_type": "stream",
     "text": [
      "/home/stefan/python_lab/lib/python3.4/site-packages/scipy/integrate/_ode.py:853: UserWarning: zvode: Excess work done on this call. (Perhaps wrong MF.)\n",
      "  'Unexpected istate=%s' % istate))\n"
     ]
    }
   ],
   "source": [
    "%%time\n",
    "H = qutip.num(N).data.A\n",
    "op = -1j*H\n",
    "f = lambda t, state: op.dot(state)\n",
    "ode = scipy.integrate.ode(f)                                             \n",
    "ode.set_integrator('zvode', method='adams', rtol=1e-6, atol=1e-8, )                                      \n",
    "state0_num = qutip.coherent(N,2).data.A\n",
    "ode.set_initial_value(state0_num, ts[0])                                     \n",
    "res = [state0_num]                                                              \n",
    "for t in ts[1:]:                                                             \n",
    "    ode.integrate(t)                                                            \n",
    "    if not ode.successful():                                                    \n",
    "        RuntimeError('The ODE solver failed.') \n",
    "    #y = ode.y                    \n",
    "    #n = scipy.linalg.norm(y)     \n",
    "    #y /= n                       \n",
    "    #ode.set_initial_value(y, t)  \n",
    "    res.append(ode.y)                                                           \n",
    "print(res[-1][:4], np.linalg.norm(res[-1]))"
   ]
  }
 ],
 "metadata": {
  "kernelspec": {
   "display_name": "Python 3",
   "language": "python",
   "name": "python3"
  },
  "language_info": {
   "codemirror_mode": {
    "name": "ipython",
    "version": 3
   },
   "file_extension": ".py",
   "mimetype": "text/x-python",
   "name": "python",
   "nbconvert_exporter": "python",
   "pygments_lexer": "ipython3",
   "version": "3.4.2"
  }
 },
 "nbformat": 4,
 "nbformat_minor": 0
}
