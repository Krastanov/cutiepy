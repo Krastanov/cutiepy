{
 "cells": [
  {
   "cell_type": "code",
   "execution_count": 1,
   "metadata": {
    "collapsed": false
   },
   "outputs": [],
   "source": [
    "from cutiepy import *"
   ]
  },
  {
   "cell_type": "markdown",
   "metadata": {},
   "source": [
    "# Symbolic expressions without numerical data behind them"
   ]
  },
  {
   "cell_type": "code",
   "execution_count": 2,
   "metadata": {
    "collapsed": false
   },
   "outputs": [],
   "source": [
    "x,y,z = xyz()\n",
    "k = Ket('k', 10)\n",
    "b = Bra('b', 10)\n",
    "O = Operator('O', 10)\n",
    "S = Superoperator('S', 10)\n",
    "t = Scalar('t')"
   ]
  },
  {
   "cell_type": "code",
   "execution_count": 3,
   "metadata": {
    "collapsed": false
   },
   "outputs": [
    {
     "data": {
      "text/latex": [
       "$${{\\langle {b}_{} |}{\\mathcal{{S}_{}}}{\\hat{O}_{}}{| {k}_{} \\rangle}}$$"
      ],
      "text/plain": [
       "Dot('b', 'S', 'O', 'k')"
      ]
     },
     "execution_count": 3,
     "metadata": {},
     "output_type": "execute_result"
    }
   ],
   "source": [
    "b*S*O*k"
   ]
  },
  {
   "cell_type": "code",
   "execution_count": 4,
   "metadata": {
    "collapsed": false
   },
   "outputs": [
    {
     "data": {
      "text/latex": [
       "$${{{\\langle {b}_{} |}{\\mathcal{{S}_{}}}{\\hat{O}_{}}{| {k}_{} \\rangle}}\\tiny\\times\\normalsize{{ \\left( {t} \\right) }^{{2}}}}$$"
      ],
      "text/plain": [
       "Mul(Dot('b', 'S', 'O', 'k'), Pow('t', 2))"
      ]
     },
     "execution_count": 4,
     "metadata": {},
     "output_type": "execute_result"
    }
   ],
   "source": [
    "b*S*O*t**2*k"
   ]
  },
  {
   "cell_type": "code",
   "execution_count": 5,
   "metadata": {
    "collapsed": false
   },
   "outputs": [
    {
     "data": {
      "text/latex": [
       "$$\\text{Bra }{\\langle {b}_{} |} \\text{ on the space }\\mathbb{C}^{10}\\text{ without an attached numerical content.}$$"
      ],
      "text/plain": [
       "'b'"
      ]
     },
     "execution_count": 5,
     "metadata": {},
     "output_type": "execute_result"
    }
   ],
   "source": [
    "b"
   ]
  },
  {
   "cell_type": "markdown",
   "metadata": {},
   "source": [
    "# Expressions containing numerical data"
   ]
  },
  {
   "cell_type": "code",
   "execution_count": 6,
   "metadata": {
    "collapsed": false
   },
   "outputs": [
    {
     "data": {
      "text/latex": [
       "$$\\text{Ket }{| {{\\tiny\\alpha\\normalsize 1.50}}_{{\\tiny N\\normalsize 11}} \\rangle} \\text{ on the space }\\mathbb{C}^{11}\\text{ with numerical content: }$$\n",
       "$$\\begin{equation*}\\left(\\begin{array}{*{11}c}0.325\\\\0.487\\\\0.517\\\\0.447\\\\0.335\\\\\\vdots\\\\0.138\\\\0.078\\\\0.041\\\\0.021\\\\0.010\\\\\\end{array}\\right)\\end{equation*}$$"
      ],
      "text/plain": [
       "'{\\\\tiny\\\\alpha\\\\normalsize 1.50}_{\\\\tiny N\\\\normalsize 11}'"
      ]
     },
     "execution_count": 6,
     "metadata": {},
     "output_type": "execute_result"
    }
   ],
   "source": [
    "k1 = coherent(11, 1.5)\n",
    "k1"
   ]
  },
  {
   "cell_type": "code",
   "execution_count": 7,
   "metadata": {
    "collapsed": false
   },
   "outputs": [
    {
     "data": {
      "text/latex": [
       "$$\\text{Ket }{| {{3}}_{{\\tiny N\\normalsize 5}} \\rangle} \\text{ on the space }\\mathbb{C}^{5}\\text{ with numerical content: }$$\n",
       "$$\\begin{equation*}\\left(\\begin{array}{*{11}c}0.0\\\\0.0\\\\0.0\\\\1.0\\\\0.0\\\\\\end{array}\\right)\\end{equation*}$$"
      ],
      "text/plain": [
       "'{3}_{\\\\tiny N\\\\normalsize 5}'"
      ]
     },
     "execution_count": 7,
     "metadata": {},
     "output_type": "execute_result"
    }
   ],
   "source": [
    "k2 = basis(5,3)\n",
    "k2"
   ]
  },
  {
   "cell_type": "code",
   "execution_count": 8,
   "metadata": {
    "collapsed": false
   },
   "outputs": [
    {
     "data": {
      "text/latex": [
       "$$\\text{Anonymous }\\text{Ket }{| {\\tiny\\boxed{{K}_{c8371c8e...}}\\normalsize}_{} \\rangle} \\text{ on the space }\\mathbb{C}^{5}\\text{ with numerical content: }$$\n",
       "$$\\begin{equation*}\\left(\\begin{array}{*{11}c}0.0\\\\0.0\\\\0.0\\\\2.0\\\\0.0\\\\\\end{array}\\right)\\end{equation*}$$"
      ],
      "text/plain": [
       "'c8371c8e-8e59-4c9b-9392-1822f83e3c3c'"
      ]
     },
     "execution_count": 8,
     "metadata": {},
     "output_type": "execute_result"
    }
   ],
   "source": [
    "evalf(k2*2)"
   ]
  },
  {
   "cell_type": "markdown",
   "metadata": {},
   "source": [
    "# Substitutions"
   ]
  },
  {
   "cell_type": "code",
   "execution_count": 9,
   "metadata": {
    "collapsed": false
   },
   "outputs": [
    {
     "data": {
      "text/latex": [
       "$${{\\langle {b}_{} |}{\\mathcal{{S}_{}}}{\\hat{O}_{}}{| {k}_{} \\rangle}}$$"
      ],
      "text/plain": [
       "Dot('b', 'S', 'O', 'k')"
      ]
     },
     "execution_count": 9,
     "metadata": {},
     "output_type": "execute_result"
    }
   ],
   "source": [
    "expr = b*S*O*k\n",
    "expr"
   ]
  },
  {
   "cell_type": "code",
   "execution_count": 10,
   "metadata": {
    "collapsed": false
   },
   "outputs": [
    {
     "data": {
      "text/latex": [
       "$${{\\langle {another\\ one}_{} |}{\\mathcal{{S}_{}}}{\\hat{O}_{}}{| {k}_{} \\rangle}}$$"
      ],
      "text/plain": [
       "Dot('another\\\\ one', 'S', 'O', 'k')"
      ]
     },
     "execution_count": 10,
     "metadata": {},
     "output_type": "execute_result"
    }
   ],
   "source": [
    "bb = Bra(r'another\\ one', 10)\n",
    "subs(expr, b, bb)"
   ]
  }
 ],
 "metadata": {
  "kernelspec": {
   "display_name": "Python 3",
   "language": "python",
   "name": "python3"
  },
  "language_info": {
   "codemirror_mode": {
    "name": "ipython",
    "version": 3
   },
   "file_extension": ".py",
   "mimetype": "text/x-python",
   "name": "python",
   "nbconvert_exporter": "python",
   "pygments_lexer": "ipython3",
   "version": "3.4.2"
  }
 },
 "nbformat": 4,
 "nbformat_minor": 0
}
