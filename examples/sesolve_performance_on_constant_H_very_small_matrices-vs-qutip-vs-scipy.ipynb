{
 "cells": [
  {
   "cell_type": "code",
   "execution_count": 1,
   "metadata": {
    "collapsed": false
   },
   "outputs": [],
   "source": [
    "import cutiepy\n",
    "import qutip\n",
    "import numpy as np\n",
    "import scipy\n",
    "ts = np.linspace(0,10000*np.pi,10000)"
   ]
  },
  {
   "cell_type": "markdown",
   "metadata": {},
   "source": [
    "#qutip"
   ]
  },
  {
   "cell_type": "code",
   "execution_count": 2,
   "metadata": {
    "collapsed": false
   },
   "outputs": [
    {
     "name": "stdout",
     "output_type": "stream",
     "text": [
      "CPU times: user 8.77 s, sys: 28 ms, total: 8.8 s\n",
      "Wall time: 8.78 s\n",
      "CPU times: user 8.72 s, sys: 16 ms, total: 8.74 s\n",
      "Wall time: 8.73 s\n",
      "[[ 0.99986301+0.j        ]\n",
      " [ 0.00000000-0.01655151j]] 1.0\n"
     ]
    }
   ],
   "source": [
    "init = qutip.basis(2,0)\n",
    "H = qutip.sigmax()\n",
    "opt = qutip.Options(rhs_reuse=True)\n",
    "%time res = qutip.sesolve(H,init,ts,[], options=opt)\n",
    "%time res = qutip.sesolve(H,init,ts,[], options=opt)\n",
    "print(res.states[-1].data.A, res.states[-1].norm())"
   ]
  },
  {
   "cell_type": "markdown",
   "metadata": {},
   "source": [
    "#cutiepy"
   ]
  },
  {
   "cell_type": "code",
   "execution_count": 3,
   "metadata": {
    "collapsed": false
   },
   "outputs": [
    {
     "name": "stdout",
     "output_type": "stream",
     "text": [
      "CPU times: user 2.86 s, sys: 100 ms, total: 2.96 s\n",
      "Wall time: 6.82 s\n",
      "CPU times: user 1.47 s, sys: 44 ms, total: 1.51 s\n",
      "Wall time: 1.51 s\n",
      "[[ 0.99411803+0.j        ]\n",
      " [ 0.00000000-0.02062065j]] 0.99433186891\n"
     ]
    }
   ],
   "source": [
    "H = cutiepy.sigmax()\n",
    "init = cutiepy.basis(2,0)\n",
    "%time res = cutiepy.sesolve(H, init, ts)\n",
    "%time res = cutiepy.sesolve(H, init, ts)\n",
    "print(res[-1].numerical, np.linalg.norm(res[-1].numerical))"
   ]
  },
  {
   "cell_type": "markdown",
   "metadata": {},
   "source": [
    "#scipy (dense)"
   ]
  },
  {
   "cell_type": "code",
   "execution_count": 4,
   "metadata": {
    "collapsed": false
   },
   "outputs": [
    {
     "name": "stdout",
     "output_type": "stream",
     "text": [
      "[ 0.99158045+0.j          0.00000000-0.01967444j] 0.991775620659\n",
      "CPU times: user 1.28 s, sys: 8 ms, total: 1.28 s\n",
      "Wall time: 1.27 s\n"
     ]
    }
   ],
   "source": [
    "%%time\n",
    "H = np.array([[0,1],[1,0]],dtype='complex128')\n",
    "op = -1j*H\n",
    "f = lambda t, state: op.dot(state)\n",
    "ode = scipy.integrate.ode(f)                                             \n",
    "ode.set_integrator('zvode', method='adams', rtol=1e-6, atol=1e-8, nsteps=2000)     \n",
    "state0_num = np.array([1,0],dtype='complex128')                                             \n",
    "ode.set_initial_value(state0_num, ts[0])                                     \n",
    "res = [state0_num]                                                              \n",
    "for t in ts[1:]:                                                             \n",
    "    ode.integrate(t)                                                            \n",
    "    if not ode.successful():                                                    \n",
    "        RuntimeError('The ODE solver failed.') \n",
    "    #y = ode.y                    \n",
    "    #n = scipy.linalg.norm(y)     \n",
    "    #y /= n                       \n",
    "    #ode.set_initial_value(y, t)  \n",
    "    res.append(ode.y)                                                           \n",
    "print(res[-1], np.linalg.norm(res[-1]))"
   ]
  }
 ],
 "metadata": {
  "kernelspec": {
   "display_name": "Python 3",
   "language": "python",
   "name": "python3"
  },
  "language_info": {
   "codemirror_mode": {
    "name": "ipython",
    "version": 3
   },
   "file_extension": ".py",
   "mimetype": "text/x-python",
   "name": "python",
   "nbconvert_exporter": "python",
   "pygments_lexer": "ipython3",
   "version": "3.4.2"
  }
 },
 "nbformat": 4,
 "nbformat_minor": 0
}
