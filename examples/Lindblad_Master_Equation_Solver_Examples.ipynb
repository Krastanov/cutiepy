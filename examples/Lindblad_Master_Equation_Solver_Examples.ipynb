{
 "cells": [
  {
   "cell_type": "markdown",
   "metadata": {},
   "source": [
    "### Table of Contents\n",
    "\n",
    "1. [Rabi Oscillations](#Rabi-Oscillations)\n",
    "    1. [Simulating the Full Hamiltonian](#Simulating-the-Full-Hamiltonian)\n",
    "    2. [With Rotating Wave Approximation](#With-Rotating-Wave-Approximation)\n",
    "        1. [With $\\gamma_1$ collapse](#With-$\\gamma_1$-collapse)\n",
    "        2. [With $\\gamma_2$ collapse](#With-$\\gamma_2$-collapse)\n",
    "2. [Coherent State in a Harmonic Oscillator](#Coherent-State-in-a-Harmonic-Oscillator)"
   ]
  },
  {
   "cell_type": "code",
   "execution_count": 1,
   "metadata": {
    "collapsed": false
   },
   "outputs": [],
   "source": [
    "from cutiepy import *\n",
    "%matplotlib inline\n",
    "import matplotlib.pyplot as plt\n",
    "import numpy as np\n",
    "\n",
    "# TODO: implement sparse Lindblad operator\n",
    "cutiepy.operators.SPARSITY_N_CUTOFF = 60"
   ]
  },
  {
   "cell_type": "markdown",
   "metadata": {},
   "source": [
    "# Rabi Oscillations\n",
    "\n",
    "$\\hat{H} = \\hat{H}_0 + \\Omega \\sin((\\omega_0+\\Delta)t) \\hat{\\sigma}_x$\n",
    "\n",
    "$\\hat{H}_0 = \\frac{\\omega_0}{2}\\hat{\\sigma}_z$"
   ]
  },
  {
   "cell_type": "code",
   "execution_count": 2,
   "metadata": {
    "collapsed": false
   },
   "outputs": [
    {
     "data": {
      "text/latex": [
       "$$\\text{Ket }{| {{0}}_{{\\tiny N\\normalsize 2}} \\rangle} \\text{ on the space }\\mathbb{C}^{2}\\text{ with numerical content: }$$\n",
       "$$\\begin{equation*}\\left(\\begin{array}{*{11}c}1.0\\\\0.0\\\\\\end{array}\\right)\\end{equation*}$$"
      ],
      "text/plain": [
       "'{0}_{\\\\tiny N\\\\normalsize 2}'"
      ]
     },
     "execution_count": 2,
     "metadata": {},
     "output_type": "execute_result"
    }
   ],
   "source": [
    "initial_state = basis(2, 0)\n",
    "initial_state"
   ]
  },
  {
   "cell_type": "code",
   "execution_count": 3,
   "metadata": {
    "collapsed": false
   },
   "outputs": [
    {
     "data": {
      "text/latex": [
       "$${\\left( {{0.5}\\tiny\\times\\normalsize{\\hat{σ}_{z}}}+{{0.005}\\tiny\\times\\normalsize{\\operatorname{sin}\\left( {{{1.002}\\tiny\\times\\normalsize{t}}} \\right)}\\tiny\\times\\normalsize{\\hat{σ}_{x}}} \\right)}$$"
      ],
      "text/plain": [
       "Add(Mul(0.5, 'σ_z'), Mul(0.005, sin(Mul(1.002, 't')), 'σ_x'))"
      ]
     },
     "execution_count": 3,
     "metadata": {},
     "output_type": "execute_result"
    }
   ],
   "source": [
    "ω0 = 1\n",
    "Δ = 0.002\n",
    "Ω = 0.005\n",
    "ts = 6*np.pi/Ω*np.linspace(0,1,120)\n",
    "H = ω0/2 * sigmaz() + Ω * sigmax() * sin((ω0+Δ)*t)\n",
    "H"
   ]
  },
  {
   "cell_type": "code",
   "execution_count": 4,
   "metadata": {
    "collapsed": false
   },
   "outputs": [
    {
     "name": "stderr",
     "output_type": "stream",
     "text": [
      "Generating cython code...\n",
      "Compiling cython code...\n",
      "Running cython code...\n",
      "Starting at 10/25 15:52:02.\n",
      "Finishing at 10/25 15:52:03.\n",
      "Total time: 0 seconds.\n",
      "Formatting the output...\n"
     ]
    }
   ],
   "source": [
    "res = mesolve(H, [], initial_state, ts)"
   ]
  },
  {
   "cell_type": "code",
   "execution_count": 5,
   "metadata": {
    "collapsed": false
   },
   "outputs": [],
   "source": [
    "σz_expect = expect(sigmaz(), res)"
   ]
  },
  {
   "cell_type": "code",
   "execution_count": 6,
   "metadata": {
    "collapsed": false
   },
   "outputs": [
    {
     "data": {
      "text/latex": [
       "$$\\text{Anonymous }\\text{Operator }{\\hat{\\tiny\\boxed{{O}_{30e67746...}}\\normalsize}_{}} \\text{ on the space }\\mathbb{C}^{2}\\text{ with numerical content: }$$\n",
       "$$\\begin{equation*}\\left(\\begin{array}{*{11}c}0.151 & (0.031-0.356j)\\\\(0.031+0.356j) & 0.849\\\\\\end{array}\\right)\\end{equation*}$$"
      ],
      "text/plain": [
       "'30e67746-c19b-469d-85c5-b359cd71330e'"
      ]
     },
     "execution_count": 6,
     "metadata": {},
     "output_type": "execute_result"
    }
   ],
   "source": [
    "res[20]"
   ]
  },
  {
   "cell_type": "code",
   "execution_count": 7,
   "metadata": {
    "collapsed": false
   },
   "outputs": [
    {
     "data": {
      "image/png": "[encoded data removed]",
      "text/plain": [
       "<matplotlib.figure.Figure at 0x7fd5a66159b0>"
      ]
     },
     "metadata": {},
     "output_type": "display_data"
    }
   ],
   "source": [
    "plt.plot(ts*Ω/np.pi, σz_expect, 'r.', label='numerical result')\n",
    "Ωp = (Ω**2+Δ**2)**0.5\n",
    "plt.plot(ts*Ω/np.pi, 1-(Ω/Ωp)**2*2*np.sin(Ωp*ts/2)**2, 'b-',\n",
    "         label=r'$1-2(\\Omega^\\prime/\\Omega)^2\\sin^2(\\Omega^\\prime t/2)$')\n",
    "plt.title(r'$\\langle\\sigma_z\\rangle$-vs-$t\\Omega/\\pi$ at '\n",
    "          r'$\\Delta/\\Omega=%.2f$, $\\omega_0/\\Omega=%.2f$'%(Δ/Ω, ω0/Ω))\n",
    "plt.ylim(-1,1)\n",
    "plt.legend(loc=3);"
   ]
  },
  {
   "cell_type": "markdown",
   "metadata": {},
   "source": [
    "## With Rotating Wave Approximation\n",
    "\n",
    "$\\hat{H}^\\prime = e^{i\\hat{H}_0 t}\\hat{H} e^{-i\\hat{H}_0 t} \\approx \\frac{\\Delta}{2} \\hat{\\sigma}_z + \\frac{\\Omega}{2} \\hat{\\sigma}_x$"
   ]
  },
  {
   "cell_type": "code",
   "execution_count": 8,
   "metadata": {
    "collapsed": false
   },
   "outputs": [
    {
     "data": {
      "text/latex": [
       "$${\\left( {{0.0025}\\tiny\\times\\normalsize{\\hat{σ}_{x}}}+{{0.001}\\tiny\\times\\normalsize{\\hat{σ}_{z}}} \\right)}$$"
      ],
      "text/plain": [
       "Add(Mul(0.0025, 'σ_x'), Mul(0.001, 'σ_z'))"
      ]
     },
     "execution_count": 8,
     "metadata": {},
     "output_type": "execute_result"
    }
   ],
   "source": [
    "Hp = Δ/2 * sigmaz() + Ω/2 * sigmax()\n",
    "Hp"
   ]
  },
  {
   "cell_type": "code",
   "execution_count": 9,
   "metadata": {
    "collapsed": false
   },
   "outputs": [
    {
     "name": "stderr",
     "output_type": "stream",
     "text": [
      "Generating cython code...\n",
      "Compiling cython code...\n",
      "Running cython code...\n",
      "Starting at 10/25 15:52:10.\n",
      "Finishing at 10/25 15:52:10.\n",
      "Total time: 0 seconds.\n",
      "Formatting the output...\n"
     ]
    }
   ],
   "source": [
    "res = mesolve(Hp, [], initial_state, ts)"
   ]
  },
  {
   "cell_type": "code",
   "execution_count": 10,
   "metadata": {
    "collapsed": true
   },
   "outputs": [],
   "source": [
    "σz_expect = expect(sigmaz(), res)"
   ]
  },
  {
   "cell_type": "code",
   "execution_count": 11,
   "metadata": {
    "collapsed": false
   },
   "outputs": [
    {
     "data": {
      "image/png": "[encoded data removed]",
      "text/plain": [
       "<matplotlib.figure.Figure at 0x7fd5a320e8d0>"
      ]
     },
     "metadata": {},
     "output_type": "display_data"
    }
   ],
   "source": [
    "plt.plot(ts*Ω/np.pi, σz_expect, 'r.', label='numerical result')\n",
    "Ωp = (Ω**2+Δ**2)**0.5\n",
    "plt.plot(ts*Ω/np.pi, 1-(Ω/Ωp)**2*2*np.sin(Ωp*ts/2)**2, 'b-',\n",
    "         label=r'$1-2(\\Omega^\\prime/\\Omega)^2\\sin^2(\\Omega^\\prime t/2)$')\n",
    "plt.title(r'$\\langle\\sigma_z\\rangle$-vs-$t\\Omega/\\pi$ at '\n",
    "          r'$\\Delta/\\Omega=%.2f$ in RWA'%(Δ/Ω))\n",
    "plt.ylim(-1,1)\n",
    "plt.legend(loc=3);"
   ]
  },
  {
   "cell_type": "markdown",
   "metadata": {},
   "source": [
    "### With $\\gamma_1$ collapse"
   ]
  },
  {
   "cell_type": "code",
   "execution_count": 12,
   "metadata": {
    "collapsed": false
   },
   "outputs": [
    {
     "data": {
      "text/latex": [
       "$${{0.03162277660168379}\\tiny\\times\\normalsize{\\hat{σ}_{-}}}$$"
      ],
      "text/plain": [
       "Mul(0.03162277660168379, 'σ_-')"
      ]
     },
     "execution_count": 12,
     "metadata": {},
     "output_type": "execute_result"
    }
   ],
   "source": [
    "γ1 = 0.2*Ω\n",
    "c1 = γ1**0.5 * sigmam()\n",
    "c1"
   ]
  },
  {
   "cell_type": "code",
   "execution_count": 13,
   "metadata": {
    "collapsed": false
   },
   "outputs": [
    {
     "name": "stderr",
     "output_type": "stream",
     "text": [
      "Generating cython code...\n",
      "Compiling cython code...\n",
      "Running cython code...\n",
      "Starting at 10/25 15:52:17.\n",
      "Finishing at 10/25 15:52:17.\n",
      "Total time: 0 seconds.\n",
      "Formatting the output...\n"
     ]
    }
   ],
   "source": [
    "res = mesolve(Hp, [c1], initial_state, ts)"
   ]
  },
  {
   "cell_type": "code",
   "execution_count": 14,
   "metadata": {
    "collapsed": true
   },
   "outputs": [],
   "source": [
    "σz_expect = expect(sigmaz(), res)"
   ]
  },
  {
   "cell_type": "code",
   "execution_count": 15,
   "metadata": {
    "collapsed": false
   },
   "outputs": [
    {
     "data": {
      "image/png": "[encoded data removed]",
      "text/plain": [
       "<matplotlib.figure.Figure at 0x7fd5a6e315f8>"
      ]
     },
     "metadata": {},
     "output_type": "display_data"
    }
   ],
   "source": [
    "plt.plot(ts*Ω/np.pi, σz_expect, 'r.', label='numerical result')\n",
    "plt.ylim(-1,1)\n",
    "plt.title(r'$\\langle\\sigma_z\\rangle$-vs-$t\\Omega/\\pi$ at '\n",
    "          r'$\\Delta/\\Omega=%.2f$ in RWA'%(Δ/Ω) + '\\n' +\n",
    "          r'with $\\gamma_1 \\hat{\\sigma}_-$ at $\\gamma_1=0.2\\Omega$')\n",
    "plt.hlines(0,0,ts[-1]*Ω/np.pi)\n",
    "plt.legend(loc=3);"
   ]
  },
  {
   "cell_type": "markdown",
   "metadata": {},
   "source": [
    "### With $\\gamma_2$ collapse"
   ]
  },
  {
   "cell_type": "code",
   "execution_count": 16,
   "metadata": {
    "collapsed": false
   },
   "outputs": [
    {
     "data": {
      "text/latex": [
       "$${{0.03162277660168379}\\tiny\\times\\normalsize{\\hat{σ}_{z}}}$$"
      ],
      "text/plain": [
       "Mul(0.03162277660168379, 'σ_z')"
      ]
     },
     "execution_count": 16,
     "metadata": {},
     "output_type": "execute_result"
    }
   ],
   "source": [
    "γ2 = 0.2*Ω\n",
    "c2 = γ2**0.5 * sigmaz()\n",
    "c2"
   ]
  },
  {
   "cell_type": "code",
   "execution_count": 17,
   "metadata": {
    "collapsed": false
   },
   "outputs": [
    {
     "name": "stderr",
     "output_type": "stream",
     "text": [
      "Generating cython code...\n",
      "Compiling cython code...\n",
      "Running cython code...\n",
      "Starting at 10/25 15:52:24.\n",
      "Finishing at 10/25 15:52:24.\n",
      "Total time: 0 seconds.\n",
      "Formatting the output...\n"
     ]
    }
   ],
   "source": [
    "res = mesolve(Hp, [c2], initial_state, ts)"
   ]
  },
  {
   "cell_type": "code",
   "execution_count": 18,
   "metadata": {
    "collapsed": true
   },
   "outputs": [],
   "source": [
    "σz_expect = expect(sigmaz(), res)"
   ]
  },
  {
   "cell_type": "code",
   "execution_count": 19,
   "metadata": {
    "collapsed": false
   },
   "outputs": [
    {
     "data": {
      "image/png": "[encoded data removed]",
      "text/plain": [
       "<matplotlib.figure.Figure at 0x7fd5a69bb898>"
      ]
     },
     "metadata": {},
     "output_type": "display_data"
    }
   ],
   "source": [
    "plt.plot(ts*Ω/np.pi, σz_expect, 'r.', label='numerical result')\n",
    "plt.ylim(-1,1)\n",
    "plt.title(r'$\\langle\\sigma_z\\rangle$-vs-$t\\Omega/\\pi$ at '\n",
    "          r'$\\Delta/\\Omega=%.2f$ in RWA'%(Δ/Ω) + '\\n' +\n",
    "          r'with $\\gamma_2 \\hat{\\sigma}_z$ at $\\gamma_2=0.2\\Omega$')\n",
    "plt.hlines(0,0,ts[-1]*Ω/np.pi)\n",
    "plt.legend(loc=3);"
   ]
  },
  {
   "cell_type": "markdown",
   "metadata": {},
   "source": [
    "# Coherent State in a Harmonic Oscillator\n",
    "\n",
    "\n",
    "$|\\alpha\\rangle$ evolving under $\\hat{H} = \\hat{n}$ coupled to a zero temperature heat bath $\\kappa = 0.5$"
   ]
  },
  {
   "cell_type": "code",
   "execution_count": 20,
   "metadata": {
    "collapsed": false
   },
   "outputs": [
    {
     "data": {
      "text/latex": [
       "$$\\text{Ket }{| {{\\tiny\\alpha\\normalsize 2.50}}_{{\\tiny N\\normalsize 40}} \\rangle} \\text{ on the space }\\mathbb{C}^{40}\\text{ with numerical content: }$$\n",
       "$$\\begin{equation*}\\left(\\begin{array}{*{11}c}0.044\\\\0.110\\\\0.194\\\\0.280\\\\0.350\\\\\\vdots\\\\3.661\\times10^{-08}\\\\1.525\\times10^{-08}\\\\6.270\\times10^{-09}\\\\2.543\\times10^{-09}\\\\1.018\\times10^{-09}\\\\\\end{array}\\right)\\end{equation*}$$"
      ],
      "text/plain": [
       "'{\\\\tiny\\\\alpha\\\\normalsize 2.50}_{\\\\tiny N\\\\normalsize 40}'"
      ]
     },
     "execution_count": 20,
     "metadata": {},
     "output_type": "execute_result"
    }
   ],
   "source": [
    "N_cutoff = 40\n",
    "α = 2.5\n",
    "initial_state = coherent(N_cutoff, α)\n",
    "initial_state"
   ]
  },
  {
   "cell_type": "code",
   "execution_count": 21,
   "metadata": {
    "collapsed": false
   },
   "outputs": [
    {
     "data": {
      "text/latex": [
       "$$\\text{Operator }{\\hat{{n}}_{{40}}} \\text{ on the space }\\mathbb{C}^{40}\\text{ with numerical content: }$$\n",
       "$$\\begin{equation*}\\left(\\begin{array}{*{11}c}0.0 & 0.0 & 0.0 & 0.0 & 0.0 & \\cdots & 0.0 & 0.0 & 0.0 & 0.0 & 0.0\\\\0.0 & 1.0 & 0.0 & 0.0 & 0.0 & \\cdots & 0.0 & 0.0 & 0.0 & 0.0 & 0.0\\\\0.0 & 0.0 & 2.0 & 0.0 & 0.0 & \\cdots & 0.0 & 0.0 & 0.0 & 0.0 & 0.0\\\\0.0 & 0.0 & 0.0 & 3.0 & 0.0 & \\cdots & 0.0 & 0.0 & 0.0 & 0.0 & 0.0\\\\0.0 & 0.0 & 0.0 & 0.0 & 4.0 & \\cdots & 0.0 & 0.0 & 0.0 & 0.0 & 0.0\\\\\\vdots & \\vdots & \\vdots & \\vdots & \\vdots & \\ddots & \\vdots & \\vdots & \\vdots & \\vdots & \\vdots\\\\0.0 & 0.0 & 0.0 & 0.0 & 0.0 & \\cdots & 35.0 & 0.0 & 0.0 & 0.0 & 0.0\\\\0.0 & 0.0 & 0.0 & 0.0 & 0.0 & \\cdots & 0.0 & 36.0 & 0.0 & 0.0 & 0.0\\\\0.0 & 0.0 & 0.0 & 0.0 & 0.0 & \\cdots & 0.0 & 0.0 & 37.0 & 0.0 & 0.0\\\\0.0 & 0.0 & 0.0 & 0.0 & 0.0 & \\cdots & 0.0 & 0.0 & 0.0 & 38.0 & 0.0\\\\0.0 & 0.0 & 0.0 & 0.0 & 0.0 & \\cdots & 0.0 & 0.0 & 0.0 & 0.0 & 39.0\\\\\\end{array}\\right)\\end{equation*}$$"
      ],
      "text/plain": [
       "'{n}_{40}'"
      ]
     },
     "execution_count": 21,
     "metadata": {},
     "output_type": "execute_result"
    }
   ],
   "source": [
    "H = num(N_cutoff)\n",
    "H"
   ]
  },
  {
   "cell_type": "code",
   "execution_count": 22,
   "metadata": {
    "collapsed": false
   },
   "outputs": [
    {
     "data": {
      "text/latex": [
       "$${{0.25}\\tiny\\times\\normalsize{\\hat{{a}}_{{40}}}}$$"
      ],
      "text/plain": [
       "Mul(0.25, '{a}_{40}')"
      ]
     },
     "execution_count": 22,
     "metadata": {},
     "output_type": "execute_result"
    }
   ],
   "source": [
    "κ = 0.5\n",
    "n_th = 0\n",
    "\n",
    "c_down = (κ * (1 + n_th))**2 * destroy(N_cutoff)\n",
    "c_down"
   ]
  },
  {
   "cell_type": "code",
   "execution_count": 23,
   "metadata": {
    "collapsed": false
   },
   "outputs": [
    {
     "name": "stderr",
     "output_type": "stream",
     "text": [
      "Generating cython code...\n",
      "Compiling cython code...\n",
      "Running cython code...\n",
      "Starting at 10/25 15:52:31.\n",
      "Finishing at 10/25 15:52:32.\n",
      "Total time: 0 seconds.\n",
      "Formatting the output...\n"
     ]
    }
   ],
   "source": [
    "ts = 2*np.pi*np.linspace(0,1,41)\n",
    "res = mesolve(H, [c_down], initial_state, ts)\n",
    "a = destroy(N_cutoff)\n",
    "a_expect = expect(a, res, keep_complex=True)"
   ]
  },
  {
   "cell_type": "code",
   "execution_count": 24,
   "metadata": {
    "collapsed": false
   },
   "outputs": [
    {
     "data": {
      "image/png": "[encoded data removed]",
      "text/plain": [
       "<matplotlib.figure.Figure at 0x7fd5a2b22278>"
      ]
     },
     "metadata": {},
     "output_type": "display_data"
    }
   ],
   "source": [
    "plt.figure(figsize=(4,4))\n",
    "plt.plot(np.real(a_expect), np.imag(a_expect), 'b-')\n",
    "for t, alpha in list(zip(ts,a_expect))[:40:4]:\n",
    "    plt.plot(np.real(alpha), np.imag(alpha), 'r.')\n",
    "    plt.text(np.real(alpha), np.imag(alpha), r'$t=%.1f\\pi$'%(t/np.pi), fontsize=14)\n",
    "plt.title(r'$\\langle\\hat{a}\\rangle$-vs-$t$')\n",
    "plt.ylabel(r'$\\mathcal{I}(\\alpha)$')\n",
    "plt.xlabel(r'$\\mathcal{R}(\\alpha)$')\n",
    "l = abs(a_expect[0])\n",
    "plt.xlim(-l,l)\n",
    "plt.ylim(-l,l);"
   ]
  }
 ],
 "metadata": {
  "kernelspec": {
   "display_name": "Python 3",
   "language": "python",
   "name": "python3"
  },
  "language_info": {
   "codemirror_mode": {
    "name": "ipython",
    "version": 3
   },
   "file_extension": ".py",
   "mimetype": "text/x-python",
   "name": "python",
   "nbconvert_exporter": "python",
   "pygments_lexer": "ipython3",
   "version": "3.4.2"
  }
 },
 "nbformat": 4,
 "nbformat_minor": 0
}
